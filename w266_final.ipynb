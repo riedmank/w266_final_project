{
  "cells": [
    {
      "cell_type": "code",
      "execution_count": null,
      "metadata": {
        "id": "zbilkJCggfjG"
      },
      "outputs": [],
      "source": [
        "# !pip install -q transformers"
      ]
    },
    {
      "cell_type": "code",
      "execution_count": null,
      "metadata": {
        "id": "iE10wxwHgMJp",
        "colab": {
          "base_uri": "https://localhost:8080/",
          "height": 777,
          "referenced_widgets": [
            "8215c962f85c45fbbb00a917fdbe3a0a",
            "0f43d99bd6494203ad3cf8e661d99be5",
            "adc826e645e4483da667172513da9c42",
            "6558e67f6fa8427b9e90366ee668ae0f",
            "734458fca1104b8d89dd8509bf4ba799",
            "33dd119b7b7d46dcacc139e7a4946d0d",
            "2ed1f06219ae4db4b04aa256229b536a",
            "7f255e1f09cb42f3b1179ef5df60320a",
            "4c89a3711a8c4709a0fc3d868afbe3cc",
            "b3a0554242be448ba169912a632659bd",
            "effc5c82b9df4d1082f90aafcd8c6d73",
            "64c7bf258ffd4a9fafe3d0dbd7dc3862",
            "7304b7adcbd0428dbeb94be81051e225",
            "36e1c4bfb16a4cad8e030471e33401c9",
            "c74cd1a7968c4421aced56b36f81ed30",
            "04045cbb14fd40b6ab83b32d8793e3ef",
            "327a2521a2bc488684dbd7f61a2e5309",
            "747031a11697408e83624d56267194c3",
            "6dd8bbff21854e2482f3602aae1ae2e8",
            "abb0850c9ce746bd9138c8042652aa54",
            "e7c2d9ddf2f44976909962a2307d7e21",
            "aa68d86d8dce45b58a447d691346e99f",
            "f19898896bbd42e4971c1a3cc78a78b5",
            "950b86afc11443d38fb5f02d92291ab2",
            "85ef9c8b71e549a4bf8e876bdcadf14b",
            "87f795a114484604a3628b395cd6e474",
            "6c7d61f1878845228a7c04d8442c6f73",
            "384fa981a6114c8f928ee67684efab57",
            "4a38e0403ec449e1913955eac6876ff8",
            "556aaf259a9f473689673d5bea2a0343",
            "25263163d9204047a735907c333a6586",
            "e56f4bedc88943fa873cbabc11f88e82",
            "00762855638d409b82baaaef62964850",
            "cba708993b6545cabed4092f673bbeb4",
            "257c8b31c1d9440a8ca932f634babc26",
            "502e6d45f2a845d28fe127160afdcf7f",
            "ea12aa9750044e7b9e7f4b47cddc870c",
            "f25ff9cb3edb4e47b69136704aa2cbdd",
            "62ba8fad313d49f1a732347a0f6d68a3",
            "b951aa6cc567464b9d35af38df7e3edb",
            "77a77ad18c2c4ddd9607c09f3f047e61",
            "e481edee6609407391cc5172f352ded6",
            "ac3d91b5d77d484d96b3507a5771ddd5",
            "865144bd9d894e588581c9a4f3b4371a",
            "f34459009a6d41f595da5ab2001133ab",
            "a25aec6c1a9e4af5a32030f7235fca32",
            "52c8ac08f98a4a749003f9b462c428d0",
            "a193c1837ac94061a1a3002b59d3f48a",
            "272b1a59a2f642a7a5bcbdb0fe1e46bb",
            "9b75533c56684002a37ba7dfbc422376",
            "b902ee2749e3429a9e0104f9a92914f2",
            "89fb56ebb4324c9db5b2520d259f733e",
            "aad580f7a99647bcbe261e40dfb888b4",
            "2961e34535b348089074986cba6e7dc8",
            "b08d0100031141e292c6eaebeee51bb1",
            "a8d7448ec5344648a1d68ff5d0daff0a",
            "314ad3f17308409388d64057987e978f",
            "b728d43eaec84e849079a7f6cb6259b5",
            "2bf11bb6b3344928a3d624950d90cc6e",
            "8f4c9fb742ca4a91abfba72dac119058",
            "069fd985f98a4e3383e48a0db3d48961",
            "3aa2fdd30b61444e92b2a37f5e5a3dbd",
            "721e55e38e8d4286b6b8522b5bb4e328",
            "95c897d13d74444db5f2033e3a54aa2b",
            "b29ad1005f444750b02f811bd0f8029a",
            "5c35100a48444f34a59c24da6412e9e2",
            "7e0e6434909b49b487b9e557440fbf8c",
            "69522a63246a4c5180cc727a9bbb6d4f",
            "44902ad2504041bd8459812d447a1ad7",
            "a35ef0540ba24043bbf744c6eff3e47a",
            "8a7c9f8a998840bd9db0b5729fc1778c",
            "35fc66b954c6453abd239854d7158d7e",
            "287f4aed938747e48824a47f058f3e87",
            "0d8346054cf4472f890b251e49870a64",
            "af2f1918baed45f49ce95e390892e170",
            "cb3ba312d71246e7b7c31d3e1aa51945",
            "0dd1f8845584484ba9115aeaec71c57b",
            "05de72b2c04f4c4e8f07208da3c927ba",
            "32912a8e7c5c4545a6a3a82afc54ec3b",
            "39c724296a014691823b437e217c0919",
            "e92a5f4c9854438ea16f208c15aa93f3",
            "1dcb1b68f2344557af3888b0766f47fb",
            "a5b59c0d4dd841b6b9c4d91925f2a6e9",
            "6e76bc84dd564c55afc544fa14f2e5e1",
            "259dd656f8de4bc389ed57e6f208389b",
            "a88c0132f4d244358a3c74cafe81f762",
            "faa07cf192ff42689aa97a8e7e654a9d",
            "9e7ba20239084d5c8dc0c8ada52ad126",
            "9711acbfbacc41c68d93d65c9cac898b",
            "870c32c743e74c0eafe15484e34fdc50",
            "10642283b46448129b3c0b755fa2f4c6",
            "cde692d4e13f40f6b915f753ea3c1f76",
            "5c97e37025584c46845f6d836611f701",
            "5d6159d08a9248a382d347d5225a69c1",
            "d1ac93a609f74706bc133186c65b0d1b",
            "62ade7cfe2e24d1eb3e9b20b03c6c758",
            "c36545be4f8f48fcae0bd33bd2292c10",
            "ebb391acc3bd4ab499fcaf0ce32c6559",
            "ebf3fe5b60fa48478af89060d3372f35",
            "c5af184f17034840a30fd5f4b85dbfc7",
            "fa7120cd1f13443e972d5b30668a17e1",
            "9f47e34b96b4425bbbd14f8fec4a4728",
            "8ac29db31d77427790b8d7d7cf47fcb1",
            "bd3784730a40494fb9d8e9092025fa1c",
            "6e791f4c11e24355b289db6094e56d8c",
            "9bf43f0d16214c1099786bf5241fe3be",
            "0a792aea05e54182b1aac64d7c352b08",
            "eea189beec414393a7b995d93c8be56c",
            "c23ddaf4abb647989d2368d222a8281b",
            "6a99b452a02d4c549f7770830889b885",
            "fab17ae47bee4008a14d988ae92f5fc1",
            "47b0e1f4b833418ba6f031b1b93fa839",
            "6cbb72dcf992488bb925ed541be492c0",
            "2bfb28befc6d4209847ea3dc7780ff07",
            "64831da67e224e99a3c0e9776c42f829",
            "13ddf5b708a94e2ba658922bfd8fd4d5",
            "53b850082ca74a839b34b8d2e1926fe4",
            "5478d85698ea4a2483016988b7047dc4",
            "01689cad19a04429a7c2bc4f1ce1ec6d",
            "0bf0a66ec27a443e8944f4cf875b972d",
            "9f0d947156f04d51ae44e268d0da3bcd",
            "d02a8c1706704679a5669bf52139214c",
            "7ff242a179374df8b5db17d3219984da",
            "65b5b267361a4a5a8030b94fbbcbb0e0",
            "284f0254503e44ee81bf55ecb50f1214",
            "f53179e1b688444d86c696d952f22aed",
            "1f91ada67ba74968abe08ab8549e599b",
            "5fa288efc8cb44188b178d8f9812dffd",
            "9baa2a5931ce4a619c4a3b7202a7887d",
            "28fbee25d6fb4987bdc9d1ba2b7284fb",
            "62fe3e05797e422782bed53bf666bd31",
            "2ae0e40e7d3c427db7071a7692b3c739",
            "5f398d88bbab46428c98412c4ba1ccc8",
            "ffd9f627542f4f6ca68503feef934d9b",
            "0070e5b0179e41ad8fadeb6e335be5e2",
            "cb3308a778f848408be7ebbfd1e1b507",
            "a4a7626d09b44bfca5affae43fdd316c",
            "e0c9b3d30da24c5a99c8684a4abb6495",
            "251c099404424ed4aff42e6eaf2dce6c",
            "4934c7baf33149a4b8ce7b6fd356a43c",
            "ca51012c597641bf8c34730806654032",
            "59c95ce0484544a9a2e8216e56259411",
            "3b1f3d85940044e1af9514e862f7f08b",
            "d79d3f2324b940ac9c0ed7b7086ccdda",
            "18811ff279ba45b6a1734cddbe28f6e8",
            "25c6ebcb3a154b3496e8b593b3658e4e",
            "cad1067664e64b9991509e49ce07cb8b",
            "070c8c82383d4496af2da9229565f90e",
            "3aa3951cc11e4858bdf4b2405f5a0e82",
            "e8b97a47095044199138dc7401fffde2",
            "eb3d270d4f4c4e7faa7d72817f65373e",
            "57fcba955c5d49e8aa712f51b3315ab0",
            "cb26940e7ed743afbabbf468025095c1",
            "9fc54fdd104549ceb619c2f6bd2185b3",
            "6989ab35569d461081dcbcd7e679bd84",
            "8de043184e8b4a6493b22de10bb36424",
            "729ad1f521684e049682e14dee6edd1d",
            "ed515a7c44c847f19f753918df3695c6",
            "29663b203a424a46aa6a29167d4a57a8",
            "8f109131299c4e7f8065542b2dbd8022",
            "727dffb972644d14b269d307ea565bdd",
            "7e828b11c81e4acda51d37b674a213a1",
            "85b6c5c79f064637832044db507d30fd",
            "2f43ba4776f841cd8cfcc5cb125aa8d1",
            "7323adebf0064874b951a5cfa06139b1"
          ]
        },
        "outputId": "85e7484f-e4ac-40a7-d6fa-861815bbfa69"
      },
      "outputs": [
        {
          "output_type": "display_data",
          "data": {
            "text/plain": [
              "tokenizer_config.json:   0%|          | 0.00/29.0 [00:00<?, ?B/s]"
            ],
            "application/vnd.jupyter.widget-view+json": {
              "version_major": 2,
              "version_minor": 0,
              "model_id": "8215c962f85c45fbbb00a917fdbe3a0a"
            }
          },
          "metadata": {}
        },
        {
          "output_type": "display_data",
          "data": {
            "text/plain": [
              "vocab.txt:   0%|          | 0.00/213k [00:00<?, ?B/s]"
            ],
            "application/vnd.jupyter.widget-view+json": {
              "version_major": 2,
              "version_minor": 0,
              "model_id": "64c7bf258ffd4a9fafe3d0dbd7dc3862"
            }
          },
          "metadata": {}
        },
        {
          "output_type": "display_data",
          "data": {
            "text/plain": [
              "tokenizer.json:   0%|          | 0.00/436k [00:00<?, ?B/s]"
            ],
            "application/vnd.jupyter.widget-view+json": {
              "version_major": 2,
              "version_minor": 0,
              "model_id": "f19898896bbd42e4971c1a3cc78a78b5"
            }
          },
          "metadata": {}
        },
        {
          "output_type": "display_data",
          "data": {
            "text/plain": [
              "config.json:   0%|          | 0.00/570 [00:00<?, ?B/s]"
            ],
            "application/vnd.jupyter.widget-view+json": {
              "version_major": 2,
              "version_minor": 0,
              "model_id": "cba708993b6545cabed4092f673bbeb4"
            }
          },
          "metadata": {}
        },
        {
          "output_type": "display_data",
          "data": {
            "text/plain": [
              "model.safetensors:   0%|          | 0.00/436M [00:00<?, ?B/s]"
            ],
            "application/vnd.jupyter.widget-view+json": {
              "version_major": 2,
              "version_minor": 0,
              "model_id": "f34459009a6d41f595da5ab2001133ab"
            }
          },
          "metadata": {}
        },
        {
          "output_type": "stream",
          "name": "stderr",
          "text": [
            "Some weights of the PyTorch model were not used when initializing the TF 2.0 model TFBertModel: ['cls.seq_relationship.weight', 'cls.seq_relationship.bias', 'cls.predictions.transform.LayerNorm.bias', 'cls.predictions.transform.dense.weight', 'cls.predictions.transform.LayerNorm.weight', 'cls.predictions.transform.dense.bias', 'cls.predictions.bias']\n",
            "- This IS expected if you are initializing TFBertModel from a PyTorch model trained on another task or with another architecture (e.g. initializing a TFBertForSequenceClassification model from a BertForPreTraining model).\n",
            "- This IS NOT expected if you are initializing TFBertModel from a PyTorch model that you expect to be exactly identical (e.g. initializing a TFBertForSequenceClassification model from a BertForSequenceClassification model).\n",
            "All the weights of TFBertModel were initialized from the PyTorch model.\n",
            "If your task is similar to the task the model of the checkpoint was trained on, you can already use TFBertModel for predictions without further training.\n"
          ]
        },
        {
          "output_type": "display_data",
          "data": {
            "text/plain": [
              "config.json:   0%|          | 0.00/480 [00:00<?, ?B/s]"
            ],
            "application/vnd.jupyter.widget-view+json": {
              "version_major": 2,
              "version_minor": 0,
              "model_id": "a8d7448ec5344648a1d68ff5d0daff0a"
            }
          },
          "metadata": {}
        },
        {
          "output_type": "display_data",
          "data": {
            "text/plain": [
              "vocab.json:   0%|          | 0.00/899k [00:00<?, ?B/s]"
            ],
            "application/vnd.jupyter.widget-view+json": {
              "version_major": 2,
              "version_minor": 0,
              "model_id": "7e0e6434909b49b487b9e557440fbf8c"
            }
          },
          "metadata": {}
        },
        {
          "output_type": "display_data",
          "data": {
            "text/plain": [
              "merges.txt:   0%|          | 0.00/456k [00:00<?, ?B/s]"
            ],
            "application/vnd.jupyter.widget-view+json": {
              "version_major": 2,
              "version_minor": 0,
              "model_id": "05de72b2c04f4c4e8f07208da3c927ba"
            }
          },
          "metadata": {}
        },
        {
          "output_type": "display_data",
          "data": {
            "text/plain": [
              "tokenizer.json:   0%|          | 0.00/1.36M [00:00<?, ?B/s]"
            ],
            "application/vnd.jupyter.widget-view+json": {
              "version_major": 2,
              "version_minor": 0,
              "model_id": "9711acbfbacc41c68d93d65c9cac898b"
            }
          },
          "metadata": {}
        },
        {
          "output_type": "display_data",
          "data": {
            "text/plain": [
              "model.safetensors:   0%|          | 0.00/331M [00:00<?, ?B/s]"
            ],
            "application/vnd.jupyter.widget-view+json": {
              "version_major": 2,
              "version_minor": 0,
              "model_id": "c5af184f17034840a30fd5f4b85dbfc7"
            }
          },
          "metadata": {}
        },
        {
          "output_type": "stream",
          "name": "stderr",
          "text": [
            "Some weights of the PyTorch model were not used when initializing the TF 2.0 model TFRobertaModel: ['lm_head.layer_norm.weight', 'lm_head.dense.weight', 'lm_head.bias', 'lm_head.dense.bias', 'lm_head.layer_norm.bias']\n",
            "- This IS expected if you are initializing TFRobertaModel from a PyTorch model trained on another task or with another architecture (e.g. initializing a TFBertForSequenceClassification model from a BertForPreTraining model).\n",
            "- This IS NOT expected if you are initializing TFRobertaModel from a PyTorch model that you expect to be exactly identical (e.g. initializing a TFBertForSequenceClassification model from a BertForSequenceClassification model).\n",
            "All the weights of TFRobertaModel were initialized from the PyTorch model.\n",
            "If your task is similar to the task the model of the checkpoint was trained on, you can already use TFRobertaModel for predictions without further training.\n"
          ]
        },
        {
          "output_type": "display_data",
          "data": {
            "text/plain": [
              "tokenizer_config.json:   0%|          | 0.00/28.0 [00:00<?, ?B/s]"
            ],
            "application/vnd.jupyter.widget-view+json": {
              "version_major": 2,
              "version_minor": 0,
              "model_id": "fab17ae47bee4008a14d988ae92f5fc1"
            }
          },
          "metadata": {}
        },
        {
          "output_type": "display_data",
          "data": {
            "text/plain": [
              "vocab.txt:   0%|          | 0.00/232k [00:00<?, ?B/s]"
            ],
            "application/vnd.jupyter.widget-view+json": {
              "version_major": 2,
              "version_minor": 0,
              "model_id": "d02a8c1706704679a5669bf52139214c"
            }
          },
          "metadata": {}
        },
        {
          "output_type": "display_data",
          "data": {
            "text/plain": [
              "tokenizer.json:   0%|          | 0.00/466k [00:00<?, ?B/s]"
            ],
            "application/vnd.jupyter.widget-view+json": {
              "version_major": 2,
              "version_minor": 0,
              "model_id": "5f398d88bbab46428c98412c4ba1ccc8"
            }
          },
          "metadata": {}
        },
        {
          "output_type": "display_data",
          "data": {
            "text/plain": [
              "config.json:   0%|          | 0.00/483 [00:00<?, ?B/s]"
            ],
            "application/vnd.jupyter.widget-view+json": {
              "version_major": 2,
              "version_minor": 0,
              "model_id": "d79d3f2324b940ac9c0ed7b7086ccdda"
            }
          },
          "metadata": {}
        },
        {
          "output_type": "display_data",
          "data": {
            "text/plain": [
              "model.safetensors:   0%|          | 0.00/268M [00:00<?, ?B/s]"
            ],
            "application/vnd.jupyter.widget-view+json": {
              "version_major": 2,
              "version_minor": 0,
              "model_id": "6989ab35569d461081dcbcd7e679bd84"
            }
          },
          "metadata": {}
        },
        {
          "output_type": "stream",
          "name": "stderr",
          "text": [
            "Some weights of the PyTorch model were not used when initializing the TF 2.0 model TFDistilBertModel: ['vocab_layer_norm.bias', 'vocab_projector.bias', 'vocab_transform.weight', 'vocab_transform.bias', 'vocab_layer_norm.weight']\n",
            "- This IS expected if you are initializing TFDistilBertModel from a PyTorch model trained on another task or with another architecture (e.g. initializing a TFBertForSequenceClassification model from a BertForPreTraining model).\n",
            "- This IS NOT expected if you are initializing TFDistilBertModel from a PyTorch model that you expect to be exactly identical (e.g. initializing a TFBertForSequenceClassification model from a BertForSequenceClassification model).\n",
            "All the weights of TFDistilBertModel were initialized from the PyTorch model.\n",
            "If your task is similar to the task the model of the checkpoint was trained on, you can already use TFDistilBertModel for predictions without further training.\n"
          ]
        }
      ],
      "source": [
        "from transformers import BertTokenizer, TFBertModel, TFDistilBertModel, DistilBertTokenizer, AutoTokenizer, TFAutoModel\n",
        "\n",
        "bert_tokenizer = BertTokenizer.from_pretrained('bert-base-cased')\n",
        "bert_base_cased = TFBertModel.from_pretrained('bert-base-cased')\n",
        "\n",
        "distilroberta_tokenizer = AutoTokenizer.from_pretrained('distilroberta-base')\n",
        "distilroberta = TFAutoModel.from_pretrained('distilroberta-base')\n",
        "\n",
        "distilbert_tokenizer = DistilBertTokenizer.from_pretrained(\"distilbert-base-uncased\")\n",
        "distilbert = TFDistilBertModel.from_pretrained(\"distilbert-base-uncased\")"
      ]
    },
    {
      "cell_type": "code",
      "execution_count": null,
      "metadata": {
        "colab": {
          "base_uri": "https://localhost:8080/"
        },
        "id": "PxH_n8stW4tz",
        "outputId": "64b78455-ecea-4877-a8cb-1ae934675b11"
      },
      "outputs": [
        {
          "output_type": "execute_result",
          "data": {
            "text/plain": [
              "True"
            ]
          },
          "metadata": {},
          "execution_count": 2
        }
      ],
      "source": [
        "import torch\n",
        "torch.cuda.is_available()"
      ]
    },
    {
      "cell_type": "code",
      "execution_count": null,
      "metadata": {
        "colab": {
          "base_uri": "https://localhost:8080/"
        },
        "id": "ZouajV6dlU6Z",
        "outputId": "adbeddce-9a59-4315-b3c4-1cf44d307015"
      },
      "outputs": [
        {
          "output_type": "stream",
          "name": "stdout",
          "text": [
            "Mounted at /content/drive/\n"
          ]
        }
      ],
      "source": [
        "import numpy as np\n",
        "import pandas as pd\n",
        "import sklearn as sk\n",
        "from sklearn.model_selection import train_test_split\n",
        "from sklearn.utils import shuffle\n",
        "from sklearn.metrics import classification_report\n",
        "import os\n",
        "import csv\n",
        "from functools import reduce\n",
        "\n",
        "import tensorflow as tf\n",
        "from tensorflow import keras\n",
        "from transformers import logging\n",
        "logging.set_verbosity_error()\n",
        "\n",
        "import seaborn as sns\n",
        "import matplotlib.pyplot as plt\n",
        "\n",
        "from google.colab import drive\n",
        "drive.mount('/content/drive/')"
      ]
    },
    {
      "cell_type": "markdown",
      "metadata": {
        "id": "UUGX9-_c9qoU"
      },
      "source": [
        "#Create training and evaluation data\n",
        "\n",
        "This code I executed only once to create the training and evaluation datasets. I wanted to ensure that I was training and evaluating each model on the same data."
      ]
    },
    {
      "cell_type": "code",
      "execution_count": null,
      "metadata": {
        "id": "pzAH_1FtgZij"
      },
      "outputs": [],
      "source": [
        "# read data\n",
        "file_path_fake = '/content/drive/MyDrive/archive/DataSet_Misinfo_FAKE.csv'\n",
        "file_path_true = '/content/drive/MyDrive/archive/DataSet_Misinfo_TRUE.csv'\n",
        "file_path_rus = '/content/drive/MyDrive/archive/EXTRA_RussianPropagandaSubset.csv'\n",
        "\n",
        "input_text_fake = pd.read_csv(file_path_fake)\n",
        "input_text_true = pd.read_csv(file_path_true)\n",
        "input_text_rus = pd.read_csv(file_path_rus)"
      ]
    },
    {
      "cell_type": "code",
      "execution_count": null,
      "metadata": {
        "id": "PkBx1sQPFykc"
      },
      "outputs": [],
      "source": [
        "# add labels\n",
        "input_text_fake.insert(input_text_fake.shape[1], 'label', 1)\n",
        "input_text_true.insert(input_text_true.shape[1], 'label', 0)\n",
        "input_text_rus.insert(input_text_rus.shape[1], 'label', 1)"
      ]
    },
    {
      "cell_type": "code",
      "execution_count": null,
      "metadata": {
        "id": "zEIHZsWSkZA5"
      },
      "outputs": [],
      "source": [
        "input_text_true['text'][0]"
      ]
    },
    {
      "cell_type": "code",
      "execution_count": null,
      "metadata": {
        "id": "Ue8QLx3WlA5a"
      },
      "outputs": [],
      "source": [
        "input_text_fake['text'][0]"
      ]
    },
    {
      "cell_type": "code",
      "execution_count": null,
      "metadata": {
        "id": "RS_icsKO5sLY"
      },
      "outputs": [],
      "source": [
        "input_text_rus['text'][0]"
      ]
    },
    {
      "cell_type": "code",
      "execution_count": null,
      "metadata": {
        "id": "rEcUCSxi_-8_"
      },
      "outputs": [],
      "source": [
        "# shuffle input\n",
        "input_text_fake = shuffle(input_text_fake)\n",
        "input_text_true = shuffle(input_text_true)\n",
        "input_text_rus = shuffle(input_text_rus)"
      ]
    },
    {
      "cell_type": "code",
      "execution_count": null,
      "metadata": {
        "id": "TupRH8qx95es"
      },
      "outputs": [],
      "source": [
        "# grab 10k records for pretraining\n",
        "input_text_fake_train = input_text_fake[0:5000]\n",
        "input_text_true_train = input_text_true[0:5000]\n",
        "\n",
        "print('Train shape:')\n",
        "print(input_text_fake_train.shape)\n",
        "print(input_text_true_train.shape)\n",
        "\n",
        "input_text = pd.concat([input_text_fake_train, input_text_true_train], ignore_index=True)\n",
        "input_text = input_text[['text', 'label']]\n",
        "input_text = input_text.astype(str)\n",
        "\n",
        "input_text.to_csv('/content/drive/MyDrive/training/input_text.csv', index=False)"
      ]
    },
    {
      "cell_type": "code",
      "execution_count": null,
      "metadata": {
        "id": "zSc8oKEJ_34N"
      },
      "outputs": [],
      "source": [
        "# grab 15k records for evaluation\n",
        "input_text_fake_eval = input_text_fake[10000:15000]\n",
        "input_text_true_eval = input_text_true[10000:15000]\n",
        "input_text_rus_eval = input_text_rus[0:5000]\n",
        "\n",
        "print('Eval shape:')\n",
        "print(input_text_fake_eval.shape)\n",
        "print(input_text_true_eval.shape)\n",
        "print(input_text_rus_eval.shape)\n",
        "\n",
        "eval_text = pd.concat([input_text_fake_eval, input_text_true_eval, input_text_rus_eval], ignore_index=True)\n",
        "eval_text = eval_text[['text', 'label']]\n",
        "eval_text = eval_text.astype(str)\n",
        "\n",
        "eval_text.to_csv('/content/drive/MyDrive/evaluation/eval_text.csv', index=False)"
      ]
    },
    {
      "cell_type": "markdown",
      "metadata": {
        "id": "7aWorzp_oBuQ"
      },
      "source": [
        "#Model Pretraining"
      ]
    },
    {
      "cell_type": "code",
      "execution_count": null,
      "metadata": {
        "id": "QPeM-5_G-fsx"
      },
      "outputs": [],
      "source": [
        "input_text = pd.read_csv('/content/drive/MyDrive/training/input_text.csv')\n",
        "\n",
        "input_text = input_text.astype({'text': str, 'label': bool})"
      ]
    },
    {
      "cell_type": "code",
      "execution_count": null,
      "metadata": {
        "colab": {
          "base_uri": "https://localhost:8080/"
        },
        "id": "t1jurWHk7V_h",
        "outputId": "27572cec-5ea1-4c4c-f982-b46001e049ad"
      },
      "outputs": [
        {
          "output_type": "stream",
          "name": "stdout",
          "text": [
            "                                                text  label\n",
            "0  Wow! Republicans had a chance to stand up to t...   True\n",
            "1  Who needs family when you have a neighborhood ...   True\n",
            "2  West Virginia is solid Trump country. The argu...   True\n",
            "3  Chart Of The Day: Wealth Of the Top 0.1% Now E...   True\n",
            "4  Terrorists attacked Brussels, Belgium in a tra...   True\n"
          ]
        }
      ],
      "source": [
        "print(input_text.head())"
      ]
    },
    {
      "cell_type": "code",
      "execution_count": null,
      "metadata": {
        "id": "OsWd_o-ASPLc"
      },
      "outputs": [],
      "source": [
        "train_texts, test_texts, train_labels, test_labels = train_test_split(input_text['text'], input_text['label'], test_size=0.1)"
      ]
    },
    {
      "cell_type": "code",
      "execution_count": null,
      "metadata": {
        "colab": {
          "base_uri": "https://localhost:8080/"
        },
        "id": "4ctSRp8v3ngO",
        "outputId": "7d93f391-8ae9-4066-ffb2-868f8fc54d8b"
      },
      "outputs": [
        {
          "output_type": "stream",
          "name": "stdout",
          "text": [
            "(9000,)\n",
            "(1000,)\n"
          ]
        }
      ],
      "source": [
        "print(train_labels.shape)\n",
        "print(test_labels.shape)"
      ]
    },
    {
      "cell_type": "markdown",
      "metadata": {
        "id": "uJXhSqZJ8DSP"
      },
      "source": [
        "## Model parameters\n",
        "I fine tuned each model using one set of parameters and then restarted my instance in order to free up resources for the next set of parameters."
      ]
    },
    {
      "cell_type": "code",
      "execution_count": null,
      "metadata": {
        "id": "FLwWq0Gt4fWW"
      },
      "outputs": [],
      "source": [
        "# 'small' model hyperparameters\n",
        "max_length = 200\n",
        "batch_size = 4\n",
        "epochs = 2"
      ]
    },
    {
      "cell_type": "code",
      "execution_count": null,
      "metadata": {
        "id": "5As7fGKS778x"
      },
      "outputs": [],
      "source": [
        "# 'small' model hyperparameters\n",
        "max_length = 200\n",
        "batch_size = 8\n",
        "epochs = 2"
      ]
    },
    {
      "cell_type": "code",
      "execution_count": null,
      "metadata": {
        "id": "igMhcUV77_UG"
      },
      "outputs": [],
      "source": [
        "# 'large' model hyperparameters\n",
        "max_length = 500\n",
        "batch_size = 4\n",
        "epochs = 2"
      ]
    },
    {
      "cell_type": "code",
      "execution_count": null,
      "metadata": {
        "id": "I6bTKgVj0Or_"
      },
      "outputs": [],
      "source": [
        "# 'large' model hyperparameters\n",
        "max_length = 500\n",
        "batch_size = 8\n",
        "epochs = 2"
      ]
    },
    {
      "cell_type": "code",
      "execution_count": null,
      "metadata": {
        "id": "LdST6aM75kUQ"
      },
      "outputs": [],
      "source": [
        "base_train_encodings = bert_tokenizer(list(train_texts), truncation=True, padding=True, max_length=max_length, return_tensors='tf')\n",
        "base_train_inputs = [base_train_encodings.input_ids,\n",
        "                    base_train_encodings.token_type_ids,\n",
        "                    base_train_encodings.attention_mask]\n",
        "\n",
        "base_test_encodings = bert_tokenizer(list(test_texts), truncation=True, padding=True, max_length=max_length, return_tensors='tf')\n",
        "base_test_inputs = [base_test_encodings.input_ids,\n",
        "                    base_test_encodings.token_type_ids,\n",
        "                    base_test_encodings.attention_mask]"
      ]
    },
    {
      "cell_type": "code",
      "execution_count": null,
      "metadata": {
        "id": "uFjxXi2RomAB"
      },
      "outputs": [],
      "source": [
        "distilroberta_train_encodings = distilroberta_tokenizer(list(train_texts), truncation=True, padding=True, max_length=max_length, return_tensors='tf')\n",
        "distilroberta_train_inputs = [distilroberta_train_encodings.input_ids,\n",
        "                              distilroberta_train_encodings.attention_mask]\n",
        "\n",
        "distilroberta_test_encodings = distilroberta_tokenizer(list(test_texts), truncation=True, padding=True, max_length=max_length, return_tensors='tf')\n",
        "distilroberta_test_inputs = [distilroberta_test_encodings.input_ids,\n",
        "                             distilroberta_test_encodings.attention_mask]"
      ]
    },
    {
      "cell_type": "code",
      "execution_count": null,
      "metadata": {
        "id": "NBA2yt2AooGB"
      },
      "outputs": [],
      "source": [
        "distilbert_train_encodings = distilbert_tokenizer(list(train_texts), truncation=True, padding=True, max_length=max_length, return_tensors='tf')\n",
        "distilbert_train_inputs = [distilbert_train_encodings.input_ids,\n",
        "                           distilbert_train_encodings.attention_mask]\n",
        "\n",
        "distilbert_test_encodings = distilbert_tokenizer(list(test_texts), truncation=True, padding=True, max_length=max_length, return_tensors='tf')\n",
        "distilbert_test_inputs = [distilbert_test_encodings.input_ids,\n",
        "                          distilbert_test_encodings.attention_mask]"
      ]
    },
    {
      "cell_type": "code",
      "execution_count": null,
      "metadata": {
        "id": "IhtRWSHkopt1"
      },
      "outputs": [],
      "source": [
        "train_labels = np.array(train_labels)\n",
        "test_labels = np.array(test_labels)"
      ]
    },
    {
      "cell_type": "code",
      "execution_count": null,
      "metadata": {
        "id": "Pby32ptB3xz8"
      },
      "outputs": [],
      "source": [
        "train_labels = train_labels.astype(int)\n",
        "test_labels = test_labels.astype(int)"
      ]
    },
    {
      "cell_type": "code",
      "execution_count": null,
      "metadata": {
        "id": "ba1yIB7R4RTy"
      },
      "outputs": [],
      "source": [
        "# save model weights for later evaluation\n",
        "checkpoint_dir = '/content/drive/MyDrive/model_checkpoints/small/batch4/'\n",
        "checkpoint_dir = '/content/drive/MyDrive/model_checkpoints/small/batch8/'\n",
        "checkpoint_dir = '/content/drive/MyDrive/model_checkpoints/large/batch4/'\n",
        "checkpoint_dir = '/content/drive/MyDrive/model_checkpoints/large/batch8/'\n",
        "\n",
        "checkpoint_filepath = checkpoint_dir + 'bert_base_weights.{epoch:02d}-{val_accuracy:.2f}.hdf5'\n",
        "bert_base_checkpoint_callback = tf.keras.callbacks.ModelCheckpoint(\n",
        "    filepath=checkpoint_filepath,\n",
        "    save_weights_only=True)\n",
        "\n",
        "checkpoint_filepath = checkpoint_dir + 'distilroberta_weights.{epoch:02d}-{val_accuracy:.2f}.hdf5'\n",
        "distilroberta_checkpoint_callback = tf.keras.callbacks.ModelCheckpoint(\n",
        "    filepath=checkpoint_filepath,\n",
        "    save_weights_only=True)\n",
        "\n",
        "checkpoint_filepath = checkpoint_dir + 'distilbert_weights.{epoch:02d}-{val_accuracy:.2f}.hdf5'\n",
        "distilbert_checkpoint_callback = tf.keras.callbacks.ModelCheckpoint(\n",
        "    filepath=checkpoint_filepath,\n",
        "    save_weights_only=True)"
      ]
    },
    {
      "cell_type": "code",
      "execution_count": null,
      "metadata": {
        "id": "t1w8K1KdjdPn"
      },
      "outputs": [],
      "source": [
        "def create_model(model_selection,\n",
        "                 model,\n",
        "                 max_sequence_length=max_length,\n",
        "                 hidden_size=100,\n",
        "                 dropout=0.3,\n",
        "                 learning_rate=0.00005):\n",
        "    \"\"\"\n",
        "    Builds a classification model. Includes options for training BERT, DistilRoberta, and DistilBert.\n",
        "    \"\"\"\n",
        "\n",
        "    model.trainable = True\n",
        "\n",
        "    if model_selection == 'bert_base_cased':\n",
        "      input_ids = tf.keras.layers.Input(shape=(max_sequence_length,), dtype=tf.int64, name='input_ids_layer')\n",
        "      token_type_ids = tf.keras.layers.Input(shape=(max_sequence_length,), dtype=tf.int64, name='token_type_ids_layer')\n",
        "      attention_mask = tf.keras.layers.Input(shape=(max_sequence_length,), dtype=tf.int64, name='attention_mask_layer')\n",
        "\n",
        "      bert_inputs = {'input_ids': input_ids,\n",
        "                     'token_type_ids': token_type_ids,\n",
        "                     'attention_mask': attention_mask}\n",
        "    else:\n",
        "      input_ids = tf.keras.layers.Input(shape=(max_sequence_length,), dtype=tf.int64, name='input_ids_layer')\n",
        "      attention_mask = tf.keras.layers.Input(shape=(max_sequence_length,), dtype=tf.int64, name='attention_mask_layer')\n",
        "\n",
        "      bert_inputs = {'input_ids': input_ids,\n",
        "                     'attention_mask': attention_mask}\n",
        "\n",
        "    bert_out = model(bert_inputs)\n",
        "\n",
        "    if model_selection == 'bert_base_cased':\n",
        "      reduced_bert_out = tf.math.reduce_mean(bert_out[0], axis=1)\n",
        "      dropout_layer = tf.keras.layers.Dropout(dropout, name='dropout_layer')(reduced_bert_out)\n",
        "    else:\n",
        "      cls_token = bert_out[0][:, 0, :]\n",
        "      dropout_layer = tf.keras.layers.Dropout(dropout, name='dropout_layer')(cls_token)\n",
        "\n",
        "    hidden = tf.keras.layers.Dense(hidden_size, activation='relu', name='hidden_layer')(dropout_layer)\n",
        "    classification_layer = tf.keras.layers.Dense(1, activation='sigmoid', name='classification_layer')(hidden)\n",
        "\n",
        "    if model_selection == 'bert_base_cased':\n",
        "      classification_model = tf.keras.Model(inputs=[input_ids, token_type_ids, attention_mask], outputs=[classification_layer])\n",
        "\n",
        "    else:\n",
        "      classification_model = tf.keras.Model(inputs=[input_ids, attention_mask], outputs=[classification_layer])\n",
        "\n",
        "    classification_model.compile(optimizer=tf.keras.optimizers.Adam(learning_rate=learning_rate),\n",
        "                                 loss=tf.keras.losses.BinaryCrossentropy(from_logits=False),\n",
        "                                 metrics='accuracy')\n",
        "\n",
        "    return classification_model\n"
      ]
    },
    {
      "cell_type": "code",
      "execution_count": null,
      "metadata": {
        "colab": {
          "base_uri": "https://localhost:8080/"
        },
        "id": "QID5aDVJ3A-3",
        "outputId": "75509c7a-e037-400e-96c1-be567763fd35"
      },
      "outputs": [
        {
          "output_type": "stream",
          "name": "stdout",
          "text": [
            "Epoch 1/2\n"
          ]
        },
        {
          "output_type": "stream",
          "name": "stderr",
          "text": [
            "WARNING:tensorflow:Gradients do not exist for variables ['tf_bert_model/bert/pooler/dense/kernel:0', 'tf_bert_model/bert/pooler/dense/bias:0'] when minimizing the loss. If you're using `model.compile()`, did you forget to provide a `loss` argument?\n",
            "WARNING:tensorflow:Gradients do not exist for variables ['tf_bert_model/bert/pooler/dense/kernel:0', 'tf_bert_model/bert/pooler/dense/bias:0'] when minimizing the loss. If you're using `model.compile()`, did you forget to provide a `loss` argument?\n",
            "WARNING:tensorflow:Gradients do not exist for variables ['tf_bert_model/bert/pooler/dense/kernel:0', 'tf_bert_model/bert/pooler/dense/bias:0'] when minimizing the loss. If you're using `model.compile()`, did you forget to provide a `loss` argument?\n",
            "WARNING:tensorflow:Gradients do not exist for variables ['tf_bert_model/bert/pooler/dense/kernel:0', 'tf_bert_model/bert/pooler/dense/bias:0'] when minimizing the loss. If you're using `model.compile()`, did you forget to provide a `loss` argument?\n"
          ]
        },
        {
          "output_type": "stream",
          "name": "stdout",
          "text": [
            "2250/2250 [==============================] - 1197s 515ms/step - loss: 0.1902 - accuracy: 0.9299 - val_loss: 0.2008 - val_accuracy: 0.9270\n",
            "Epoch 2/2\n",
            "2250/2250 [==============================] - 1152s 512ms/step - loss: 0.0879 - accuracy: 0.9698 - val_loss: 0.0773 - val_accuracy: 0.9780\n"
          ]
        }
      ],
      "source": [
        "bert_base_model = create_model('bert_base_cased', bert_base_cased, max_length)\n",
        "\n",
        "bert_base_model_history = bert_base_model.fit(base_train_inputs,\n",
        "                                              train_labels,\n",
        "                                              validation_data=(base_test_inputs, test_labels),\n",
        "                                              batch_size=batch_size,\n",
        "                                              epochs=epochs,\n",
        "                                              callbacks=[bert_base_checkpoint_callback]\n",
        "                                              )\n"
      ]
    },
    {
      "cell_type": "code",
      "execution_count": null,
      "metadata": {
        "colab": {
          "base_uri": "https://localhost:8080/"
        },
        "id": "rwbe5R3HVrOh",
        "outputId": "88fba46d-160c-4ff5-e299-f9d812bc81e4"
      },
      "outputs": [
        {
          "output_type": "stream",
          "name": "stdout",
          "text": [
            "Model: \"model\"\n",
            "__________________________________________________________________________________________________\n",
            " Layer (type)                Output Shape                 Param #   Connected to                  \n",
            "==================================================================================================\n",
            " attention_mask_layer (Inpu  [(None, 500)]                0         []                            \n",
            " tLayer)                                                                                          \n",
            "                                                                                                  \n",
            " input_ids_layer (InputLaye  [(None, 500)]                0         []                            \n",
            " r)                                                                                               \n",
            "                                                                                                  \n",
            " token_type_ids_layer (Inpu  [(None, 500)]                0         []                            \n",
            " tLayer)                                                                                          \n",
            "                                                                                                  \n",
            " tf_bert_model (TFBertModel  TFBaseModelOutputWithPooli   1083102   ['attention_mask_layer[0][0]',\n",
            " )                           ngAndCrossAttentions(last_   72         'input_ids_layer[0][0]',     \n",
            "                             hidden_state=(None, 500, 7              'token_type_ids_layer[0][0]']\n",
            "                             68),                                                                 \n",
            "                              pooler_output=(None, 768)                                           \n",
            "                             , past_key_values=None, hi                                           \n",
            "                             dden_states=None, attentio                                           \n",
            "                             ns=None, cross_attentions=                                           \n",
            "                             None)                                                                \n",
            "                                                                                                  \n",
            " tf.math.reduce_mean (TFOpL  (None, 768)                  0         ['tf_bert_model[0][0]']       \n",
            " ambda)                                                                                           \n",
            "                                                                                                  \n",
            " dropout_layer (Dropout)     (None, 768)                  0         ['tf.math.reduce_mean[0][0]'] \n",
            "                                                                                                  \n",
            " hidden_layer (Dense)        (None, 100)                  76900     ['dropout_layer[0][0]']       \n",
            "                                                                                                  \n",
            " classification_layer (Dens  (None, 1)                    101       ['hidden_layer[0][0]']        \n",
            " e)                                                                                               \n",
            "                                                                                                  \n",
            "==================================================================================================\n",
            "Total params: 108387273 (413.46 MB)\n",
            "Trainable params: 108387273 (413.46 MB)\n",
            "Non-trainable params: 0 (0.00 Byte)\n",
            "__________________________________________________________________________________________________\n",
            "None\n"
          ]
        }
      ],
      "source": [
        "print(bert_base_model.summary())"
      ]
    },
    {
      "cell_type": "code",
      "execution_count": null,
      "metadata": {
        "colab": {
          "base_uri": "https://localhost:8080/",
          "height": 472
        },
        "id": "yWFBpfU-4MRO",
        "outputId": "1ddfea7c-0c8c-4337-c227-bc0915bcbdbe"
      },
      "outputs": [
        {
          "output_type": "display_data",
          "data": {
            "text/plain": [
              "<Figure size 640x480 with 1 Axes>"
            ],
            "image/png": "[encoded data removed]"
          },
          "metadata": {}
        }
      ],
      "source": [
        "plt.plot(bert_base_model_history.history['accuracy'])\n",
        "plt.plot(bert_base_model_history.history['val_accuracy'])\n",
        "plt.title('model accuracy')\n",
        "plt.ylabel('accuracy')\n",
        "plt.xlabel('epoch')\n",
        "plt.legend(['train', 'val'], loc='upper left')\n",
        "plt.show()\n"
      ]
    },
    {
      "cell_type": "code",
      "execution_count": null,
      "metadata": {
        "colab": {
          "base_uri": "https://localhost:8080/"
        },
        "id": "h98Ix6mFTtkk",
        "outputId": "3320919c-709e-4867-e34e-4bab822f53d8"
      },
      "outputs": [
        {
          "output_type": "stream",
          "name": "stdout",
          "text": [
            "Epoch 1/2\n"
          ]
        },
        {
          "output_type": "stream",
          "name": "stderr",
          "text": [
            "WARNING:tensorflow:Gradients do not exist for variables ['tf_roberta_model/roberta/pooler/dense/kernel:0', 'tf_roberta_model/roberta/pooler/dense/bias:0'] when minimizing the loss. If you're using `model.compile()`, did you forget to provide a `loss` argument?\n",
            "WARNING:tensorflow:Gradients do not exist for variables ['tf_roberta_model/roberta/pooler/dense/kernel:0', 'tf_roberta_model/roberta/pooler/dense/bias:0'] when minimizing the loss. If you're using `model.compile()`, did you forget to provide a `loss` argument?\n",
            "WARNING:tensorflow:Gradients do not exist for variables ['tf_roberta_model/roberta/pooler/dense/kernel:0', 'tf_roberta_model/roberta/pooler/dense/bias:0'] when minimizing the loss. If you're using `model.compile()`, did you forget to provide a `loss` argument?\n",
            "WARNING:tensorflow:Gradients do not exist for variables ['tf_roberta_model/roberta/pooler/dense/kernel:0', 'tf_roberta_model/roberta/pooler/dense/bias:0'] when minimizing the loss. If you're using `model.compile()`, did you forget to provide a `loss` argument?\n"
          ]
        },
        {
          "output_type": "stream",
          "name": "stdout",
          "text": [
            "2250/2250 [==============================] - 624s 269ms/step - loss: 0.0992 - accuracy: 0.9648 - val_loss: 0.0430 - val_accuracy: 0.9880\n",
            "Epoch 2/2\n",
            "2250/2250 [==============================] - 591s 263ms/step - loss: 0.0423 - accuracy: 0.9884 - val_loss: 0.0474 - val_accuracy: 0.9770\n"
          ]
        }
      ],
      "source": [
        "distilroberta_model = create_model('distilroberta', distilroberta, max_length)\n",
        "\n",
        "distilroberta_model_history = distilroberta_model.fit(distilroberta_train_inputs,\n",
        "                                                      train_labels,\n",
        "                                                      validation_data=(distilroberta_test_inputs, test_labels),\n",
        "                                                      batch_size=batch_size,\n",
        "                                                      epochs=epochs,\n",
        "                                                      callbacks=[distilroberta_checkpoint_callback]\n",
        "                                                      )\n"
      ]
    },
    {
      "cell_type": "code",
      "execution_count": null,
      "metadata": {
        "colab": {
          "base_uri": "https://localhost:8080/"
        },
        "id": "BT0J4UvIVPHe",
        "outputId": "6680fe69-4787-4b5f-9ae2-eb8baa209da0"
      },
      "outputs": [
        {
          "output_type": "stream",
          "name": "stdout",
          "text": [
            "Model: \"model_1\"\n",
            "__________________________________________________________________________________________________\n",
            " Layer (type)                Output Shape                 Param #   Connected to                  \n",
            "==================================================================================================\n",
            " attention_mask_layer (Inpu  [(None, 500)]                0         []                            \n",
            " tLayer)                                                                                          \n",
            "                                                                                                  \n",
            " input_ids_layer (InputLaye  [(None, 500)]                0         []                            \n",
            " r)                                                                                               \n",
            "                                                                                                  \n",
            " tf_roberta_model (TFRobert  TFBaseModelOutputWithPooli   8211840   ['attention_mask_layer[0][0]',\n",
            " aModel)                     ngAndCrossAttentions(last_   0          'input_ids_layer[0][0]']     \n",
            "                             hidden_state=(None, 500, 7                                           \n",
            "                             68),                                                                 \n",
            "                              pooler_output=(None, 768)                                           \n",
            "                             , past_key_values=None, hi                                           \n",
            "                             dden_states=None, attentio                                           \n",
            "                             ns=None, cross_attentions=                                           \n",
            "                             None)                                                                \n",
            "                                                                                                  \n",
            " tf.__operators__.getitem (  (None, 768)                  0         ['tf_roberta_model[0][0]']    \n",
            " SlicingOpLambda)                                                                                 \n",
            "                                                                                                  \n",
            " dropout_layer (Dropout)     (None, 768)                  0         ['tf.__operators__.getitem[0][\n",
            "                                                                    0]']                          \n",
            "                                                                                                  \n",
            " hidden_layer (Dense)        (None, 100)                  76900     ['dropout_layer[0][0]']       \n",
            "                                                                                                  \n",
            " classification_layer (Dens  (None, 1)                    101       ['hidden_layer[0][0]']        \n",
            " e)                                                                                               \n",
            "                                                                                                  \n",
            "==================================================================================================\n",
            "Total params: 82195401 (313.55 MB)\n",
            "Trainable params: 82195401 (313.55 MB)\n",
            "Non-trainable params: 0 (0.00 Byte)\n",
            "__________________________________________________________________________________________________\n",
            "None\n"
          ]
        }
      ],
      "source": [
        "print(distilroberta_model.summary())"
      ]
    },
    {
      "cell_type": "code",
      "execution_count": null,
      "metadata": {
        "colab": {
          "base_uri": "https://localhost:8080/",
          "height": 472
        },
        "id": "pw1n0ztkT202",
        "outputId": "8a03d77e-2a78-42c1-9043-dd5310cb19d1"
      },
      "outputs": [
        {
          "output_type": "display_data",
          "data": {
            "text/plain": [
              "<Figure size 640x480 with 1 Axes>"
            ],
            "image/png": "[encoded data removed]"
          },
          "metadata": {}
        }
      ],
      "source": [
        "plt.plot(distilroberta_model_history.history['accuracy'])\n",
        "plt.plot(distilroberta_model_history.history['val_accuracy'])\n",
        "plt.title('model accuracy')\n",
        "plt.ylabel('accuracy')\n",
        "plt.xlabel('epoch')\n",
        "plt.legend(['train', 'val'], loc='upper left')\n",
        "plt.show()\n"
      ]
    },
    {
      "cell_type": "code",
      "execution_count": null,
      "metadata": {
        "colab": {
          "base_uri": "https://localhost:8080/"
        },
        "id": "0Rv_7SOwTEsw",
        "outputId": "c012ed21-4cee-43d7-9fd2-72d7c95ac831"
      },
      "outputs": [
        {
          "output_type": "stream",
          "name": "stdout",
          "text": [
            "Epoch 1/2\n",
            "2250/2250 [==============================] - 624s 268ms/step - loss: 0.1593 - accuracy: 0.9392 - val_loss: 0.1000 - val_accuracy: 0.9640\n",
            "Epoch 2/2\n",
            "2250/2250 [==============================] - 573s 255ms/step - loss: 0.0576 - accuracy: 0.9804 - val_loss: 0.1105 - val_accuracy: 0.9720\n"
          ]
        }
      ],
      "source": [
        "distill_bert_model = create_model('distilbert', distilbert, max_length)\n",
        "\n",
        "distill_bert_model_history = distill_bert_model.fit(distilbert_train_inputs,\n",
        "                                                    train_labels,\n",
        "                                                    validation_data=(distilbert_test_inputs, test_labels),\n",
        "                                                    batch_size=batch_size,\n",
        "                                                    epochs=epochs,\n",
        "                                                    callbacks=[distilbert_checkpoint_callback]\n",
        "                                                    )\n"
      ]
    },
    {
      "cell_type": "code",
      "execution_count": null,
      "metadata": {
        "colab": {
          "base_uri": "https://localhost:8080/"
        },
        "id": "tOIbgkcMVgBR",
        "outputId": "c7284a1d-7989-49fc-e840-249085c4c04b"
      },
      "outputs": [
        {
          "output_type": "stream",
          "name": "stdout",
          "text": [
            "Model: \"model\"\n",
            "__________________________________________________________________________________________________\n",
            " Layer (type)                Output Shape                 Param #   Connected to                  \n",
            "==================================================================================================\n",
            " attention_mask_layer (Inpu  [(None, 500)]                0         []                            \n",
            " tLayer)                                                                                          \n",
            "                                                                                                  \n",
            " input_ids_layer (InputLaye  [(None, 500)]                0         []                            \n",
            " r)                                                                                               \n",
            "                                                                                                  \n",
            " tf_distil_bert_model (TFDi  TFBaseModelOutput(last_hid   6636288   ['attention_mask_layer[0][0]',\n",
            " stilBertModel)              den_state=(None, 500, 768)   0          'input_ids_layer[0][0]']     \n",
            "                             , hidden_states=None, atte                                           \n",
            "                             ntions=None)                                                         \n",
            "                                                                                                  \n",
            " tf.__operators__.getitem (  (None, 768)                  0         ['tf_distil_bert_model[0][0]']\n",
            " SlicingOpLambda)                                                                                 \n",
            "                                                                                                  \n",
            " dropout_layer (Dropout)     (None, 768)                  0         ['tf.__operators__.getitem[0][\n",
            "                                                                    0]']                          \n",
            "                                                                                                  \n",
            " hidden_layer (Dense)        (None, 100)                  76900     ['dropout_layer[0][0]']       \n",
            "                                                                                                  \n",
            " classification_layer (Dens  (None, 1)                    101       ['hidden_layer[0][0]']        \n",
            " e)                                                                                               \n",
            "                                                                                                  \n",
            "==================================================================================================\n",
            "Total params: 66439881 (253.45 MB)\n",
            "Trainable params: 66439881 (253.45 MB)\n",
            "Non-trainable params: 0 (0.00 Byte)\n",
            "__________________________________________________________________________________________________\n",
            "None\n"
          ]
        }
      ],
      "source": [
        "print(distill_bert_model.summary())"
      ]
    },
    {
      "cell_type": "code",
      "execution_count": null,
      "metadata": {
        "colab": {
          "base_uri": "https://localhost:8080/",
          "height": 472
        },
        "id": "PXtSEfPhTtp8",
        "outputId": "5c60f22c-6cae-42af-e739-2ba978347cb3"
      },
      "outputs": [
        {
          "output_type": "display_data",
          "data": {
            "text/plain": [
              "<Figure size 640x480 with 1 Axes>"
            ],
            "image/png": "[encoded data removed]"
          },
          "metadata": {}
        }
      ],
      "source": [
        "plt.plot(distill_bert_model_history.history['accuracy'])\n",
        "plt.plot(distill_bert_model_history.history['val_accuracy'])\n",
        "plt.title('model accuracy')\n",
        "plt.ylabel('accuracy')\n",
        "plt.xlabel('epoch')\n",
        "plt.legend(['train', 'val'], loc='upper left')\n",
        "plt.show()\n"
      ]
    },
    {
      "cell_type": "markdown",
      "metadata": {
        "id": "FgY-8SRzn3PV"
      },
      "source": [
        "#Model Evaluation"
      ]
    },
    {
      "cell_type": "code",
      "execution_count": null,
      "metadata": {
        "id": "GWyPcJ3bmnwk"
      },
      "outputs": [],
      "source": [
        "eval_text = pd.read_csv('/content/drive/MyDrive/evaluation/eval_text.csv')\n",
        "\n",
        "eval_text = eval_text.astype({'text': str, 'label': bool})\n",
        "\n",
        "eval_text = shuffle(eval_text)"
      ]
    },
    {
      "cell_type": "code",
      "execution_count": null,
      "metadata": {
        "id": "exM0tjjlntxr"
      },
      "outputs": [],
      "source": [
        "eval_texts = pd.Series(data=eval_text['text'])\n",
        "eval_labels = pd.Series(data=eval_text['label'])"
      ]
    },
    {
      "cell_type": "code",
      "execution_count": null,
      "metadata": {
        "colab": {
          "base_uri": "https://localhost:8080/"
        },
        "id": "lJzdpyfc9C1P",
        "outputId": "8e9036bb-a3a5-46e1-c45a-17b35b20dc13"
      },
      "outputs": [
        {
          "output_type": "stream",
          "name": "stdout",
          "text": [
            "                                                    text  label\n",
            "3395   No wikileakes from Kim Dotcom... nothing... zi...   True\n",
            "9264   The United Nations said on Monday it has pulle...  False\n",
            "7711   Alabama Governor Robert Bentley resigned on Mo...  False\n",
            "12311  Zelenskyy was elected by Ukrainian oligarchs, ...   True\n",
            "11639  Belarus does not want to be at the front line ...   True\n"
          ]
        }
      ],
      "source": [
        "print(eval_text.head())"
      ]
    },
    {
      "cell_type": "code",
      "execution_count": null,
      "metadata": {
        "colab": {
          "base_uri": "https://localhost:8080/"
        },
        "id": "1FHbFqAXpvib",
        "outputId": "9131c96a-50c3-4314-ecbf-581f0b6a865f"
      },
      "outputs": [
        {
          "output_type": "stream",
          "name": "stdout",
          "text": [
            "(15000,)\n"
          ]
        }
      ],
      "source": [
        "print(eval_labels.shape)"
      ]
    },
    {
      "cell_type": "code",
      "source": [
        "max_length = 200"
      ],
      "metadata": {
        "id": "hJoHZmNL96c9"
      },
      "execution_count": null,
      "outputs": []
    },
    {
      "cell_type": "code",
      "execution_count": null,
      "metadata": {
        "id": "Iy5Rm4MLRjI1"
      },
      "outputs": [],
      "source": [
        "base_eval_encodings = bert_tokenizer(list(eval_texts), truncation=True, padding=True, max_length=200, return_tensors='tf')\n",
        "base_eval_inputs = [base_eval_encodings.input_ids,\n",
        "                    base_eval_encodings.token_type_ids,\n",
        "                    base_eval_encodings.attention_mask]\n",
        "\n",
        "distilroberta_eval_encodings = distilroberta_tokenizer(list(eval_texts), truncation=True, padding=True, max_length=200, return_tensors='tf')\n",
        "distilroberta_eval_inputs = [distilroberta_eval_encodings.input_ids,\n",
        "                             distilroberta_eval_encodings.attention_mask]\n",
        "\n",
        "distilbert_eval_encodings = distilbert_tokenizer(list(eval_texts), truncation=True, padding=True, max_length=200, return_tensors='tf')\n",
        "distilbert_eval_inputs = [distilbert_eval_encodings.input_ids,\n",
        "                          distilbert_eval_encodings.attention_mask]"
      ]
    },
    {
      "cell_type": "code",
      "execution_count": null,
      "metadata": {
        "id": "1zJomNyCRDNo"
      },
      "outputs": [],
      "source": [
        "checkpoint_dir = '/content/drive/MyDrive/model_checkpoints/small/batch4/'\n",
        "\n",
        "small_bert_base_model_batch4 = create_model('bert_base_cased', bert_base_cased, max_length)\n",
        "checkpoint_filepath = checkpoint_dir + 'bert_base_weights.02-0.97.hdf5'\n",
        "small_bert_base_model_batch4.load_weights(checkpoint_filepath)\n",
        "\n",
        "small_distilroberta_model_batch4 = create_model('distilroberta', distilroberta, max_length)\n",
        "checkpoint_filepath = checkpoint_dir + 'distilroberta_weights.02-0.97.hdf5'\n",
        "small_distilroberta_model_batch4.load_weights(checkpoint_filepath)\n",
        "\n",
        "small_distill_bert_model_batch4 = create_model('distilbert', distilbert, max_length)\n",
        "checkpoint_filepath = checkpoint_dir + 'distilbert_weights.02-0.94.hdf5'\n",
        "small_distill_bert_model_batch4.load_weights(checkpoint_filepath)"
      ]
    },
    {
      "cell_type": "code",
      "execution_count": null,
      "metadata": {
        "id": "w3JA9SXjSobA"
      },
      "outputs": [],
      "source": [
        "checkpoint_dir = '/content/drive/MyDrive/model_checkpoints/small/batch8/'\n",
        "\n",
        "small_bert_base_model_batch8 = create_model('bert_base_cased', bert_base_cased, max_length)\n",
        "checkpoint_filepath = checkpoint_dir + 'bert_base_weights.02-0.97.hdf5'\n",
        "small_bert_base_model_batch8.load_weights(checkpoint_filepath)\n",
        "\n",
        "small_distilroberta_model_batch8 = create_model('distilroberta', distilroberta, max_length)\n",
        "checkpoint_filepath = checkpoint_dir + 'distilroberta_weights.02-0.99.hdf5'\n",
        "small_distilroberta_model_batch8.load_weights(checkpoint_filepath)\n",
        "\n",
        "small_distill_bert_model_batch8 = create_model('distilbert', distilbert, max_length)\n",
        "checkpoint_filepath = checkpoint_dir + 'distilbert_weights.02-0.96.hdf5'\n",
        "small_distill_bert_model_batch8.load_weights(checkpoint_filepath)"
      ]
    },
    {
      "cell_type": "code",
      "source": [
        "max_length = 500"
      ],
      "metadata": {
        "id": "qNpS8PpF99zR"
      },
      "execution_count": null,
      "outputs": []
    },
    {
      "cell_type": "code",
      "execution_count": null,
      "metadata": {
        "id": "V5WDnfjG_T0h"
      },
      "outputs": [],
      "source": [
        "large_base_eval_encodings = bert_tokenizer(list(eval_texts), truncation=True, padding=True, max_length=500, return_tensors='tf')\n",
        "large_base_eval_inputs = [large_base_eval_encodings.input_ids,\n",
        "                          large_base_eval_encodings.token_type_ids,\n",
        "                          large_base_eval_encodings.attention_mask]\n",
        "\n",
        "large_distilroberta_eval_encodings = distilroberta_tokenizer(list(eval_texts), truncation=True, padding=True, max_length=500, return_tensors='tf')\n",
        "large_distilroberta_eval_inputs = [large_distilroberta_eval_encodings.input_ids,\n",
        "                                   large_distilroberta_eval_encodings.attention_mask]\n",
        "\n",
        "large_distilbert_eval_encodings = distilbert_tokenizer(list(eval_texts), truncation=True, padding=True, max_length=500, return_tensors='tf')\n",
        "large_distilbert_eval_inputs = [large_distilbert_eval_encodings.input_ids,\n",
        "                                large_distilbert_eval_encodings.attention_mask]"
      ]
    },
    {
      "cell_type": "code",
      "execution_count": null,
      "metadata": {
        "id": "6ZVXmvxfRDAU"
      },
      "outputs": [],
      "source": [
        "checkpoint_dir = '/content/drive/MyDrive/model_checkpoints/large/batch4/'\n",
        "\n",
        "large_bert_base_model_batch4 = create_model('bert_base_cased', bert_base_cased, max_length)\n",
        "checkpoint_filepath = checkpoint_dir + 'bert_base_weights.02-0.98.hdf5'\n",
        "large_bert_base_model_batch4.load_weights(checkpoint_filepath)\n",
        "\n",
        "large_distilroberta_model_batch4 = create_model('distilroberta', distilroberta, max_length)\n",
        "checkpoint_filepath = checkpoint_dir + 'distilroberta_weights.02-0.98.hdf5'\n",
        "large_distilroberta_model_batch4.load_weights(checkpoint_filepath)\n",
        "\n",
        "large_distill_bert_model_batch4 = create_model('distilbert', distilbert, max_length)\n",
        "checkpoint_filepath = checkpoint_dir + 'distilbert_weights.02-0.97.hdf5'\n",
        "large_distill_bert_model_batch4.load_weights(checkpoint_filepath)"
      ]
    },
    {
      "cell_type": "code",
      "execution_count": null,
      "metadata": {
        "id": "P5CrRuJxSxUz"
      },
      "outputs": [],
      "source": [
        "checkpoint_dir = '/content/drive/MyDrive/model_checkpoints/large/batch8/'\n",
        "\n",
        "large_bert_base_model_batch8 = create_model('bert_base_cased', bert_base_cased, max_length)\n",
        "checkpoint_filepath = checkpoint_dir + 'bert_base_weights.02-0.98.hdf5'\n",
        "large_bert_base_model_batch8.load_weights(checkpoint_filepath)\n",
        "\n",
        "large_distilroberta_model_batch8 = create_model('distilroberta', distilroberta, max_length)\n",
        "checkpoint_filepath = checkpoint_dir + 'distilroberta_weights.02-1.00.hdf5'\n",
        "large_distilroberta_model_batch8.load_weights(checkpoint_filepath)\n",
        "\n",
        "large_distill_bert_model_batch8 = create_model('distilbert', distilbert, max_length)\n",
        "checkpoint_filepath = checkpoint_dir + 'distilbert_weights.02-0.96.hdf5'\n",
        "large_distill_bert_model_batch8.load_weights(checkpoint_filepath)"
      ]
    },
    {
      "cell_type": "code",
      "execution_count": null,
      "metadata": {
        "id": "McObYCmiUoz_"
      },
      "outputs": [],
      "source": [
        "def plot_confusion_matrix(y_true, y_pred, label_names):\n",
        "    cm = tf.math.confusion_matrix(y_true, y_pred)\n",
        "    cm = cm/cm.numpy().sum(axis=1)[:, tf.newaxis]\n",
        "\n",
        "    plt.figure(figsize=(20,7))\n",
        "    sns.heatmap(\n",
        "        cm, annot=True,\n",
        "        xticklabels=label_names,\n",
        "        yticklabels=label_names)\n",
        "    plt.xlabel(\"Predicted\")\n",
        "    plt.ylabel(\"True\")"
      ]
    },
    {
      "cell_type": "code",
      "source": [
        "wrong_guesses = {}  # Save indices of wrong guesses so we can look at them later"
      ],
      "metadata": {
        "id": "snj2JeNtN_Y_"
      },
      "execution_count": null,
      "outputs": []
    },
    {
      "cell_type": "code",
      "execution_count": null,
      "metadata": {
        "colab": {
          "base_uri": "https://localhost:8080/",
          "height": 1000
        },
        "id": "jeUa87K5WnRe",
        "outputId": "65813ed0-2fa3-431c-d49a-2037df087ddc"
      },
      "outputs": [
        {
          "output_type": "stream",
          "name": "stdout",
          "text": [
            "small_bert_base_model_batch4\n",
            "469/469 [==============================] - 210s 440ms/step\n",
            "              precision    recall  f1-score   support\n",
            "\n",
            "       False       1.00      0.00      0.00      5000\n",
            "        True       0.67      1.00      0.80     10000\n",
            "\n",
            "    accuracy                           0.67     15000\n",
            "   macro avg       0.83      0.50      0.40     15000\n",
            "weighted avg       0.78      0.67      0.53     15000\n",
            "\n",
            "small_distilroberta_model_batch4\n",
            "469/469 [==============================] - 103s 217ms/step\n",
            "              precision    recall  f1-score   support\n",
            "\n",
            "       False       1.00      0.91      0.95      5000\n",
            "        True       0.96      1.00      0.98     10000\n",
            "\n",
            "    accuracy                           0.97     15000\n",
            "   macro avg       0.98      0.96      0.97     15000\n",
            "weighted avg       0.97      0.97      0.97     15000\n",
            "\n",
            "small_distill_bert_model_batch4\n",
            "469/469 [==============================] - 103s 216ms/step\n",
            "              precision    recall  f1-score   support\n",
            "\n",
            "       False       0.00      0.00      0.00      5000\n",
            "        True       0.63      0.85      0.72     10000\n",
            "\n",
            "    accuracy                           0.56     15000\n",
            "   macro avg       0.32      0.42      0.36     15000\n",
            "weighted avg       0.42      0.56      0.48     15000\n",
            "\n"
          ]
        },
        {
          "output_type": "display_data",
          "data": {
            "text/plain": [
              "<Figure size 2000x700 with 2 Axes>"
            ],
            "image/png": "[encoded data removed]"
          },
          "metadata": {}
        },
        {
          "output_type": "display_data",
          "data": {
            "text/plain": [
              "<Figure size 2000x700 with 2 Axes>"
            ],
            "image/png": "[encoded data removed]"
          },
          "metadata": {}
        },
        {
          "output_type": "display_data",
          "data": {
            "text/plain": [
              "<Figure size 2000x700 with 2 Axes>"
            ],
            "image/png": "[encoded data removed]"
          },
          "metadata": {}
        }
      ],
      "source": [
        "bert_models = ['small_bert_base_model_batch4', 'small_distilroberta_model_batch4', 'small_distill_bert_model_batch4']\n",
        "bert_model_dict = {'small_bert_base_model_batch4': small_bert_base_model_batch4, 'small_distilroberta_model_batch4': small_distilroberta_model_batch4, 'small_distill_bert_model_batch4': small_distill_bert_model_batch4}\n",
        "eval_data = {'small_bert_base_model_batch4': base_eval_inputs, 'small_distilroberta_model_batch4': distilroberta_eval_inputs, 'small_distill_bert_model_batch4': distilbert_eval_inputs}\n",
        "\n",
        "label_names = eval_text.groupby(['label'], as_index=False).sum()['label']\n",
        "\n",
        "for i in range(len(bert_models)):\n",
        "  print(bert_models[i])\n",
        "  probs = bert_model_dict[bert_models[i]].predict(eval_data[bert_models[i]])\n",
        "  pred = np.squeeze(probs >= 0.5)\n",
        "  print(classification_report(eval_labels, pred))\n",
        "  plot_confusion_matrix(eval_labels, pred, label_names)\n",
        "\n",
        "  wrong_guesses[bert_models[i]] = np.where(eval_labels != pred)"
      ]
    },
    {
      "cell_type": "code",
      "execution_count": null,
      "metadata": {
        "colab": {
          "base_uri": "https://localhost:8080/",
          "height": 1000
        },
        "id": "kli7UxHPqnMN",
        "outputId": "f786bb9f-edf8-409a-e088-90b8cbdf9772"
      },
      "outputs": [
        {
          "output_type": "stream",
          "name": "stdout",
          "text": [
            "small_bert_base_model_batch8\n",
            "469/469 [==============================] - 208s 437ms/step\n"
          ]
        },
        {
          "output_type": "stream",
          "name": "stderr",
          "text": [
            "/usr/local/lib/python3.10/dist-packages/sklearn/metrics/_classification.py:1344: UndefinedMetricWarning: Precision and F-score are ill-defined and being set to 0.0 in labels with no predicted samples. Use `zero_division` parameter to control this behavior.\n",
            "  _warn_prf(average, modifier, msg_start, len(result))\n",
            "/usr/local/lib/python3.10/dist-packages/sklearn/metrics/_classification.py:1344: UndefinedMetricWarning: Precision and F-score are ill-defined and being set to 0.0 in labels with no predicted samples. Use `zero_division` parameter to control this behavior.\n",
            "  _warn_prf(average, modifier, msg_start, len(result))\n",
            "/usr/local/lib/python3.10/dist-packages/sklearn/metrics/_classification.py:1344: UndefinedMetricWarning: Precision and F-score are ill-defined and being set to 0.0 in labels with no predicted samples. Use `zero_division` parameter to control this behavior.\n",
            "  _warn_prf(average, modifier, msg_start, len(result))\n"
          ]
        },
        {
          "output_type": "stream",
          "name": "stdout",
          "text": [
            "              precision    recall  f1-score   support\n",
            "\n",
            "       False       0.33      1.00      0.50      5000\n",
            "        True       0.00      0.00      0.00     10000\n",
            "\n",
            "    accuracy                           0.33     15000\n",
            "   macro avg       0.17      0.50      0.25     15000\n",
            "weighted avg       0.11      0.33      0.17     15000\n",
            "\n",
            "small_distilroberta_model_batch8\n",
            "469/469 [==============================] - 103s 216ms/step\n",
            "              precision    recall  f1-score   support\n",
            "\n",
            "       False       0.33      1.00      0.50      5000\n",
            "        True       1.00      0.00      0.01     10000\n",
            "\n",
            "    accuracy                           0.34     15000\n",
            "   macro avg       0.67      0.50      0.25     15000\n",
            "weighted avg       0.78      0.34      0.17     15000\n",
            "\n",
            "small_distill_bert_model_batch8\n",
            "469/469 [==============================] - 103s 216ms/step\n",
            "              precision    recall  f1-score   support\n",
            "\n",
            "       False       0.32      0.83      0.46      5000\n",
            "        True       0.60      0.12      0.21     10000\n",
            "\n",
            "    accuracy                           0.36     15000\n",
            "   macro avg       0.46      0.48      0.33     15000\n",
            "weighted avg       0.50      0.36      0.29     15000\n",
            "\n"
          ]
        },
        {
          "output_type": "display_data",
          "data": {
            "text/plain": [
              "<Figure size 2000x700 with 2 Axes>"
            ],
            "image/png": "[encoded data removed]"
          },
          "metadata": {}
        },
        {
          "output_type": "display_data",
          "data": {
            "text/plain": [
              "<Figure size 2000x700 with 2 Axes>"
            ],
            "image/png": "[encoded data removed]"
          },
          "metadata": {}
        },
        {
          "output_type": "display_data",
          "data": {
            "text/plain": [
              "<Figure size 2000x700 with 2 Axes>"
            ],
            "image/png": "[encoded data removed]"
          },
          "metadata": {}
        }
      ],
      "source": [
        "bert_models = ['small_bert_base_model_batch8', 'small_distilroberta_model_batch8', 'small_distill_bert_model_batch8']\n",
        "bert_model_dict = {'small_bert_base_model_batch8': small_bert_base_model_batch8, 'small_distilroberta_model_batch8': small_distilroberta_model_batch8, 'small_distill_bert_model_batch8': small_distill_bert_model_batch8}\n",
        "eval_data = {'small_bert_base_model_batch8': base_eval_inputs, 'small_distilroberta_model_batch8': distilroberta_eval_inputs, 'small_distill_bert_model_batch8': distilbert_eval_inputs}\n",
        "\n",
        "label_names = eval_text.groupby(['label'], as_index=False).sum()['label']\n",
        "\n",
        "for i in range(len(bert_models)):\n",
        "  print(bert_models[i])\n",
        "  probs = bert_model_dict[bert_models[i]].predict(eval_data[bert_models[i]])\n",
        "  pred = np.squeeze(probs >= 0.5)\n",
        "  print(classification_report(eval_labels, pred))\n",
        "  plot_confusion_matrix(eval_labels, pred, label_names)\n",
        "\n",
        "  wrong_guesses[bert_models[i]] = np.where(eval_labels != pred)"
      ]
    },
    {
      "cell_type": "code",
      "source": [
        "bert_models = ['large_bert_base_model_batch4', 'large_distilroberta_model_batch4', 'large_distill_bert_model_batch4']\n",
        "bert_model_dict = {'large_bert_base_model_batch4': large_bert_base_model_batch4, 'large_distilroberta_model_batch4': large_distilroberta_model_batch4, 'large_distill_bert_model_batch4': large_distill_bert_model_batch4}\n",
        "eval_data = {'large_bert_base_model_batch4': large_base_eval_inputs, 'large_distilroberta_model_batch4': large_distilroberta_eval_inputs, 'large_distill_bert_model_batch4': large_distilbert_eval_inputs}\n",
        "\n",
        "label_names = eval_text.groupby(['label'], as_index=False).sum()['label']\n",
        "\n",
        "for i in range(len(bert_models)):\n",
        "  print(bert_models[i])\n",
        "  probs = bert_model_dict[bert_models[i]].predict(eval_data[bert_models[i]])\n",
        "  pred = np.squeeze(probs >= 0.5)\n",
        "  print(classification_report(eval_labels, pred))\n",
        "  plot_confusion_matrix(eval_labels, pred, label_names)\n",
        "\n",
        "  wrong_guesses[bert_models[i]] = np.where(eval_labels != pred)"
      ],
      "metadata": {
        "colab": {
          "base_uri": "https://localhost:8080/",
          "height": 1000
        },
        "id": "KHi1lYBfE_VA",
        "outputId": "530235ab-bfe1-45f1-ebd6-1c337436f963"
      },
      "execution_count": null,
      "outputs": [
        {
          "output_type": "stream",
          "name": "stdout",
          "text": [
            "large_bert_base_model_batch4\n",
            "469/469 [==============================] - 587s 1s/step\n",
            "              precision    recall  f1-score   support\n",
            "\n",
            "       False       0.74      0.07      0.13      5000\n",
            "        True       0.68      0.99      0.81     10000\n",
            "\n",
            "    accuracy                           0.68     15000\n",
            "   macro avg       0.71      0.53      0.47     15000\n",
            "weighted avg       0.70      0.68      0.58     15000\n",
            "\n",
            "large_distilroberta_model_batch4\n",
            "469/469 [==============================] - 287s 609ms/step\n",
            "              precision    recall  f1-score   support\n",
            "\n",
            "       False       1.00      0.57      0.73      5000\n",
            "        True       0.82      1.00      0.90     10000\n",
            "\n",
            "    accuracy                           0.86     15000\n",
            "   macro avg       0.91      0.78      0.81     15000\n",
            "weighted avg       0.88      0.86      0.84     15000\n",
            "\n",
            "large_distill_bert_model_batch4\n",
            "469/469 [==============================] - 286s 606ms/step\n",
            "              precision    recall  f1-score   support\n",
            "\n",
            "       False       0.96      0.86      0.91      5000\n",
            "        True       0.93      0.98      0.96     10000\n",
            "\n",
            "    accuracy                           0.94     15000\n",
            "   macro avg       0.95      0.92      0.93     15000\n",
            "weighted avg       0.94      0.94      0.94     15000\n",
            "\n"
          ]
        },
        {
          "output_type": "display_data",
          "data": {
            "text/plain": [
              "<Figure size 2000x700 with 2 Axes>"
            ],
            "image/png": "[encoded data removed]"
          },
          "metadata": {}
        },
        {
          "output_type": "display_data",
          "data": {
            "text/plain": [
              "<Figure size 2000x700 with 2 Axes>"
            ],
            "image/png": "[encoded data removed]"
          },
          "metadata": {}
        },
        {
          "output_type": "display_data",
          "data": {
            "text/plain": [
              "<Figure size 2000x700 with 2 Axes>"
            ],
            "image/png": "[encoded data removed]"
          },
          "metadata": {}
        }
      ]
    },
    {
      "cell_type": "code",
      "source": [
        "bert_models = ['large_bert_base_model_batch8', 'large_distilroberta_model_batch8', 'large_distill_bert_model_batch8']\n",
        "bert_model_dict = {'large_bert_base_model_batch8': large_bert_base_model_batch8, 'large_distilroberta_model_batch8': large_distilroberta_model_batch8, 'large_distill_bert_model_batch8': large_distill_bert_model_batch8}\n",
        "eval_data = {'large_bert_base_model_batch8': large_base_eval_inputs, 'large_distilroberta_model_batch8': large_distilroberta_eval_inputs, 'large_distill_bert_model_batch8': large_distilbert_eval_inputs}\n",
        "\n",
        "label_names = eval_text.groupby(['label'], as_index=False).sum()['label']\n",
        "\n",
        "for i in range(len(bert_models)):\n",
        "  print(bert_models[i])\n",
        "  probs = bert_model_dict[bert_models[i]].predict(eval_data[bert_models[i]])\n",
        "  pred = np.squeeze(probs >= 0.5)\n",
        "  print(classification_report(eval_labels, pred))\n",
        "  plot_confusion_matrix(eval_labels, pred, label_names)\n",
        "\n",
        "  wrong_guesses[bert_models[i]] = np.where(eval_labels != pred)"
      ],
      "metadata": {
        "colab": {
          "base_uri": "https://localhost:8080/",
          "height": 1000
        },
        "id": "vlzq0S-2FANb",
        "outputId": "5d835a8d-2242-42ad-cc5a-4fe0071b21f6"
      },
      "execution_count": null,
      "outputs": [
        {
          "output_type": "stream",
          "name": "stdout",
          "text": [
            "large_bert_base_model_batch8\n",
            "469/469 [==============================] - 588s 1s/step\n",
            "              precision    recall  f1-score   support\n",
            "\n",
            "       False       0.98      0.98      0.98      5000\n",
            "        True       0.99      0.99      0.99     10000\n",
            "\n",
            "    accuracy                           0.99     15000\n",
            "   macro avg       0.98      0.98      0.98     15000\n",
            "weighted avg       0.99      0.99      0.99     15000\n",
            "\n",
            "large_distilroberta_model_batch8\n",
            "469/469 [==============================] - 288s 610ms/step\n",
            "              precision    recall  f1-score   support\n",
            "\n",
            "       False       0.99      1.00      0.99      5000\n",
            "        True       1.00      1.00      1.00     10000\n",
            "\n",
            "    accuracy                           1.00     15000\n",
            "   macro avg       1.00      1.00      1.00     15000\n",
            "weighted avg       1.00      1.00      1.00     15000\n",
            "\n",
            "large_distill_bert_model_batch8\n",
            "469/469 [==============================] - 285s 605ms/step\n",
            "              precision    recall  f1-score   support\n",
            "\n",
            "       False       0.91      1.00      0.95      5000\n",
            "        True       1.00      0.95      0.97     10000\n",
            "\n",
            "    accuracy                           0.97     15000\n",
            "   macro avg       0.96      0.97      0.96     15000\n",
            "weighted avg       0.97      0.97      0.97     15000\n",
            "\n"
          ]
        },
        {
          "output_type": "display_data",
          "data": {
            "text/plain": [
              "<Figure size 2000x700 with 2 Axes>"
            ],
            "image/png": "[encoded data removed]"
          },
          "metadata": {}
        },
        {
          "output_type": "display_data",
          "data": {
            "text/plain": [
              "<Figure size 2000x700 with 2 Axes>"
            ],
            "image/png": "[encoded data removed]"
          },
          "metadata": {}
        },
        {
          "output_type": "display_data",
          "data": {
            "text/plain": [
              "<Figure size 2000x700 with 2 Axes>"
            ],
            "image/png": "[encoded data removed]"
          },
          "metadata": {}
        }
      ]
    },
    {
      "cell_type": "markdown",
      "source": [
        "# Mis-classified article sample"
      ],
      "metadata": {
        "id": "pqTFh9KUoMxr"
      }
    },
    {
      "cell_type": "code",
      "source": [
        "wrong_examples_small_batch4 = np.intersect1d(wrong_guesses['small_bert_base_model_batch4'],\n",
        "                                             wrong_guesses['small_distilroberta_model_batch4'],\n",
        "                                             wrong_guesses['small_distill_bert_model_batch4'])\n",
        "\n",
        "for i in wrong_examples_small_batch4[:10]:\n",
        "  print(eval_texts[i])\n",
        "  print(eval_labels[i])"
      ],
      "metadata": {
        "id": "aWDaN7RhlMeJ",
        "colab": {
          "base_uri": "https://localhost:8080/"
        },
        "outputId": "337fa029-9c9b-4c26-df84-29dd4e95f03a"
      },
      "execution_count": null,
      "outputs": [
        {
          "output_type": "stream",
          "name": "stdout",
          "text": [
            "10,300 10,300 likes \n",
            "Unreal! We live in fascinating, exciting times, brothers! \n",
            "Other such public actions of retribution have coincided with this(ie CNN actually firing Donna Brazile for being a despicable hack). These are remarkable turnarounds, but what could be behind this? If the democratic leadership is turning on Hillary, why would they do this? What’s their reasoning for doing so? What’s in it for them? Well, the answers would surprise many, but are logical if thought through. \n",
            "Saving Face and Saving Brand \n",
            "Hillary Clinton is a sociopathic criminal, guilty of treason, mass murder for profit, and lining the pockets of globalists at our expense. We know that folks like us, in the Alt-media, and #AltRight etc all know that…but the “blue-pilled”, “normie” public, has, up until this point…not known that! \n",
            "All these O’Keefe, Wikileaks, and whistleblower revelations about Hillary and Washington DC are news to tens of millions of people. Some still haven’t heard this news, others still shockingly don’t care…but it doesn’t matter now. \n",
            "Too many now know who she is and how the system works, and the FBI and others will find overwhelming evidence of criminal wrong-doing on Hillary now(yes, even with Podesta’s DOJ friend in charge of it). The woman would likely be impeached within months of being in office, which if this occurred, could even bring about a Constitutional crisis. The fallout of this would tarnish the brand of the Democratic party beyond recognition. \n",
            "Bill Mitchell, a pro-Trump pollster and commentator on Twitter(whom I recommend you follow @ mitchellvii ) has some thoughts on the matter which are close to my own. It is highly possible that Democrat leadership has largely decided that Trump winning would be a “lesser evil” for them, than a POTUS Hillary. If Hillary is entangled in this situation for most of her first term, the fallout from Obama, followed by a criminal like her would be the “One-two” punch that their party wouldn’t recover from. \n",
            "It could very well be that they believe Trump will be ineffective as POTUS, or could be rendered such by skillful opposition. In their minds, under a one-term, lame-duck Trump Presidency, with few promises being met to his constituency, and a worsening economy, their party would be set to counter-attack with a stronger candidate in 2020. \n",
            "Not only would this put them on better footing to blame a candidate from the GOP side, for the mess the country is in, but it could actually save their party and their brand. It is highly likely many are considering “cutting their losses”, and settling for stopping President Trump in 4 years’ time. \n",
            "Remember, VP Joe Biden himself, went from saying he’d “like to fight Trump behind the woodshed”, to actually saying he’d work with a President Trump if he wins. \n",
            "Huge change in tone, folks. These people see the writing on the wall… \n",
            "Conclusion \n",
            "Election 2016 has been absolutely incredible: the constant Assange whistle-blowing on DC corruption, the oppo dumps, the truth-telling about Hillary’s crimes, the candidates themselves, the enormous poll swings, the under-cover stings from O’Keefe, etc…. \n",
            "Nothing has ever been seen like it. \n",
            "Let’s face it brothers: if this election was a movie, no one would believe it! Too many twists and turns! \n",
            "At this point however, there are signs that much of the Democratic leadership near the top may have decided that a Hillary Presidency may tarnish their brand too badly. They wrongly believe that a Trump administration could be effectively opposed, and put them on solid footing for a 2020 White House bid. They believe they could survive a Trump Presidency better than a Hillary one, at this point. \n",
            "Democratic (and even Republican) opposition have emptied every clip at anti-fragile Donald since he announced his Presidential bid, but it now appears though, that the Democratic opposition has run out of ammo! \n",
            "Now they’re throwing their empty guns at him for the last 7 days, hoping for a miracle! \n",
            "This man, who Donald Trump has come out of nowhere, has wrecked the criminal Bush family, and is now inches away from wrecking the criminal Clintons as well. Forever. \n",
            "He’s done it while being pummeled by the MSM, and backstabbing traitors within his own party. He’s stalked and hunted them all relentlessly, and has turned the majority of the people against them, and against globalism…in just 18 short months. \n",
            "None have been able to stop him. It has been one of the most remarkable things I’ve ever witnessed, and gives me great hope that our foes, these globalist banksters, technocrats, International Zionists, and every foe of the West, is much weaker than we ever thought possible. \n",
            "Just think: \n",
            "If CANDIDATE Trump has been able to do all this in just 18 months, what kind of utter, nightmarish carnage could PRESIDENT Trump bring down upon neo-liberal globalism? \n",
            "I believe we’re all about to find that out!\n",
            "True\n",
            "Next Swipe left/right Koala gets so excited it runs head-first into a tree Mason, a baby Koala at the Port Stephens Koala sanctuary in Australia, gets so excited he runs head-first into a tree.\n",
            "True\n",
            "Everything you ever wanted to know about Hillary and Bill and their criminal past is in this video. How did they get away with so much? Why have they never been punished for their crimes? Many of the answers can be found in the video below. This is the full length movie. Part I can be seen below.https://youtu.be/t63iS7nep3sClinton Chronicles Part I:\n",
            "True\n",
            "A Catholic priest has been caught on camera snorting cocaine on church grounds, in a room covered in Nazi memorabilia.As the BBC reports:Fr Stephen Crossan is reported to have snorted coke through a  10 note during a night of drinking in July 2015 in Banbridge, County Down.He was in a room containing Nazi memorabilia, and seemed to say  I shouldn t  as he snorted, the Sun on Sunday reported.He has taken leave from the priesthood.A spokesperson for the PSNI said:  Police are aware of the article in a Sunday newspaper and are making inquiries. The Church has confirmed that the footage took place in the Priest s parochial house, on the grounds of St Patrick s Church, Banbridge, in July of last year.This Priest forms part of the same Catholic Church which in Northern Ireland and the U.S., attempts to exert a moral authority over men, women and children. The same church which is fighting to prevent the equal marriage rights of same-sex couples. The same church which is fighting the reproductive rights of women and men, through opposition to abortion and contraception. The same church which is trapping people in loveless or violent marriages, by fighting the right of (predominantly) women to divorce. The same church which covered up rampant sexual abuse of children by their priests, rather than expose themselves to public accountability.However, this same cocktail of toxic beliefs has infected the Republican Party of the United States through the Christian Conservative movement. Despite the clear and incontrovertible evidence that religiosity is not the same as morality, this party and it s Quiverfull followers still attempt to assert a moral authority of secular liberals.Unfortunately for the Father Crossan, the Duggars and other Christian Conservative leaders   your moral hypocrisy has a way of making itself known to the world.Featured Image via Screengrab\n",
            "True\n",
            "Home / News / TRUMP TSUNAMI INCOMING: What Trump Did In Florida Today Will Make Him President! TRUMP TSUNAMI INCOMING: What Trump Did In Florida Today Will Make Him President! fisher 5 mins ago News Comments Off on TRUMP TSUNAMI INCOMING: What Trump Did In Florida Today Will Make Him President! TRUMP TSUNAMI INCOMING: What Trump Did In Florida Today Will Make Him President! \n",
            "Breaking! Breaking! Bad news for Hillary in Florida. Early voting numbers from Florida are showing that Republicans have cast 17,000 more votes than Democrats. \n",
            "*** 6 days before the Election in 2012, Democrats in Florida cast 39,000 more votes than Republicans. \n",
            "*** Today, six days before the election, Republicans have now cast 17,000 more votes than Democrats. \n",
            "Watch Trump in Miami, FL today:\n",
            "True\n",
            "Each opposition organisation, civic activists and independent media outlets in Belarus prepare kill lists, which contain information (first and last names, names of the relatives, passwords, photos, etc.) about high-ranking state officials, policemen and employees of other law-enforcement agencies, entrepreneurs, etc.  For instance, civic activists can take photos of Belarusian policemen in plain clothes at public events such as the celebration of the 101st anniversary of the Belarusian People's Republic. These lists are likely aggregated into one database, controlled by Western security bodes.\r\n",
            "\r\n",
            "In case of a peaceful power change in Belarus the persons in the kill lists will be subject to lustration. Law-enforcement agencies like the Ministry of Interior, the KGB and the Investigation Committee will be dissolved. The restoration of the law-enforcement apparatus will take place on the orders of Western donors. In case the power change in Belarus is not peaceful, then those on the kill lists and their relatives will be declared the enemies of the people and executed whereas their kids will  be labeled the dregs of society.\n",
            "True\n",
            "Home › POLITICS › CLINTON: I’D ADD MICHELLE OBAMA TO MY CABINET CLINTON: I’D ADD MICHELLE OBAMA TO MY CABINET 0 SHARES \n",
            "[10/31/16] Hillary Clinton says she is open to making first lady Michelle Obama a member of her Cabinet should she become president. \n",
            "“She’s made it pretty clear she wants to focus on important issues like girls’ education around the world – she and I actually talked about it when we were together in Winston-Salem [N.C.] – and I want to be the best partner I can be for whenever she wants to be involved in government again,” she said in an interview with Extra released Monday. \n",
            "“I think she wants to take a break from it, but if she ever wants to do anything like that, I would be the number-one person.” \n",
            "Clinton, the Democratic presidential nominee, added that she admires Obama’s work both in the White House and on the campaign trail. \n",
            "“Well, I don’t know how anybody could have done what she’s done for the last eight years with more grace and more of a sense of purpose but inclusivity,” she said. \n",
            "“She’s been an exemplary first lady, and I know how hard that job is,” added Clinton, who is herself a former first lady. “So I feel so close to her and I’m so appreciative of all the help she’s giving me, all the confidence and courage, because it’s hard.” \n",
            "President Obama said last Friday his wife would “never run for office,” despite her high-profile role in the 2016 race. Post navigation\n",
            "True\n",
            "Next time you see a Democrat lawmaker, thank them for supporting sanctuary cities and states, and making every American less safe A Mexican man who was deported from the US 20 times has been convicted of 10 counts including sexual assault in Oregon. On Friday, Sergio Jose Martinez, 31, was sentenced to 35 years in prison in a Portland courtroom after pleading guilty to kidnapping, sexual assault, sodomy and several other counts, KOIN reported.Martinez smiled throughout the trial, and as he left, he gave one grim parting shot to his two victims  relatives:  See all you guys in Hell. The first attack occurred early on the morning of July 24, when Martinez entered the Northeast Portland home of a 65-year-old woman through a window she had left open to cool the house.Wielding a metal rod, Martinez told the woman to get down on the ground, where he bound and blindfolded her, threatened to murder her, and then sexually assaulted her, KGW reported.He stole the woman s purse and car; she called the police from a neighbor s home, and they located the vehicle and put it under surveillance.While they kept an eye on the car, however, Martinez was stalking his second victim in a parking garage on the corner of Northeast 21st Avenue and Northeast Halsey Street.He approached her carrying a knife and made her get into her car; as he got in after her she attempted to escape, but he was able to grab her and start slamming her head into the ground.The woman called out for help and as passersby approached, Martinez attempted to steal her car, then fled on foot when it failed to start. Police caught him minutes later.Two relatives of one of the victims, and one of the victims herself spoke during the sentencing phase Friday, in which Martinez often grinned.A brother of one victim told Martinez:  Sergio, no sentencing is enough. I rather you rot in Hell. Deputy District Attorney Amity Girt, the prosecutor on the case, said:  We had some very powerful victim impact statements that said it all. It was really breathtaking to hear the far-reaching consequences of violent crime, the emotional injury. Under the agreement that spared Martinez a possibly longer sentence if he had been found guilty at trial, he pleaded guilty to 10 counts, including first-degree burglary, sodomy, sex abuse, kidnapping, robbery, and second-degree assault.Martinez s lawyer, Jonathan Sarre, said his client  suffers from some mental illnesses; often such people may do inappropriate things in these situations. However, he acknowledged that a doctor had declared Martinez competent to stand trial.Martinez had been freed from jail in Portland a week before the attacks; he was in there for interfering with police and providing a false birth date.He was released despite a request from US Immigration and Customs Enforcement for the Multnomah County Sheriff s Office to hold him so the agency could take him into custody.Oregon became America s first sanctuary state when it adopted a law in 1987 preventing law enforcement from detaining people who are in the United States illegally but have not broken other laws.  Daily Mail\n",
            "True\n",
            "AMERICA VANQUISHED, Part 1: America as an Israeli Colony About \n",
            "This is the website of Lasha Darkmoon, an anglo-American academic with higher degrees in Classics who lives and works in England. You can read more about Darkmoon here . Subscribe to our Newsletter Subscribe to get important new posts and other updates via our occasional newsletter. Meta\n",
            "True\n",
            "The Death Tax is the hard earned money you have to pass on to the government when you die. Wouldn t you rather your children receive that money instead of the feds? Donald Trump thinks so but Hillary goes full on socialist describing what she would do with Trump s money when he dies. It s really disgusting!\n",
            "True\n"
          ]
        }
      ]
    },
    {
      "cell_type": "code",
      "source": [
        "wrong_examples_small_batch8 = np.intersect1d(wrong_guesses['small_bert_base_model_batch8'],\n",
        "                                             wrong_guesses['small_distilroberta_model_batch8'],\n",
        "                                             wrong_guesses['small_distill_bert_model_batch8'])\n",
        "\n",
        "for i in wrong_examples_small_batch8[:10]:\n",
        "  print(eval_texts[i])\n",
        "  print(eval_labels[i])"
      ],
      "metadata": {
        "id": "aXID_gAJ68C2",
        "colab": {
          "base_uri": "https://localhost:8080/"
        },
        "outputId": "25fb7eff-d28d-4941-cdc8-7477902d9400"
      },
      "execution_count": null,
      "outputs": [
        {
          "output_type": "stream",
          "name": "stdout",
          "text": [
            "Carl G. Jung Attitude Types and the Sash of Solitude Nov 8, 2016 0 0 \n",
            "Jung believed that our orientation to the world was a foundational aspect of our personality. Jung identified was the two opposite ways in which we adapt to, or orient ourselves to, the world. These are Jung’s attitudes of Extraversion and Introversion. Extraversion – Our energy moves toward the outer world of people, places and things; the world outside of us. Introversion – Our energy moves toward the inner world of thoughts and ideas; the world inside of us. Loneliness vs. Solitude \n",
            "As human beings, we are social creatures and, without others around us from birth, we would not even be able to stay alive in this world. Social space plays a crucial role in the development of our personality, as the direction of our development is determined by the expectations of other people and our desire to meet those expectations. That is how we become a part of a collective, social space called society, and society receives its special nature from the culture it represents. \n",
            "The book of our personal history is written in this social space, and our identity is built upon the foundation of our personal history. We are surrounded by other people, and their expectations and requirements are present in our mind when we are alone. Most people do not understand the difference between solitude and being lonely. The solitude is at the same time loneliness for us. \n",
            "The two words, however, mean two different situations. Solitude is the state of the mind, whereas solitude is the state of the Consciousness. \n",
            "In the isolated state of consciousness of Ego-dominated mind we do not like to be alone, when we are alone, we think we are lonely, we find it difficult to tolerate, we try to avoid it. How we do it, depends on our attitude types. Extraversion vs. Introversion \n",
            "Extroverted people focus primarily on social life. When we are alone, we seek friends, go to parties, because we like to share our pleasures and sorrows with others. \n",
            "Introverted people, on the other hand, tolerate loneliness much better, they like to be alone. They turn towards their internal world (thoughts and emotions). They are not alone, though, as other people are present in their mind in the form of their opinions and expectations. When they turn inward, they talk, argue with the opinions of others, and analyze the reactions of others. \n",
            "For an external observer, an introverted person might seem to be alone, but there is usually a whole little group in the head of the person. When an introverted person is alone, they try to find some activity to occupy themselves in order to avoid the unpleasant feelings that come with loneliness. They are capable of watching TV for hours, or use work as an escape route. The Gift of Solitude \n",
            "Why do people so desperately run away from loneliness, from being alone? \n",
            "Because we do not know ourselves, so we do not like being alone. When we are lonely, we must face the fact that our entire personality is pretence, and our whole identity is built upon false foundations. \n",
            "Even if these sentences are not formulated so specifically in our mind when we are on our own, the anxiety and depression overcoming us signify that there is something wrong with us. We feel lonely, so we escape so as to find shelter in the company of others or in our own thoughts from the negative emotions. \n",
            "We feel lonely because we are full of insistence. We insist on our personal identity, our own history, in which the main roles are always played by others. Solitude is a menace to the foundations of our identity. \n",
            "It is true that during our life we are often surrounded by other people, and we live our life as members of the society, but deep inside we remain separate, isolated individuals for the whole of our life. Very deep inside we are born alone, live alone and we die alone. Being alone like that is a state we interpret as solitude. \n",
            "Only the awakening of the Consciousness is capable of putting an end to that sense of solitude rooted in our original isolation. Only when we have experienced that Miracle, do we recognize that loneliness is our natural state, in which the independent, still all-penetrating Presence shines on. \n",
            "Read more articles from Frank M. Wanderer Vote Up Frank M. Wanderer PhD Frank M. Wanderer Ph.D is a professor of psychology, a consciousness researcher and writer. Frank is the author of the books \" The Revolution of Consciousness: De-conditioning the Programmed Mind \", \" Ego - Alertness - Consciousness: The Path to Your Spiritual Home \" and several books on consciousness . With a lifelong interest in the mystery of human existence, Frank’s work is to help others wake up from identification with our personal history and the illusory world of the forms and shapes, and to find our identity in what he calls “the Miracle”, the mystery of the Consciousness. You can also follow his blog HERE\n",
            "True\n",
            "STUNNING! Former US Pres. Obama was at the International Summit of Food Innovation in Milan. May 9. 2017 It s called SEEDS AND CHIPS but should be called THE BASICS OF COMMUNISM BY BARACK OBAMAYou might not want to listen to the entire video but it is truly stunning to listen to the elitist globalist vision for controlling the masses. This is where we re heading if the people don t recognize this and rise up to fight it. This is why the left hates Trump! the shadow government wants control and will do everything it can to continue ruling. Obama and his cronies are dangerous to us all. We hope you ll listen to the entire video or at least the point beginning with 44:36:Please go to the 44:36 point of the video: Obama speaks and then notice the clapping after his comments   these elitist lefties are nutso!OBAMA PRAISING THE INHERENT VALUE OF COMMUNISM: This is a much bigger concern in the economy as a whole. And my guess is that ultimately what is going to happen is that everybody is going to have to work less and we re going to have to spread work more.But that is going to require a reorganization of the social compact. That requires we change our mindset about the link between work, income and value of people in the teaching profession, or in healthcare, or in certain things that cannot be done by AI or a robot.How do we prepare for that? And how do we start creating, or at least having a conversation within our society about making sure that work and opportunities are spread; and that everybody has the chance to live a good and fulfilling life?Rather than having a few people who are working 80 to 90 hours a week and making enormous incomes; and then a large portion of redundant workers that increasingly have difficult time supporting families. That s not a sustainable mechanism for democracy and a healthy society.The end of the stunning comments is 46:40 of video\n",
            "True\n",
            "For weeks, if not months, if not decades, those trying to highlight Hillary s connection to Wall Street have been focused on her relationship with Goldman Sachs and how much she was paid to speak for them. Transcripts of those speeches have also been requested. Well, here is one of those speeches.Clinton can be seen here on October 22, 2014 speaking in front of a large Goldman Sachs audience. However, she s not talking about giving them breaks or handouts or favors, she s proving the case for women entrepreneurs. As much as Wall Street NEEDS to be reined in and made to pay their fair share in taxes as well as be properly regulated, we need to also remember that there can be some good that comes out of companies with a lot of money. Clinton, recognizing this, has been trying to help raise capital to support women in business. Which, in 2014, was looking to raise up to $600 million in support of female entrepreneurs.This video, featuring Hillary making the case for women in business, which was before she decided to run for president, has the caption: The event featured a keynote address from former Secretary of State Hillary Clinton on the business case for empowering women to ensure future economic growth. Pretty evil, right? Probably just another backhanded scheme to  eh, enough of the conspiracy theories.Clinton, during her speech stated: The work that we are doing is work that is absolutely essential for global economic growth. Followed by: There is no path forward that does not include the empowerment of women. As far as speaking fees, her fees were pretty standard for most any highly distinguished speaker, so when she responds with,  that s what they offered  and being a former First Lady, Senator, and Secretary of State, it makes sense to pay her as much as they did, as obscene as that amount may seem.Clinton was speaking on behalf of women worldwide and trying to open doors to accessible capital to start businesses and advance gender equity as well as economic equality.Here s her speech in full: Video/Featured image from YouTube\n",
            "True\n",
            "German Chancellor Angela Merkel welcomed the fact that Donald Trump won the US presidential election.\n",
            "True\n",
            "https://www.youtube.com/watch?v=sMHGkzrwzKg\n",
            "True\n",
            "It would appear American voters are more interested in what the Republican party has to say about the future of our nation than the out-of-control Democrat Party driven by the Saul Alinsky disciples of chaos, division and hate It was like a political Coachella last night at the Democratic National Convention   and not just because Lenny Kravitz was playing. With star turns from Vice President Joe Biden and then primetime performances from VP hopeful Tim Kaine and then President Barack Obama himself, the Wells Fargo Center in Philadelphia was rocking    even more so when nominee Hillary Clinton made an onstage appearance at the very end to hug it out with POTUS   though it didn t lead to ratings fireworks it seems in the early numbers.An estimated 24.2 million viewers watched the president address the crowd in the Wells Fargo Center in Philadelphia Wednesday night.Those numbers are 18 percent lower compared to the ratings Ted Cruz got when he spoke at the Republican National Convention in Cleveland last week. This is the first time the RNC coverage has outperformed the DNC.The numbers are surprising considering Joe Biden, Tim Kaine and Obama were the speakers Wednesday.   Daily CallerHighlights of controversial Ted Cruz RNC speech: Even with all the big names onstage last night, convention-to-convention, the combined rating of the DNC stumbled against Donald Trump and the RNC. Day 3 in Philadelphia was down 18% in the fast affiliates key demo from the drama of Day 3 in Cleveland when Ted Cruz refused to endorse the candidate and running mate Mike Pence spoke.   DeadlineAnd here are a few highlights from Barack Obama s speech last night:\n",
            "True\n",
            "Shocking! Michele Obama & Hillary Caught Glamorizing Date Rape Promoters First lady claims moral high ground while befriending rape-glorifying rappers Infowars.com - October 27, 2016 Comments \n",
            "Alex Jones breaks down the complete hypocrisy of Michele Obama and Hillary Clinton attacking Trump for comments he made over a decade ago while The White House is hosting and promoting rappers who boast about date raping women and selling drugs in their music. \n",
            "Rappers who have been welcomed to the White House by the Obama’s include “Rick Ross,” who promotes drugging and raping woman in his song “U.O.N.E.O.” \n",
            "While attacking Trump as a sexual predator, Michelle and Hillary have further mainstreamed the degradation of women through their support of so-called musicians who attempt to normalize rape. NEWSLETTER SIGN UP Get the latest breaking news & specials from Alex Jones and the Infowars Crew. Related Articles\n",
            "True\n",
            "Not only did the ancient Hopi believe their Gods inhabited the inner parts of the Earth, they also depicted mysterious Ant-like beings and flying shields thousands of years ago. \n",
            "\n",
            "Interestingly, their legends also speak of a great flood which is a clear parallel to ancient Sumerian legends of the Great Flood .\n",
            "\n",
            "‘Hopituh Shi-nu-mu’ is the name that one of the Native American tribes is called and means “peaceful people.” \n",
            "\n",
            "The history of the ancient Hopi goes back thousands of years and makes them one of the oldest cultures in the world.\n",
            "\n",
            "\n",
            "Unlike other mythologies of different cultures which speak of gods that descended from the heavens, in the ancient legends of the Hopi , a different story is told, speaking of mighty gods who reside in the center of the Earth.\n",
            "\n",
            "But who were they? In a similar way, nearly all pre-Columbian cultures just like the Hopi believe that one day, not too far away, the gods who have shaped human culture will come back to Earth.\n",
            "\n",
            "They have always lived according to the teachings that were given to them by Masauwu, the Master of the Fourth World, where ethical concepts are deeply rooted in their culture.\n",
            "\n",
            "However, contrary to many other mythologies that are widespread around thew globe, the Hopi believe that their gods do not live in the infinite spaces of the cosmos, but live in the heart of the Earth, conveying the idea of a hollow earth existing right below our feet.\n",
            "\n",
            "The ancient Hopi speak of their deities as ‘ant men.’ In fact, some of the petroglyphs found near Mishongnovi, Arizona, created by the ancient Hopi depict the enigmatic beings with antennas’ offering an idea of how these strange ant-men looked like.\n",
            "\n",
            "\n",
            "According to the mythology of the Hopi, at the beginning of time, Taoiwa, the Creator, created Sotuknang, his nephew, giving him the task of creating nine universes or worlds: one for Taiowa, one for him and the other seven for the overabundance of life. \n",
            "\n",
            "In a cyclical conception of time, in a similar way to Aztec mythology, these worlds would continue cyclically.\n",
            "\n",
            "The mythology tells that story that the first three worlds, Tokpela, Tokpa, and Kuskurza have already been inhabited and subsequently destroyed due to corruption and wickedness of men. \n",
            "\n",
            "The Hopi speak that the end of each cycle is marked by the return of the gods, and announced by the appearance of the Blue Kachina Star the sign of the ‘Day of Purification,” in which the old world is destroyed, and a new one begins.\n",
            "\n",
            "Each time one of the worlds is destroyed, the Hopi, the faithful are saved and taken by the gods to the underground cities to escape the destruction of the planet.\n",
            "\n",
            "In each cyclic destruction, and always according to the mythology of the Hopi, the ‘men-ant’ are crucial for human survival.\n",
            "\n",
            "The so-called ‘First World’ (Tokpela) was apparently destroyed by the fire of global proportions, perhaps a kind of massive volcanism, or the impact of an asteroid or even a large coronal mass ejection from the Sun of catastrophic proportions.\n",
            "\n",
            "The ‘Second World’ (Tokpa), however, was destroyed by the cold. Most likely due to a pole shift that caused a massive ice age that destroyed life on the planet.\n",
            "\n",
            "Interestingly, in the course of these two global cataclysms, the members of the Hopi tribe were guided during the day by a cloud of strange shape and a moving star overnight, leading to the presence of the so-called ‘Ant-Man’ which the Hopi call Anu Sinom.\n",
            "\n",
            "This creature escorted the Hopi to underground caves where they found shelter and sustenance.\n",
            "\n",
            "Interestingly, in the ancient Sumerian language, Anum or Anu was the god of the. He is the creator of creation.\n",
            "\n",
            "In the Hopi legend, the mysterious creature that resembled a humanoid-ant is described as a generous and hardworking creature, willing to provide food to the Hopi, and to teach them methods of food preservation so they could survive.\n",
            "\n",
            "\n",
            "As you can see, like many cultures around the globe, the ancient Hopi believed in the existence of subterranean chambers, cities which are eerily similar to other theories of the Hollow Earth. \n",
            "\n",
            "The Ancient Hopi also mention the mysterious ant-men gods who helped the ancient Hopi progress through time. However, the ancient Hopi also speak of the patuwvotas or ancient ‘ flying shields .’\n",
            "\n",
            "According to Frank Waters , author of Mystic Mexico: The advent of the Sixth World of Consciousness (1975) it is in the ‘third world’ where the ancient Hopi introduce the concept of the Patuwvotas, or “flying shields’.\n",
            "\n",
            "In the third cycle, it is said that humanity built a very advanced civilization, and developed the concept of “flying shields,” a sort of vehicle that can quickly travel to different places in the world and devastate entire cities on Earth. \n",
            "\n",
            "The Third World was destroyed by Sotuknang, the nephew of the Creator, with a great flood.\n",
            "\n",
            "Also, in this case, there is a clear parallel with the Sumerian tradition in which we talk about the great flood that destroyed all previous civilization on the planet. \n",
            "\n",
            "This story is told in the Epic of Gilgamesh , a text which was then taken to biblical tradition in the history of the Flood and Noah’s Ark .\n",
            "\n",
            "According to the traditions of the Hopi, the survivors of the flood are scattered in different parts of the world, under the guidance of Masauwu, the Spirit of Death and the Master of the Fourth World. \n",
            "\n",
            "A fascinating petroglyph of the Hopi is that where Masauwu is represented piloting a wingless boat that has the shape of a dome. The similarity between the “flying shields” and what we today consider as airplanes or flying saucers, is mind boggling.\n",
            "\n",
            "It seems evident that the flying shields or ‘ships without wings’ are something ancient cultures around the globe witnessed in the distant past. \n",
            "\n",
            "The ancient Hopi used the term to refer to something that was capable of flying through the skies and transporting people.\n",
            "\n",
            "Humans Are Free SOURCE\n",
            "True\n",
            "If you want to watch a conservative throw a temper tantrum just mention slavery and grab your popcorn.Because when First Lady Michelle Obama talked about slavery and the great progress our country has made since the Civil War during an interview at the new Smithsonian Institution s National Museum of African American History and Culture, conservatives took to Twitter to whine.Mrs. Obama told Good Morning America host Robin Roberts about how she feels about visiting the museum, which opens this weekend. And one of the things that struck her the most is the fact that a lot of the history the museum presents happened during the lives of the three generations of her family who visited the museum that day. And she expressed astonishment at how fast progress has been made. When you think about the fact that my great-great grandfather was a slave and today I live in the White House, that progress is huge and it s fast,  the First Lady said.Here s the video via Twitter.FLOTUS:  My great-great grandfather was a slave and today I live in the White House. That progress is huge.  https://t.co/A4RwUHYR5z pic.twitter.com/vvhgrtxoYu  ABC News (@ABC) September 23, 2016But, of course, conservatives lost their shit and displayed their hatred in the comments.@ABC And the sooner that Mooch and Obummer get out of the White house and Trump gets in, the better! #TrumpPence16 #MakeAmericaGreatAgain  Chantie Huffines (@LadyChantie) September 23, 2016@ABC But, you keep the narrative going that all white people, except Clintons, are racist.  Deporable & watsit2u (@thumbug) September 23, 2016@ABC The country is more racist than ever since The Obamas entered the White House. They have a bitter resentment for White People  Mike Van Patten (@MikeVanPatten4) September 23, 2016@ABC So why are the democrats trying to send race relations back to the sixties?  Deplorable Voter (@Antone18) September 23, 2016@ABC Keep driving racial segregation down our throats, ABC. These types of post should sure give you more  peaceful  protest to cover.  Ashton Allen (@Asherzz09) September 23, 2016@ABC MOVE OUT BIMBO  Donna Coffey (@Dcoffey56Donna) September 23, 2016@ABC Lord Jesus said to do good as bondmen.  John Stefanyszyn (@JohnStefanyszyn) September 23, 2016@ABC And we can thank the Republican Party for that. It certainly wasn t the Democrats.  Bev Cross (@BevCross1) September 23, 2016@ABC then they managed to set us back decades by generating a racial divide n bringing anarchy among the people  awesome job NOT #GOTRUMP  Jane callaway (@janeewc) September 23, 2016And while it is true that the early Republican Party freed the slaves, it was at a time when Republicans were liberals and Democrats were conservatives. The two parties have flipped since then. Democrats have since become the defenders of Civil Rights who continue to fight for racial equality and social justice while Republicans pandered to white racists in the South and have become dominated by white supremacists who desperately want to roll back any and all progress African-Americans have made in this country.If Republicans have to go back 150 years to find one good thing the party did for African-Americans that s really embarrassing and says a lot about what the party has become.Featured image via Wikimedia\n",
            "True\n",
            "An aggressive information campaign is going on against Russia [by the West]. On its side, Russia doesn't wage information attacks. It has never done anything bad to anyone in the information field. Russians have simply learned how to respond.\n",
            "True\n"
          ]
        }
      ]
    },
    {
      "cell_type": "code",
      "source": [
        "wrong_examples_large_batch4 = np.intersect1d(wrong_guesses['large_bert_base_model_batch4'],\n",
        "                                             wrong_guesses['large_distilroberta_model_batch4'],\n",
        "                                             wrong_guesses['large_distill_bert_model_batch4'])\n",
        "\n",
        "for i in wrong_examples_large_batch4[:10]:\n",
        "  print(eval_texts[i])\n",
        "  print(eval_labels[i])"
      ],
      "metadata": {
        "id": "aEcsWHO96774",
        "colab": {
          "base_uri": "https://localhost:8080/"
        },
        "outputId": "14bf403d-d453-4f8a-b1d8-017dff27bcf1"
      },
      "execution_count": null,
      "outputs": [
        {
          "output_type": "stream",
          "name": "stdout",
          "text": [
            "Hillary Clinton will be back in the spotlight this fall for an unprecedented, big-ticket book tour for her new tome What Happened, with tickets priced as high as $1,200.On Monday, the ex-Democratic nominee announced  Hillary Clinton Live,  a 15-city tour, which includes stops in a handful of states she lost in the election last year.The astronomically priced tickets for Hillary s loser tour, certainly begs the question:  If no one came to see Hillary at her rallies (for free) when she was running for president, why would they pay $1,200 to hear the even more irrelevant Hillary Clinton whine about why she lost to Trump? Promotional materials for her first stop, at the Warner Theatre in Washington, D.C., promises Clinton plans to  let loose  and tell her audience a  personal, raw, detailed and surprisingly funny story  of her election loss and recovery.The website promoting the tour, HillaryClintonBookTour.com, features a quote from Clinton too. In the past, for reasons I try to explain, I ve often felt I had to be careful in public, like I was up on a wire without a net,  she said.  Now I m letting my guard down,  she pledged. The tour kicks off on September 18 in D.C. and continues on all through fall.Clinton is making stops in the trio of states that are largely blamed for her election loss: Pennsylvania, Wisconsin and Michigan.Clinton is hitting up a trio of Canadian cities too, making appearances in Toronto, Montreal and Vancouver.Top-tier ticket packages in those cities cost $3,000 Canadian dollars for two seats, or, in American dollars, about $1,200 a pop.  Daily MailWill somebody who genuinely cares about her, please tell her how insignificant she is, so she and her irrelevant husband and daughter just go away?\n",
            "True\n",
            "Donald Trump: The next President of the United States of America   Donald Trump will be the new President of the United States of America . Trump won 276 electoral votes with the necessary minimum of 270 votes. During his speech as the winner, Trump has promised the Americans to be president for all citizens of the country. According to him, America will not be satisfied with anything but the best. At the same time, the newly elected president has promised to seek common ground, not enmity, with partners in the world. formal voting procedure for electors will be held on December 19 and January 6, 2017, Congress will adopt its outcome. The inauguration of the president-elect is scheduled for 20 January. To win the election, a candidate needs to enlist the support of 270 electors. The procedure for their formal vote will be held on December 19, while on January 6, 2017 Congress will approve its results. The inauguration is scheduled for January 20, when the US president-elect takes office. Pravda.Ru\n",
            "True\n",
            "Former Attorney General Eric Holder, who served under former President Barack Obama, unleashed a tweet at 3:00 a.m. to the Department of Justice and the FBI in which he warned officials to  be prepared. To the career men & women at DOJ/FBI: your actions and integrity will be unfairly questioned. Be prepared, be strong. Duty. Honor. Country,  he wrote.To the career men & women at DOJ/FBI: your actions and integrity will be unfairly questioned. Be prepared, be strong. Duty. Honor. Country.  Eric Holder (@EricHolder) June 30, 2017Just after former FBI Director James Comey was fired, Holder tweeted something similiar, writing,  To the career men and women at DOJ/FBI: you know what the job entails and how to do it. Be strong and unafraid. Duty. Honor. Country. To the career men and women at DOJ/FBI: you know what the job entails and how to do it. Be strong and unafraid. Duty. Honor. Country.  Eric Holder (@EricHolder) May 10, 2017Holder s Friday morning tweet raised eyebrows on Twitter, with many speculating that  something big  was about to happen.Something big is coming. A 3am tweet from Eric Holder? Yeah, something's coming.  Jack A Roe (@JackARoe12) June 30, 2017I don't think that's it. A storm is a brewin', treason is in the air, and it's gonna dump a holy incriminating load on Team Trump very soon  U.S.O.U.S. (@hyperauxetic) June 30, 2017Damn DW. wtf .  Dennis Herring (@dcherring) June 30, 2017??NOTE??the time stamp on fmr AG Holder's tweet: 3:17am!?Think something big is happening https://t.co/9rJ8ELUVZh  Dr. Dena Grayson (@DrDenaGrayson) June 30, 2017A storm is coming. pic.twitter.com/QLtmKYRYIW  Tina McD5 (@TinaMcDermott5) June 30, 2017Wow, what's about to happen? A 2AM Tweet from AG Holder.  Sara Tonin, RN (@shar76) June 30, 2017Holy shit! Sounds like you're saying buckle up it's going to get a lot bumpier.  diane (@dtheavenger) June 30, 2017 pic.twitter.com/Q3KreFrgr5  B b   g  (@hardhouz13) June 30, 2017Hmmm. Somethin's comin,' somethin' big ..  Sybill Trelawney (@SybilT2) June 30, 2017#dutyhonorcountry? pic.twitter.com/bt13IshQqp  heidi siegmund cuda (@foxycuda) June 30, 2017Holder isn t a frequent Twitter user so that makes his tweet seem peculiar. The Trump administration is plagued with scandals and alleged president Donald Trump seems to incriminate himself with his own tweets. The former reality show star s Twitter timeline is a goldmine for prosecutors and investigators. The amateur president launched a war on every U.S. Intelligence agency and that won t fare well for him. Trump s war against the free press is backfiring big time, too. Perhaps Trump should stop tweeting for a moment and read Holder s warning. Nah, Trump would just tweet about Holder s wife, saying she once had blood coming out of her whatever.We re not trying to go all Alex Jones on you but for a man who typically tweets about his objections to repealing Obamacare, this does seem a bit odd. Look out, Trump. You re about to lose this war. A former Attorney General doesn t just tweet out a  be prepared  message all willy nilly unless something is coming. The Trump administration fired Preet Bharara, Sally Yates and James Comey   and all three were investigating Donald Trump. That s rather suspicious, don t you think?As of now, Holder s tweet has been liked over 30,000 times and it s garnered 13,00o retweets. I suspect the Twitter-addicted alleged president has already taken notice.Featured image via Chris Graythen/Getty Images\n",
            "True\n",
            "Planned Parenthood clinics have long been targets for right-wing  Christian  extremism and it looks like they may have struck again, this time in Florida.Sarasota Fire and Rescue responded to a call at the city s Planned Parenthood office Monday morning. Two Hazmat crews   one from Sarasota, the other from neighboring Manatee County   were called to the scene to investigate an unknown substance in the building. According to a spokesperson, 38 people were inside of the downtown clinic, seven of whom were taken to the hospital after experiencing shortness of breath. In addition to the evacuation of the clinic, a nearby school, the Sarasota School of Arts and Sciences, was put on lockdown.Image via video screenshotPlanned Parenthood of Southwest and Central Florida issued the following statement:At Planned Parenthood our top priority is the safety of our patients and staff. The situation at our Sarasota Health Center is still developing. All staff have been evacuated, with seven taken to the hospital to monitor their health. No patients were on site. We are grateful to emergency responders and law enforcement for their quick response.Here in Florida and across the country, Planned Parenthood has strong security measures in place, works closely with law enforcement agencies, and has a very strong safety record.We are looking into the cause of this issue and will keep you informed of our progress.At this time, nobody knows what made the people inside of the clinic sick, but with all of the right-wing hate focused on the organization it is easy to automatically assume the worst. Last year, a conservative pro-fetus organization doctored videos and accused Planned Parenthood of  selling baby parts.  Their lies led to the murders of three people at a Colorado Springs PP clinic. Christian terrorist Robert Dear shot and killed the three people and injured nine others. He claimed that he carried out the crimes in response to the doctored videos and claimed he was a  warrior for the babies.  In addition to the shooting, a number of clinics were the targets of arsonists.One thing is certain, in an age when Republican organizations use fear-mongering and lies to keep their base whipped up in a frenzy, nobody is safe. Their rhetoric is dangerous and we have seen the evidence of it too many times   hopefully, this isn t one of those cases.UPDATE: Hazmat is reporting that unknown, uncapped cleaning chemicals were found in a closet, as well as baby food in a stairwell. Featured image via WFLA\n",
            "True\n",
            "shorty BY PETER LEE I ’ve written a couple pieces of the smoking hot issue in Pivotland, Philippine president Duterte’s swerve toward a pro-PRC foreign policy, and what the U.S. and pro-American sector of the Manila elite are going to do about it. The first piece, Reports of death of US-Philippine alliance may be exaggerated, addresses the fact that Duterte’s freedom of movement is constrained by the need to keep the Philippine military happy, and notes that ex-prez and retired general Fidel Ramos, who facilitated Duterte’s entrance on the national political stage, is signaling dissatisfaction with Duterte. The second piece, Duterte Plays the ‘Mamasapano’ Card, covers a Duterte counter-attack: a threat to relitigate the death of 44 Philippine National Police commandos at Mamasapano in Mindanao, a 2014 special ops fiasco conducted under the aegis of the United States which a) exposes ex-president Aquino to serious legal jeopardy b) posits that the US alliance is doing a better job of killing Filipinos than the PRC can ever hope to do. The US seems to be embedded in a colonial mindset when it comes to the Philippines, something along the lines of “we’ve been selflessly looking after the Philippines for a century, and that thug Duterte won’t be allowed to screw that up during his brief (maybe curtailed) presidency.” It takes a pretty superficial view of Philippine history, one that accepts the US self-definition as the Philippines’ security savior while ignoring the distortions and shortcomings of the colonial and neo-colonial relationship. For me this tunnel vision was typified by the US media crowing over the formal delivery of a refurbished C-130 transport to the Philippine government by outgoing ambo Philip Goldberg. Message: here’s the US making provisions for Philippine defense at the same time Duterte’s selling out the country to China. To me, the inadvertent message was 1) here’s the US blindly stroking the pivot fetish while Duterte tries to solve the Mindanao insurgency that has cost at least 400,000 lives over the last century, win his drug war, and find a place for the Philippines in Asia that doesn’t give primacy to the US preoccupation confronting the PRC and 2) the U.S., in my opinion, pretty much has a policy of keeping the Philippines flat on its behind as an independent military force by trickling out second-hand gear to the Philippine military while the sweet stuff is dangled in front of it during US joint military maneuvers and port calls. But the United States is trying to find political leverage wherever it can and the Western media will, I’m sure, put its shoulder to the wheel to help out. Feelings of nationalism are pervasive in the US, but Americans have difficulty understanding why people in other nations may harbor animosity toward them on account of their colonialist and imperialist experiences. P hilip Goldberg sat down for a 45-minute exit interview with Rappler. As befitting Rappler’s origins in the Soros/Omidyar network of pro-US globalization advocacy, the interview was a stream of softballs about what to do about Duterte’s disregard of the awesomeness of the American relationship, an awesomeness that is acknowledged by virtually all Filipinos who inexplicably (and, if the US has anything to do about it, temporarily) at the same time give Duterte approval ratings of over 80%. It’s worth watching if you have the patience. Goldberg is a smooth cat, and the Rappler tonguebath gives you no inkling of the fact that he intimately familiar with the wet work of end-arounding national governments to cultivate secessionist movements, you know, like what he did in Bolivia (declared persona non grata as a result) and Kosovo, and like that thing in Duterte’s home province of Mindanao, which in my opinion probably the main reason why Duterte wanted him out of the Philippines. Goldberg also discretely plays the economic threat card, concern-trolling that anti-US attitudes will dismay “foreign investors”. It will be interesting to see how this plays out in subsequent weeks. As far as I can tell, the biggest U.S. factor in the domestic Philippine economy is the call-center industry. I doubt US corporations are interested in actually pulling their operations out and subjecting them to the English-language mercies of India, but certainly a call from the State Department or White House would convince them of the wisdom of at least making the threat. And I also wonder if expected President Hillary Clinton will find it necessary to drop the hammer on Duterte, in order to demonstrate to a rather dubious Asia that there is no alternative to loyalty to the pivot. I expect the next few months, in other words, to be very interesting. NOTE: ALL IMAGE CAPTIONS, PULL QUOTES AND COMMENTARY BY THE EDITORS, NOT THE AUTHORS\n",
            "True\n",
            "0 44 \n",
            "To be white and from money is to live a life of largely unrecognized privilege, bequeathed as it is from one’s first wet, howling breath. In the affluent socio-economically partitioned town of Saratoga Springs, NY where I’m from there was actually a railroad track serving as the demarcation line between affluent whites residing on one side and the other side of which nothing was known because you just didn’t go there, ever. It was literally the “wrong side of the tracks”. \n",
            "Raised in that remarkable state of incurious joy and suffering within narrow undiluted lines of stratified suburban sameness, I could not know or question the things kept from sight. Thus racial determinism was assumed passively, an acquired naivete fueled with the aspirational angst of middle class parenting that served as an omniscient narcotic fog, like carbon monoxide – not enough to be lethal, but just enough to render the critical faculties permanently dull until finally the things kept from sight could no longer be seen even upon close observation. \n",
            "To be white is to watch but not see while being seen but never watched. It is to know that for whatever law enforcement is or is not, they are something that will never have anything to do with me. It is to know that on those rare occasions I am pulled over, it really is about a busted tail light. \n",
            "To be white is to know that when a retail clerk approaches me, it’s about customer service and not the smothering sea of smiles…\n",
            "True\n",
            "NATO lies about the reasons for the fall of the Berlin Wall. The West did not play any role in the unification of East and West Germany 30 years ago. There was no desire for freedom and no revolutions in the German Democratic Republic (GDR).\n",
            "True\n",
            "Wow! This 21 year old Texan woman recently penned a letter to the Waco Tribune Herald In Waco, TX. She s been worried about her future with the massive increase in social welfare and government programs, so she thought she d offer some great, common sense solutions. Her ideas were too good to keep to herself, so she decided to send her letter to the local paper. Here it is:PUT ME IN CHARGE:Put me in charge of food stamps. I d get rid of Lone Star cards; no cash for Ding Dongs or Ho Ho s, just money for 50-pound bags of rice and beans, blocks of cheese and all the powdered milk you can haul away. If you want steak and frozen pizza, then get a job.Put me in charge of Medicaid. The first thing I d do is to get women Norplant birth control implants or tubal ligations. Then, we ll test recipients for drugs, alcohol, and nicotine. If you want to reproduce or use drugs, alcohol, or smoke, then get a job.Put me in charge of government housing. Ever live in a military barracks? You will maintain our property in a clean and good state of repair. Your  home  will be subject to inspections anytime and possessions will be inventoried. If you want a plasma TV or Xbox 360, then get a job and your own place.In addition, you will either present a check stub from a job each week or you will report to a  government  job. It may be cleaning the roadways of trash, painting and repairing public housing, whatever we find for you. We will sell your 22-inch rims and low profile tires, your blasting stereo and your speakers. Don t worry, we ll contribute that money toward the  common good. Before you complain that I ve violated someone s rights, realize that all of the above is voluntary. If you want our money, accept our rules. Before you say that this would be  demeaning  and ruin their  self-esteem,  consider that it wasn t that long ago that taking someone else s money for doing absolutely nothing was demeaning and might actually lower the recipient s self-esteem.If we are expected to pay for other people s mistakes we should at least attempt to make them learn from their bad choices. The current system rewards them for continuing to make bad choices. This new and improved system will reward them for making a contribution to society\n",
            "True\n",
            "Fox News  resident doctor, if, indeed, he can be called that, weighed in on the ancient, but immature reference that Trump made to the size of his penis after Marco Rubio made a crack about his tiny hands during a debate in Detroit, Michigan. Keith Ablow, who really has some questionable things to say on the air, let loose with the following verbal rubbish heap: When the  small hands  issue was raised during the debate that supposedly got the Clinton campaign very excited, they thought  Man, he s off his game he wasn t off his game at all. Freud would have been standing up, like applauding. Standing ovation. Ablow the Blowhard went on with: To be able to address such an intensely personal issue and say,  Listen, there s no problem in that department,  to me, that showed an incredible degree of psychological strength. Or it showed an incredible immaturity   something that s only been solidified as this election cycle has gone on. Trump could have, and really should have, just ignored the jab about his hands. Instead, he said: Look at those hands. Are they small hands? And he referred to my hands   if they are small, something else must be small.I guarantee you there is no problem. I guarantee you. Because self defense. He missed a golden opportunity to make Rubio look like an immature, tasteless idiot. As is so common with Trump, though, he slipped into insecure teenage-boy mode and bragged about his penis size, which is literally relevant to nothing. He proved he had even less class than Rubio when he did that.Watch Ablow s psychological gobbledy-gook below:Featured image by Chip Somodevilla/Getty Images\n",
            "True\n",
            "españa , almirante kuznetsov , ceuta , portaaviones Imagen del portaaviones Almirante Kuznetsov. Fuente:Reuters \n",
            "La ruta y la misión del portaaviones Almirante Kuznetsov, según el secretario de prensa del presidente de la Federación de Rusia, Dmitri Peskov, se encuentran en un sobre cerrado en el que se lee “Completamente secreto”. \n",
            "Sin embargo, según informaba anteriormente el Ministerio de Asuntos Exteriores español, se preveía que el portaaviones llegara al puerto de Ceuta el 28 de octubre . En Madrid señalan que el permiso correspondiente se expidió el pasado mes de septiembre. \n",
            "No obstante, en cuanto la noticia sobre la inminente llegada de los buques a Ceuta llegó a la prensa, España comenzó a recibir críticas de sus aliados en la OTAN. \n",
            "El secretario general de la Alianza, Jens Stoltenberg, señaló que en otras condiciones no tendría nada que objetar al abastecimiento de los buques rusos, pero que en la actualidad está extremadamente preocupado porque estos “puedan utilizarse para atacar Alepo”. \n",
            "Otros políticos de Gran Bretaña y EE UU hicieron declaraciones similares. \n",
            "En España las críticas más duras que ha recibido el gobierno provienen de Esquerra Republicana de Catalunya. Su servicio de prensa ha confirmado a Kommersant que los miembros del Congreso de los Diputados de este partido han exigido al ministro de Asuntos Exteriores en funciones, José Manuel García-Margallo y al ministro de Defensa en funciones, Pedro Morenés, que expliquen por qué razón unos barcos rusos que participan en la operación siria hacen escala en Ceuta. 9 cosas que no sabías sobre el portaaviones “Almirante Kuznetsov” \n",
            "Las autoridades portuarias de las ciudad han expresado su descontento por lo sucedido. Desde el año 2011 por este puerto han pasado, según el El País , más de 60 buques rusos. \n",
            "“Los criterios para permitir la escala en Ceuta son la seguridad del medio ambiente, de la ciudad y de su población”, cita el periódico The Spain Report a fuentes en la administración del puerto. Sin embargo, debido al aluvión de críticas recibidas, el Ministerio de Asuntos Exteriores de España anunció ayer que “iba a celebrar una consulta para estudiar la decisión”. \n",
            "Hacia el mediodía de ayer la embajada de Rusia en Madrid comunicó a Exteriores que retiraba la petición de permisos de escala para la escala de los buques y, por lo tanto, quedan canceladas. “Confirmamos que nuestros barcos no entrarán en el puerto de Ceuta porque se ha modificado su ruta”, declaraban desde la embajada. La reacción de Moscú \n",
            "Vasili Nioradze, secretario de prensa de la embajada, instaba a no dramatizar la situación en declaraciones a Kommersant. \n",
            "“La negociación sobre este tipo de escalas en los puertos es un procedimiento rutinario –señalaba este-. Nosotros enviamos la solicitud de forma anticipada y para tomar una decisión al respecto se tiene en cuenta el derecho internacional y los requisitos del país. En esta ocasión se ha decidido una cosa, y en otros casos la respuesta será distinta”. \n",
            "Ígor Konashenkov, representante oficial del Ministerio de Defensa explica que el departamento ruso contemplaba la posibilidad “de la escala acordada con el gobierno español de algunos buques o embarcaciones de apoyo de la flotilla rusa”. \n",
            "Sin embargo, según el representante del Ministerio de Defensa ruso, no se envió ninguna solicitud oficial. \n",
            "Además, comenta: “Los representantes del gobierno español han declarado que debido a la presión de Estados Unidos y de la OTAN el paso de buques rusos por el puerto de Ceuta no es oportuno”. Las autoridades de España no han hecho ninguna declaración similar en público. Madrid ha perdido dinero \n",
            "El director del Centro de Análisis de Estrategias y Tecnología, Ruslán Pújov, no ve ninguna tragedia en el cambio de ruta del Almirante Kuznetsov. \n",
            "“Nuestros buques pueden repostar sin problemas en Argelia o en Malta. Apuesto por Argelia, ya que Malta es miembro de la UE y se enfrentará a los mismos problemas que España”, informa el experto a Kommersant . \n",
            "Según Pújov, la llegada del grupo del Almirante Kuznetsov a Siria apenas cambiará la correlación de fuerzas en la región, aunque sí permitirá a Rusia elevar su prestigio internacional. \n",
            "“Los franceses tienen un portaaviones en la región porque no tienen base, pero nosotros sí que tenemos–declara el experto-. La misión del Kuznetsov es más bien una operación de entrenamiento. Los pilotos de los aviones navales necesitan entrenar y Siria les ofrece la posibilidad de hacerlo en condiciones de combate reales”. \n",
            "El experto del mismo centro Andréi Frolov añade que la expedición del Almirante Kuznetsov también tiene un “componente publicitario”: La India está pensando en comprar cazas navales MiG-29K/KUB para sus futuros portaaviones, y la demostración de sus características en Siria podría ayudarle a decidirse”. Lea más\n",
            "True\n"
          ]
        }
      ]
    },
    {
      "cell_type": "code",
      "source": [
        "wrong_examples_large_batch8 = np.intersect1d(wrong_guesses['large_bert_base_model_batch8'],\n",
        "                                             wrong_guesses['large_distilroberta_model_batch8'],\n",
        "                                             wrong_guesses['large_distill_bert_model_batch8'])\n",
        "\n",
        "for i in wrong_examples_large_batch8[:10]:\n",
        "  print(eval_texts[i])\n",
        "  print(eval_labels[i])"
      ],
      "metadata": {
        "id": "kU6SFd-r8Ttq",
        "colab": {
          "base_uri": "https://localhost:8080/"
        },
        "outputId": "8140f960-50d6-4cc2-99c2-b545a1ad2847"
      },
      "execution_count": null,
      "outputs": [
        {
          "output_type": "stream",
          "name": "stdout",
          "text": [
            "We Are Change \n",
            "Often times we are blind to what is happening around us. Just because we cannot see the effects of pollution and over-stripping the Earth of her resources in our own backyards, doesn’t mean that it isn’t a very serious concern. Closing our eyes to these issues is not going to help the problems go away. The world used to be an absolutely beautiful place, but that beauty is slowly being pushed out by the trash of mankind. We are consuming more than what this Earth can handle and pretty soon the Earth will no longer be able to sustain mankind. Here are 27 pictures that will open your eyes to the serious danger that our very existence is in.\n",
            "H/T Jill Stein & Unreal-Lists \n",
            "Please remember to subscribe To We Are Change and stay up to date with daily Videos.\n",
            "\n",
            "Follow WE ARE CHANGE on SOCIAL MEDIA SnapChat: LukeWeAreChange \n",
            "fbook: https://facebook.com/LukeWeAreChange \n",
            "Twitter: https://twitter.com/Lukewearechange I nstagram: http://instagram.com/lukewearechange Sign up become a patron and Show your support for alternative news for Just 1$ a month you can help Grow We are change We use Bitcoin Too ! 12HdLgeeuA87t2JU8m4tbRo247Yj5u2TVP Join and Up Vote Our STEEMIT The post 27 Photos That Prove The Earth Is in Serious Danger & It’s Time To Be Worried Now appeared first on We Are Change .\n",
            "True\n",
            "Are the Palin s above the law in Alaska? Will there ever come a time when America is no longer obsessed by families who have done nothing to earn our fascination with them? The oldest son of former Alaska Gov. Sarah Palin was arrested in a domestic violence case in which his girlfriend was afraid he would shoot himself with an AR-15 assault rifle, according to court documents filed Tuesday.Track Palin, 26, is charged with assault, interfering with the report of a domestic violence crime and possessing a weapon while intoxicated in connection with the incident Monday night at the Wasilla home of his parents, where he lives, according to an affidavit by police.The girlfriend told authorities she was punched in the face by Palin, who is the oldest child of Sarah Palin, the 2008 Republican vice presidential nominee and conservative icon.The charges were filed Tuesday, the same day Sarah Palin endorsed Republican presidential front-runner Donald Trump before voting begins with the Iowa caucuses.There is no telephone listing for the girlfriend. The court documents say the woman, Track Palin s girlfriend of one year, had bruising and swelling around her left eye, and she said her right knee hurt after Palin kicked her there.Palin family attorney John Tiemessen declined to comment on the matter other than to say in an email that respect for the family s privacy is appreciated  as Track receives the help that he and many of our returning veterans need.  Palin s arraignment was held Tuesday, but Tiemessen was not sure if he entered a plea yet.According to the three-page affidavit, both Palin and his girlfriend called 911 that night. Police Officer Andrew Kappler wrote that he arrived at the Wasilla home and found Track Palin walking outside and talking on a phone. The officer said Palin had an injury to his right eye and surrounding area, smelled strongly of alcohol and acted with escalating hostility, prompting Kappler to put him in handcuffs.Police say a breath sample provided by Palin showed he had a blood alcohol level of 0.189.The affidavit says other officers found the girlfriend hiding under a bed inside the home and crying.The argument continued at the home, according to the affidavit, which says Palin struck the woman with his fist on the left side of her head near her eye. She curled up in the fetal position because she didn t know what else he would do, the woman told police. She said he then kicked her in the knee and threw her phone across the driveway, according to the court document. The woman said she went inside after getting her phone.Inside, Palin held the rifle, with the barrel just away from his face pointed to the side, the affidavit states. The affidavit adds that the woman told police Palin was yelling  Do you think I won t do it? The girlfriend  was concerned that he would shoot himself and ran outside and around the house,  the affidavit says.  She didn t see where Palin went, so she went inside and up the stairs, where she hid under a bed. It s not the first encounter with the law for Palin or other members of his family. In September 2014, he and other Palins were involved in a brawl that broke out at a party in Anchorage.No arrests were made in the melee, and no one wanted to press charges. But according to a police report, Palin had blood around his mouth and his hands. He was belligerent until his mother told him to talk to a police officer. Via: FOX News\n",
            "True\n",
            "Hours after a gunman opened fire on Republican Congressmen during their baseball practice session, the partisan rancor began. Although we don t know motive yet, the shooter was a Bernie voter. He was also a psychopathic killer.While the shooter, who s been identified as James T. Hodgkinson, 66, of Illinois, died shortly after, it s not just one party that s receiving the wrath of unhappy voters. Democrats have been receiving threats all day, even on their personal phones.Multiple Democratic representatives said during a members-only security briefing that they had received calls after the shooting saying,  You guys are next,  California Rep. Nanette Diaz Barrag n told BuzzFeed News.According to Barrag n, more than one of her Democratic colleagues said during the briefing that they had received a similar call and other threats on their personal phones following the shooting. Barrag n said she did not receive one herself, and would not name those who did, citing their safety.One of the calls went to  a member who was not on the [Democratic baseball] team,  she said,  and other Democratic members expressed concern that they were getting calls saying,  You Democrats, you Democrats. Overall, there has been an uptick in threats to Democrats recently. Even House Minority Leader Nancy Pelosi said she has received threats. Rep. Al Green (D-TX) said he s received threats over his plans to impeach Donald Trump.Buzzfeed s article quotes several people who have received threats.While voters on both sides are going to continue to point fingers, it s clear that we have a problem in this country and it s bigger than guns. Anger, whether it emanates from Donald Trump s partisan and often violent rhetoric, from popular culture, or from the fact that people are feeling left behind by our leaders, is real. While those in Congress might be feeling a bit more unified today following these tragic events, the country is not. Congress can help, though. Republicans and Democrats can start working toward the betterment of the country rather than toward destroying the other party.\n",
            "True\n",
            "Singapore Prime Minister Lee Hsien Loong said he was ready to step down in a couple of years time and his successor is likely already in the cabinet but a clear choice has yet to emerge In an interview with CNBC released on Friday, Lee, 65, the son of Singapore s founding father Lee Kuan Yew, said a new election could be called any time before 2021, when the current five-year parliamentary term ends.  I am ready,  said Lee, when asked if he was prepared to step down in the next couple of years. But he said he needed to make sure there was a successor ready to take over, adding:  there are people in the wings. The question is, who it will be and that will need to be decided.   I think it s very likely that he would be in the cabinet already but which one, well that would take a while to, to account,  Lee said when asked he was close to finding a successor. Lee was speaking ahead of a visit to the United States starting Sunday\n",
            "False\n",
            "U.S. Senate Majority Leader Mitch McConnell said on Thursday he had spoken with Myanmar s Aung San Suu Kyi and that she said she was working to get aid to the Rohingya Muslim areas in the Southeast Asian nation that were affected by violence. Suu Kyi  agreed with the need for immediate and improved access of humanitarian assistance to the region, particularly by the International Red Cross, and she conveyed that she is working toward that end,  McConnell said on the Senate floor. McConnell, whose Republicans control majorities in both houses of Congress, repeated earlier criticism of a resolution introduced in the U.S. Senate urging Suu Kyi to do more for Myanmar s ethnic minority Rohingya population, and lessening the chance that any such measure could pass. McConnell has had close ties to Suu Kyi for years. He said Suu Kyi, a Nobel prize laureate and de facto head of the government in Myanmar, also known as Burma, told him when they spoke on Wednesday that violations of human rights would need to be addressed. Attacks by Rohingya militants on security posts last month triggered an army operation that has killed more than 400 people, destroyed over 6,800 houses and sent nearly 400,000 Rohingya Muslims fleeing to Bangladesh. Suu Kyi has been a target of criticism from fellow Nobel laureates and religious leaders across the world for failing to condemn human rights abuses against the Rohingya during the military s fierce response to Rohingya militant attacks. The United Nations appealed Thursday for massive help for the nearly 400,000 who fled to Bangladesh, amid concern the number could keep rising unless Myanmar ends what critics denounce as  ethnic cleansing.  McConnell said Suu Kyi s position in the government was  exceedingly difficult  and that as a civilian, she had virtually no authority over the military. He warned that weakening her could interfere with the country s transition from decades of military rule. McConnell said he expected a briefing soon from Suu Kyi s office and that she was  trying very hard to improve conditions  for the Rohingya.  Burma s path to representative government is not at all certain and is certainly not over. And attacking the single political leader who has worked to further democracy within Burma is likely to hinder the objective over the long run,  McConnell concluded.\n",
            "False\n",
            "The Turkish government s spokesman on Wednesday said that the United States  decision to recognize Jerusalem as the capital of Israel will plunge the region and the world into  a fire with no end in sight .  Declaring Jerusalem a capital is disregarding history and the truths in the region, it is a big injustice/cruelty, shortsightedness, foolishness/madness, it is plunging the region and the world into a fire with no end in sight,  Deputy Prime Minister Bekir Bozdag said on Twitter.  I call on everyone to act logically, respect the agreements they signed and behave reasonably, avoid risking world peace for domestic politics or other reasons,  he said. U.S. officials have said President Donald Trump is likely to give a speech on Wednesday unilaterally recognizing Jerusalem as Israel s capital, a step that would break with decades of U.S. policy.\n",
            "False\n",
            "In a joint sting, Serbian and Croatian police have detained 17 people suspected of smuggling dozens of migrants into the European Union, Serbia s Interior Ministry said on Wednesday. Serbia was at the center of the migrant crisis in 2015 and 2016 when hundreds of thousands of people fleeing wars and poverty in the Middle East and Asia journeyed up through the Balkans to reach the European Union. That route was effectively closed last year, but a steady trickle of migrants, arriving mainly from Turkey via neighboring Bulgaria, has continued. Many migrants use smugglers to reach the EU. In a statement, the Interior Ministry said the group detained in Belgrade and four northern towns comprised 12 Serbians and one Afghan man. The police in neighboring Croatia have detained four more suspects, it said.  It is suspected that this criminal group facilitated the illegal crossing of the border and transit ... to a total of 82 migrants from Afghanistan, Iran and Iraq, from whom they took 1,500 euros ($1,800) per person,  it said.  Official data show there are up to 4,500 migrants stranded in government-operated camps in Serbia. Rights activists say hundreds more are scattered in the capital Belgrade and towns along the Croatian border.  ($1 = 0.8442 euros)\n",
            "False\n",
            "U.S. President Barack Obama on Friday tried to limit the fallout from Britain’s vote to leave the European Union, which threatens to harm the U.S. economic recovery, derail his trade agenda and  distract U.S. allies from global security issues.    Obama, who had argued passionately against Britain leaving the EU in a trip to the country this year, vowed that Washington would still maintain both its “special relationship” with London and close ties to Brussels.           “While the UK’s relationship with the EU will change, one thing that will not change is the special relationship that exists between our two nations. That will endure,” he told an event at Stanford University, referring to close ally Britain. “The EU will remain one of our indispensable partners,” Obama said. He spoke to outgoing British Prime Minister David Cameron and German Chancellor Angela Merkel after the stunning result of Thursday’s referendum, the biggest blow to the European project of greater unity since World War Two. Obama said he was sure Britain’s exit would be orderly and vowed that the United States and Britain would “stay focused on ensuring economic growth and financial stability.”  The Brexit result rattled Wall Street and many other financial markets, with global stock markets losing about $2 trillion in value on Friday.     “I must say we had looked for a different outcome. We would have preferred a different outcome,” U.S. Vice President Joe Biden, traveling in Ireland, said on Friday. The historic divorce launched by the Brexit vote could sink hopes of a massive U.S.-EU free trade deal before Obama leaves the White House in January.               Negotiations on the Transatlantic Trade and Investment Partnership, or TTIP, were already stalled by deeply entrenched differences and growing anti-trade sentiment on both continents.     As well as the global economic consequences, Brexit makes it more difficult for Obama and the United States to corral its Western allies into joint action against challenges such as Islamic State, Russia and the rise of China. Britain’s exit could present the next U.S. president with a decision on whether to turn to other key European partners like Germany and France, essentially downgrading the United States’ special bond with Britain, whose foundation was laid in World War Two. Senator Ben Cardin of Maryland, the top Democrat on the Senate Committee on Foreign Relations, called on Washington’s partners in Europe to keep their eye on foreign policy threats. “We must maintain our trans-Atlantic consensus on how to deal with a resurgent Russia and the growing threat of ISIS,” he said. “I urge leaders in London, Brussels and across Europe to not lose sight of these threats and remain coordinated in our response.”  The U.S. presidential election candidates are casting an eye across the Atlantic at the unlikely success of Britain’s “Leave” campaign, which has similarities with Republican Donald Trump’s insurgent bid for the Nov. 8 election. Trump’s rise was sustained by a similar brew of anti-establishment and anti-globalization sentiment and concern about immigration that helped the Leave vote.  “This is a protest vote against globalization and there is one presidential candidate who won the nomination who has put globalization in his crosshairs\n",
            "False\n",
            "White House press secretary Sean Spicer suggested that the media was downplaying the news revealing that former President Obama’s national security advisor Susan Rice unmasked the identities of Trump campaign aides during the 2016 election. [“I’m somewhat surprised in terms of the level of interest that I’ve seen from the press corps, one set of developments versus another set of developments,” Spicer said during the White House press briefing on Monday.  Since President Donald Trump accused former President Obama’s administration of spying on his campaign staff, journalists have demanded evidence to back up his claims. Spicer suggested that the media was approaching the issue with a double standard after Rice’s activity was exposed. “I’m somewhat more from a media standpoint somewhat intrigued by the lack of interest that we’ve seen in some of these public revelations and reporting that has gone in that direction that we’ve seen in some of the other directions that we’ve seen,” he said. Spicer declined to comment about the new revelations, citing the ongoing investigation. “There’s a troubling direction that some of this is going in, but we’re going to let this review go on before we jump to it,” he said. In the aftermath of the news, some reporters suggested that Rice was merely doing her job by unmasking Trump’s National Security Advisor Michael Flynn. “If victim Flynn hadn’t been ‘unmasked’  —   would Trump had fired him? Would it be better to have ‘masked’ man Flynn running NSC?” New York Times reporter Glenn Thrush asked on Twitter. “’Unmasking’ sounds better than ‘we picked a national security adviser who was on the payroll of 2 other countries. ’” Trump has not reacted to questions about the revelations in the press and has not shared his opinion about the news on Twitter. Spicer said that the administration would not try to assign a motive to Rice’s reported behavior, but wait to see the results of the investigation. “We’re not going to start going down guessing the motives of something that is not assumed in fact yet,” he said.\n",
            "False\n",
            "State-owned Saudi Arabian Airlines said it will start flying regularly to Iraq on Monday after a 27-year halt, state news agency SPA said. The carrier s director general, Saleh bin Nasser al-Jasser, will accompany reporters and passengers on the first flight to depart from the Saudi city of Jeddah to Baghdad, SPA said late on Sunday. There have been no flights between Saudi Arabia and Iraq since former Iraqi President Saddam Hussein invaded neighboring Kuwait in 1990. Saudi Arabia and the United Arab Emirates are both wooing Baghdad in an effort to halt the growing regional influence of arch-foe Iran. In August the two countries said they planned to open the Arar land border crossing for trade for the first time since 1990. That announcement followed a decision by the Saudi cabinet this month to set up a joint trade commission with Iraq. Saudi Arabian budget airline Flynas was the first Saudi airline to fly to Iraq in more than 25 years.\n",
            "False\n"
          ]
        }
      ]
    },
    {
      "cell_type": "code",
      "source": [
        "# all small and large batch 4 models got this one wrong\n",
        "print(eval_texts[0])\n",
        "print(eval_labels[0])"
      ],
      "metadata": {
        "colab": {
          "base_uri": "https://localhost:8080/"
        },
        "id": "81vmYQrVkuTj",
        "outputId": "808447ad-dddd-4636-95d1-af74c16d750f"
      },
      "execution_count": null,
      "outputs": [
        {
          "output_type": "stream",
          "name": "stdout",
          "text": [
            "Carl G. Jung Attitude Types and the Sash of Solitude Nov 8, 2016 0 0 \n",
            "Jung believed that our orientation to the world was a foundational aspect of our personality. Jung identified was the two opposite ways in which we adapt to, or orient ourselves to, the world. These are Jung’s attitudes of Extraversion and Introversion. Extraversion – Our energy moves toward the outer world of people, places and things; the world outside of us. Introversion – Our energy moves toward the inner world of thoughts and ideas; the world inside of us. Loneliness vs. Solitude \n",
            "As human beings, we are social creatures and, without others around us from birth, we would not even be able to stay alive in this world. Social space plays a crucial role in the development of our personality, as the direction of our development is determined by the expectations of other people and our desire to meet those expectations. That is how we become a part of a collective, social space called society, and society receives its special nature from the culture it represents. \n",
            "The book of our personal history is written in this social space, and our identity is built upon the foundation of our personal history. We are surrounded by other people, and their expectations and requirements are present in our mind when we are alone. Most people do not understand the difference between solitude and being lonely. The solitude is at the same time loneliness for us. \n",
            "The two words, however, mean two different situations. Solitude is the state of the mind, whereas solitude is the state of the Consciousness. \n",
            "In the isolated state of consciousness of Ego-dominated mind we do not like to be alone, when we are alone, we think we are lonely, we find it difficult to tolerate, we try to avoid it. How we do it, depends on our attitude types. Extraversion vs. Introversion \n",
            "Extroverted people focus primarily on social life. When we are alone, we seek friends, go to parties, because we like to share our pleasures and sorrows with others. \n",
            "Introverted people, on the other hand, tolerate loneliness much better, they like to be alone. They turn towards their internal world (thoughts and emotions). They are not alone, though, as other people are present in their mind in the form of their opinions and expectations. When they turn inward, they talk, argue with the opinions of others, and analyze the reactions of others. \n",
            "For an external observer, an introverted person might seem to be alone, but there is usually a whole little group in the head of the person. When an introverted person is alone, they try to find some activity to occupy themselves in order to avoid the unpleasant feelings that come with loneliness. They are capable of watching TV for hours, or use work as an escape route. The Gift of Solitude \n",
            "Why do people so desperately run away from loneliness, from being alone? \n",
            "Because we do not know ourselves, so we do not like being alone. When we are lonely, we must face the fact that our entire personality is pretence, and our whole identity is built upon false foundations. \n",
            "Even if these sentences are not formulated so specifically in our mind when we are on our own, the anxiety and depression overcoming us signify that there is something wrong with us. We feel lonely, so we escape so as to find shelter in the company of others or in our own thoughts from the negative emotions. \n",
            "We feel lonely because we are full of insistence. We insist on our personal identity, our own history, in which the main roles are always played by others. Solitude is a menace to the foundations of our identity. \n",
            "It is true that during our life we are often surrounded by other people, and we live our life as members of the society, but deep inside we remain separate, isolated individuals for the whole of our life. Very deep inside we are born alone, live alone and we die alone. Being alone like that is a state we interpret as solitude. \n",
            "Only the awakening of the Consciousness is capable of putting an end to that sense of solitude rooted in our original isolation. Only when we have experienced that Miracle, do we recognize that loneliness is our natural state, in which the independent, still all-penetrating Presence shines on. \n",
            "Read more articles from Frank M. Wanderer Vote Up Frank M. Wanderer PhD Frank M. Wanderer Ph.D is a professor of psychology, a consciousness researcher and writer. Frank is the author of the books \" The Revolution of Consciousness: De-conditioning the Programmed Mind \", \" Ego - Alertness - Consciousness: The Path to Your Spiritual Home \" and several books on consciousness . With a lifelong interest in the mystery of human existence, Frank’s work is to help others wake up from identification with our personal history and the illusory world of the forms and shapes, and to find our identity in what he calls “the Miracle”, the mystery of the Consciousness. You can also follow his blog HERE\n",
            "True\n"
          ]
        }
      ]
    },
    {
      "cell_type": "code",
      "source": [
        "# all small batch 8 models got this one wrong\n",
        "print(eval_texts[2])\n",
        "print(eval_labels[2])"
      ],
      "metadata": {
        "colab": {
          "base_uri": "https://localhost:8080/"
        },
        "id": "IvWfBPMWkxcq",
        "outputId": "8c97b825-42c9-4c2d-ee5b-1705fc6bf982"
      },
      "execution_count": null,
      "outputs": [
        {
          "output_type": "stream",
          "name": "stdout",
          "text": [
            "Donald Trump: The next President of the United States of America   Donald Trump will be the new President of the United States of America . Trump won 276 electoral votes with the necessary minimum of 270 votes. During his speech as the winner, Trump has promised the Americans to be president for all citizens of the country. According to him, America will not be satisfied with anything but the best. At the same time, the newly elected president has promised to seek common ground, not enmity, with partners in the world. formal voting procedure for electors will be held on December 19 and January 6, 2017, Congress will adopt its outcome. The inauguration of the president-elect is scheduled for 20 January. To win the election, a candidate needs to enlist the support of 270 electors. The procedure for their formal vote will be held on December 19, while on January 6, 2017 Congress will approve its results. The inauguration is scheduled for January 20, when the US president-elect takes office. Pravda.Ru\n",
            "True\n"
          ]
        }
      ]
    },
    {
      "cell_type": "code",
      "source": [
        "# large batch 8 distilroberta and base case got this wrong\n",
        "print(eval_texts[13951])\n",
        "print(eval_labels[13951])"
      ],
      "metadata": {
        "colab": {
          "base_uri": "https://localhost:8080/"
        },
        "id": "evMWlXrEG2v6",
        "outputId": "eb5dc614-8614-4077-deb4-657f92346610"
      },
      "execution_count": null,
      "outputs": [
        {
          "output_type": "stream",
          "name": "stdout",
          "text": [
            "The migration wave is part of preparations for the New World Order, says analyst David Icke.\n",
            "True\n"
          ]
        }
      ]
    },
    {
      "cell_type": "code",
      "execution_count": null,
      "metadata": {
        "id": "OIUX6KOkmHZF",
        "colab": {
          "base_uri": "https://localhost:8080/"
        },
        "outputId": "e6f5698e-6da0-46de-d55c-58ef9012833e"
      },
      "outputs": [
        {
          "output_type": "stream",
          "name": "stdout",
          "text": [
            "Polish policy towards Russia is entirely based on the support of the United States.\n",
            "True\n"
          ]
        }
      ],
      "source": [
        "# large batch 8 distilbert and base case got this wrong\n",
        "print(eval_texts[14944])\n",
        "print(eval_labels[14944])"
      ]
    },
    {
      "cell_type": "code",
      "source": [],
      "metadata": {
        "id": "5wy5QSGcoTx5"
      },
      "execution_count": null,
      "outputs": []
    }
  ],
  "metadata": {
    "accelerator": "GPU",
    "colab": {
      "provenance": []
    },
    "kernelspec": {
      "display_name": "Python 3",
      "name": "python3"
    },
    "language_info": {
      "name": "python"
    },
    "widgets": {
      "application/vnd.jupyter.widget-state+json": {
        "8215c962f85c45fbbb00a917fdbe3a0a": {
          "model_module": "@jupyter-widgets/controls",
          "model_name": "HBoxModel",
          "model_module_version": "1.5.0",
          "state": {
            "_dom_classes": [],
            "_model_module": "@jupyter-widgets/controls",
            "_model_module_version": "1.5.0",
            "_model_name": "HBoxModel",
            "_view_count": null,
            "_view_module": "@jupyter-widgets/controls",
            "_view_module_version": "1.5.0",
            "_view_name": "HBoxView",
            "box_style": "",
            "children": [
              "IPY_MODEL_0f43d99bd6494203ad3cf8e661d99be5",
              "IPY_MODEL_adc826e645e4483da667172513da9c42",
              "IPY_MODEL_6558e67f6fa8427b9e90366ee668ae0f"
            ],
            "layout": "IPY_MODEL_734458fca1104b8d89dd8509bf4ba799"
          }
        },
        "0f43d99bd6494203ad3cf8e661d99be5": {
          "model_module": "@jupyter-widgets/controls",
          "model_name": "HTMLModel",
          "model_module_version": "1.5.0",
          "state": {
            "_dom_classes": [],
            "_model_module": "@jupyter-widgets/controls",
            "_model_module_version": "1.5.0",
            "_model_name": "HTMLModel",
            "_view_count": null,
            "_view_module": "@jupyter-widgets/controls",
            "_view_module_version": "1.5.0",
            "_view_name": "HTMLView",
            "description": "",
            "description_tooltip": null,
            "layout": "IPY_MODEL_33dd119b7b7d46dcacc139e7a4946d0d",
            "placeholder": "​",
            "style": "IPY_MODEL_2ed1f06219ae4db4b04aa256229b536a",
            "value": "tokenizer_config.json: 100%"
          }
        },
        "adc826e645e4483da667172513da9c42": {
          "model_module": "@jupyter-widgets/controls",
          "model_name": "FloatProgressModel",
          "model_module_version": "1.5.0",
          "state": {
            "_dom_classes": [],
            "_model_module": "@jupyter-widgets/controls",
            "_model_module_version": "1.5.0",
            "_model_name": "FloatProgressModel",
            "_view_count": null,
            "_view_module": "@jupyter-widgets/controls",
            "_view_module_version": "1.5.0",
            "_view_name": "ProgressView",
            "bar_style": "success",
            "description": "",
            "description_tooltip": null,
            "layout": "IPY_MODEL_7f255e1f09cb42f3b1179ef5df60320a",
            "max": 29,
            "min": 0,
            "orientation": "horizontal",
            "style": "IPY_MODEL_4c89a3711a8c4709a0fc3d868afbe3cc",
            "value": 29
          }
        },
        "6558e67f6fa8427b9e90366ee668ae0f": {
          "model_module": "@jupyter-widgets/controls",
          "model_name": "HTMLModel",
          "model_module_version": "1.5.0",
          "state": {
            "_dom_classes": [],
            "_model_module": "@jupyter-widgets/controls",
            "_model_module_version": "1.5.0",
            "_model_name": "HTMLModel",
            "_view_count": null,
            "_view_module": "@jupyter-widgets/controls",
            "_view_module_version": "1.5.0",
            "_view_name": "HTMLView",
            "description": "",
            "description_tooltip": null,
            "layout": "IPY_MODEL_b3a0554242be448ba169912a632659bd",
            "placeholder": "​",
            "style": "IPY_MODEL_effc5c82b9df4d1082f90aafcd8c6d73",
            "value": " 29.0/29.0 [00:00&lt;00:00, 443B/s]"
          }
        },
        "734458fca1104b8d89dd8509bf4ba799": {
          "model_module": "@jupyter-widgets/base",
          "model_name": "LayoutModel",
          "model_module_version": "1.2.0",
          "state": {
            "_model_module": "@jupyter-widgets/base",
            "_model_module_version": "1.2.0",
            "_model_name": "LayoutModel",
            "_view_count": null,
            "_view_module": "@jupyter-widgets/base",
            "_view_module_version": "1.2.0",
            "_view_name": "LayoutView",
            "align_content": null,
            "align_items": null,
            "align_self": null,
            "border": null,
            "bottom": null,
            "display": null,
            "flex": null,
            "flex_flow": null,
            "grid_area": null,
            "grid_auto_columns": null,
            "grid_auto_flow": null,
            "grid_auto_rows": null,
            "grid_column": null,
            "grid_gap": null,
            "grid_row": null,
            "grid_template_areas": null,
            "grid_template_columns": null,
            "grid_template_rows": null,
            "height": null,
            "justify_content": null,
            "justify_items": null,
            "left": null,
            "margin": null,
            "max_height": null,
            "max_width": null,
            "min_height": null,
            "min_width": null,
            "object_fit": null,
            "object_position": null,
            "order": null,
            "overflow": null,
            "overflow_x": null,
            "overflow_y": null,
            "padding": null,
            "right": null,
            "top": null,
            "visibility": null,
            "width": null
          }
        },
        "33dd119b7b7d46dcacc139e7a4946d0d": {
          "model_module": "@jupyter-widgets/base",
          "model_name": "LayoutModel",
          "model_module_version": "1.2.0",
          "state": {
            "_model_module": "@jupyter-widgets/base",
            "_model_module_version": "1.2.0",
            "_model_name": "LayoutModel",
            "_view_count": null,
            "_view_module": "@jupyter-widgets/base",
            "_view_module_version": "1.2.0",
            "_view_name": "LayoutView",
            "align_content": null,
            "align_items": null,
            "align_self": null,
            "border": null,
            "bottom": null,
            "display": null,
            "flex": null,
            "flex_flow": null,
            "grid_area": null,
            "grid_auto_columns": null,
            "grid_auto_flow": null,
            "grid_auto_rows": null,
            "grid_column": null,
            "grid_gap": null,
            "grid_row": null,
            "grid_template_areas": null,
            "grid_template_columns": null,
            "grid_template_rows": null,
            "height": null,
            "justify_content": null,
            "justify_items": null,
            "left": null,
            "margin": null,
            "max_height": null,
            "max_width": null,
            "min_height": null,
            "min_width": null,
            "object_fit": null,
            "object_position": null,
            "order": null,
            "overflow": null,
            "overflow_x": null,
            "overflow_y": null,
            "padding": null,
            "right": null,
            "top": null,
            "visibility": null,
            "width": null
          }
        },
        "2ed1f06219ae4db4b04aa256229b536a": {
          "model_module": "@jupyter-widgets/controls",
          "model_name": "DescriptionStyleModel",
          "model_module_version": "1.5.0",
          "state": {
            "_model_module": "@jupyter-widgets/controls",
            "_model_module_version": "1.5.0",
            "_model_name": "DescriptionStyleModel",
            "_view_count": null,
            "_view_module": "@jupyter-widgets/base",
            "_view_module_version": "1.2.0",
            "_view_name": "StyleView",
            "description_width": ""
          }
        },
        "7f255e1f09cb42f3b1179ef5df60320a": {
          "model_module": "@jupyter-widgets/base",
          "model_name": "LayoutModel",
          "model_module_version": "1.2.0",
          "state": {
            "_model_module": "@jupyter-widgets/base",
            "_model_module_version": "1.2.0",
            "_model_name": "LayoutModel",
            "_view_count": null,
            "_view_module": "@jupyter-widgets/base",
            "_view_module_version": "1.2.0",
            "_view_name": "LayoutView",
            "align_content": null,
            "align_items": null,
            "align_self": null,
            "border": null,
            "bottom": null,
            "display": null,
            "flex": null,
            "flex_flow": null,
            "grid_area": null,
            "grid_auto_columns": null,
            "grid_auto_flow": null,
            "grid_auto_rows": null,
            "grid_column": null,
            "grid_gap": null,
            "grid_row": null,
            "grid_template_areas": null,
            "grid_template_columns": null,
            "grid_template_rows": null,
            "height": null,
            "justify_content": null,
            "justify_items": null,
            "left": null,
            "margin": null,
            "max_height": null,
            "max_width": null,
            "min_height": null,
            "min_width": null,
            "object_fit": null,
            "object_position": null,
            "order": null,
            "overflow": null,
            "overflow_x": null,
            "overflow_y": null,
            "padding": null,
            "right": null,
            "top": null,
            "visibility": null,
            "width": null
          }
        },
        "4c89a3711a8c4709a0fc3d868afbe3cc": {
          "model_module": "@jupyter-widgets/controls",
          "model_name": "ProgressStyleModel",
          "model_module_version": "1.5.0",
          "state": {
            "_model_module": "@jupyter-widgets/controls",
            "_model_module_version": "1.5.0",
            "_model_name": "ProgressStyleModel",
            "_view_count": null,
            "_view_module": "@jupyter-widgets/base",
            "_view_module_version": "1.2.0",
            "_view_name": "StyleView",
            "bar_color": null,
            "description_width": ""
          }
        },
        "b3a0554242be448ba169912a632659bd": {
          "model_module": "@jupyter-widgets/base",
          "model_name": "LayoutModel",
          "model_module_version": "1.2.0",
          "state": {
            "_model_module": "@jupyter-widgets/base",
            "_model_module_version": "1.2.0",
            "_model_name": "LayoutModel",
            "_view_count": null,
            "_view_module": "@jupyter-widgets/base",
            "_view_module_version": "1.2.0",
            "_view_name": "LayoutView",
            "align_content": null,
            "align_items": null,
            "align_self": null,
            "border": null,
            "bottom": null,
            "display": null,
            "flex": null,
            "flex_flow": null,
            "grid_area": null,
            "grid_auto_columns": null,
            "grid_auto_flow": null,
            "grid_auto_rows": null,
            "grid_column": null,
            "grid_gap": null,
            "grid_row": null,
            "grid_template_areas": null,
            "grid_template_columns": null,
            "grid_template_rows": null,
            "height": null,
            "justify_content": null,
            "justify_items": null,
            "left": null,
            "margin": null,
            "max_height": null,
            "max_width": null,
            "min_height": null,
            "min_width": null,
            "object_fit": null,
            "object_position": null,
            "order": null,
            "overflow": null,
            "overflow_x": null,
            "overflow_y": null,
            "padding": null,
            "right": null,
            "top": null,
            "visibility": null,
            "width": null
          }
        },
        "effc5c82b9df4d1082f90aafcd8c6d73": {
          "model_module": "@jupyter-widgets/controls",
          "model_name": "DescriptionStyleModel",
          "model_module_version": "1.5.0",
          "state": {
            "_model_module": "@jupyter-widgets/controls",
            "_model_module_version": "1.5.0",
            "_model_name": "DescriptionStyleModel",
            "_view_count": null,
            "_view_module": "@jupyter-widgets/base",
            "_view_module_version": "1.2.0",
            "_view_name": "StyleView",
            "description_width": ""
          }
        },
        "64c7bf258ffd4a9fafe3d0dbd7dc3862": {
          "model_module": "@jupyter-widgets/controls",
          "model_name": "HBoxModel",
          "model_module_version": "1.5.0",
          "state": {
            "_dom_classes": [],
            "_model_module": "@jupyter-widgets/controls",
            "_model_module_version": "1.5.0",
            "_model_name": "HBoxModel",
            "_view_count": null,
            "_view_module": "@jupyter-widgets/controls",
            "_view_module_version": "1.5.0",
            "_view_name": "HBoxView",
            "box_style": "",
            "children": [
              "IPY_MODEL_7304b7adcbd0428dbeb94be81051e225",
              "IPY_MODEL_36e1c4bfb16a4cad8e030471e33401c9",
              "IPY_MODEL_c74cd1a7968c4421aced56b36f81ed30"
            ],
            "layout": "IPY_MODEL_04045cbb14fd40b6ab83b32d8793e3ef"
          }
        },
        "7304b7adcbd0428dbeb94be81051e225": {
          "model_module": "@jupyter-widgets/controls",
          "model_name": "HTMLModel",
          "model_module_version": "1.5.0",
          "state": {
            "_dom_classes": [],
            "_model_module": "@jupyter-widgets/controls",
            "_model_module_version": "1.5.0",
            "_model_name": "HTMLModel",
            "_view_count": null,
            "_view_module": "@jupyter-widgets/controls",
            "_view_module_version": "1.5.0",
            "_view_name": "HTMLView",
            "description": "",
            "description_tooltip": null,
            "layout": "IPY_MODEL_327a2521a2bc488684dbd7f61a2e5309",
            "placeholder": "​",
            "style": "IPY_MODEL_747031a11697408e83624d56267194c3",
            "value": "vocab.txt: 100%"
          }
        },
        "36e1c4bfb16a4cad8e030471e33401c9": {
          "model_module": "@jupyter-widgets/controls",
          "model_name": "FloatProgressModel",
          "model_module_version": "1.5.0",
          "state": {
            "_dom_classes": [],
            "_model_module": "@jupyter-widgets/controls",
            "_model_module_version": "1.5.0",
            "_model_name": "FloatProgressModel",
            "_view_count": null,
            "_view_module": "@jupyter-widgets/controls",
            "_view_module_version": "1.5.0",
            "_view_name": "ProgressView",
            "bar_style": "success",
            "description": "",
            "description_tooltip": null,
            "layout": "IPY_MODEL_6dd8bbff21854e2482f3602aae1ae2e8",
            "max": 213450,
            "min": 0,
            "orientation": "horizontal",
            "style": "IPY_MODEL_abb0850c9ce746bd9138c8042652aa54",
            "value": 213450
          }
        },
        "c74cd1a7968c4421aced56b36f81ed30": {
          "model_module": "@jupyter-widgets/controls",
          "model_name": "HTMLModel",
          "model_module_version": "1.5.0",
          "state": {
            "_dom_classes": [],
            "_model_module": "@jupyter-widgets/controls",
            "_model_module_version": "1.5.0",
            "_model_name": "HTMLModel",
            "_view_count": null,
            "_view_module": "@jupyter-widgets/controls",
            "_view_module_version": "1.5.0",
            "_view_name": "HTMLView",
            "description": "",
            "description_tooltip": null,
            "layout": "IPY_MODEL_e7c2d9ddf2f44976909962a2307d7e21",
            "placeholder": "​",
            "style": "IPY_MODEL_aa68d86d8dce45b58a447d691346e99f",
            "value": " 213k/213k [00:00&lt;00:00, 864kB/s]"
          }
        },
        "04045cbb14fd40b6ab83b32d8793e3ef": {
          "model_module": "@jupyter-widgets/base",
          "model_name": "LayoutModel",
          "model_module_version": "1.2.0",
          "state": {
            "_model_module": "@jupyter-widgets/base",
            "_model_module_version": "1.2.0",
            "_model_name": "LayoutModel",
            "_view_count": null,
            "_view_module": "@jupyter-widgets/base",
            "_view_module_version": "1.2.0",
            "_view_name": "LayoutView",
            "align_content": null,
            "align_items": null,
            "align_self": null,
            "border": null,
            "bottom": null,
            "display": null,
            "flex": null,
            "flex_flow": null,
            "grid_area": null,
            "grid_auto_columns": null,
            "grid_auto_flow": null,
            "grid_auto_rows": null,
            "grid_column": null,
            "grid_gap": null,
            "grid_row": null,
            "grid_template_areas": null,
            "grid_template_columns": null,
            "grid_template_rows": null,
            "height": null,
            "justify_content": null,
            "justify_items": null,
            "left": null,
            "margin": null,
            "max_height": null,
            "max_width": null,
            "min_height": null,
            "min_width": null,
            "object_fit": null,
            "object_position": null,
            "order": null,
            "overflow": null,
            "overflow_x": null,
            "overflow_y": null,
            "padding": null,
            "right": null,
            "top": null,
            "visibility": null,
            "width": null
          }
        },
        "327a2521a2bc488684dbd7f61a2e5309": {
          "model_module": "@jupyter-widgets/base",
          "model_name": "LayoutModel",
          "model_module_version": "1.2.0",
          "state": {
            "_model_module": "@jupyter-widgets/base",
            "_model_module_version": "1.2.0",
            "_model_name": "LayoutModel",
            "_view_count": null,
            "_view_module": "@jupyter-widgets/base",
            "_view_module_version": "1.2.0",
            "_view_name": "LayoutView",
            "align_content": null,
            "align_items": null,
            "align_self": null,
            "border": null,
            "bottom": null,
            "display": null,
            "flex": null,
            "flex_flow": null,
            "grid_area": null,
            "grid_auto_columns": null,
            "grid_auto_flow": null,
            "grid_auto_rows": null,
            "grid_column": null,
            "grid_gap": null,
            "grid_row": null,
            "grid_template_areas": null,
            "grid_template_columns": null,
            "grid_template_rows": null,
            "height": null,
            "justify_content": null,
            "justify_items": null,
            "left": null,
            "margin": null,
            "max_height": null,
            "max_width": null,
            "min_height": null,
            "min_width": null,
            "object_fit": null,
            "object_position": null,
            "order": null,
            "overflow": null,
            "overflow_x": null,
            "overflow_y": null,
            "padding": null,
            "right": null,
            "top": null,
            "visibility": null,
            "width": null
          }
        },
        "747031a11697408e83624d56267194c3": {
          "model_module": "@jupyter-widgets/controls",
          "model_name": "DescriptionStyleModel",
          "model_module_version": "1.5.0",
          "state": {
            "_model_module": "@jupyter-widgets/controls",
            "_model_module_version": "1.5.0",
            "_model_name": "DescriptionStyleModel",
            "_view_count": null,
            "_view_module": "@jupyter-widgets/base",
            "_view_module_version": "1.2.0",
            "_view_name": "StyleView",
            "description_width": ""
          }
        },
        "6dd8bbff21854e2482f3602aae1ae2e8": {
          "model_module": "@jupyter-widgets/base",
          "model_name": "LayoutModel",
          "model_module_version": "1.2.0",
          "state": {
            "_model_module": "@jupyter-widgets/base",
            "_model_module_version": "1.2.0",
            "_model_name": "LayoutModel",
            "_view_count": null,
            "_view_module": "@jupyter-widgets/base",
            "_view_module_version": "1.2.0",
            "_view_name": "LayoutView",
            "align_content": null,
            "align_items": null,
            "align_self": null,
            "border": null,
            "bottom": null,
            "display": null,
            "flex": null,
            "flex_flow": null,
            "grid_area": null,
            "grid_auto_columns": null,
            "grid_auto_flow": null,
            "grid_auto_rows": null,
            "grid_column": null,
            "grid_gap": null,
            "grid_row": null,
            "grid_template_areas": null,
            "grid_template_columns": null,
            "grid_template_rows": null,
            "height": null,
            "justify_content": null,
            "justify_items": null,
            "left": null,
            "margin": null,
            "max_height": null,
            "max_width": null,
            "min_height": null,
            "min_width": null,
            "object_fit": null,
            "object_position": null,
            "order": null,
            "overflow": null,
            "overflow_x": null,
            "overflow_y": null,
            "padding": null,
            "right": null,
            "top": null,
            "visibility": null,
            "width": null
          }
        },
        "abb0850c9ce746bd9138c8042652aa54": {
          "model_module": "@jupyter-widgets/controls",
          "model_name": "ProgressStyleModel",
          "model_module_version": "1.5.0",
          "state": {
            "_model_module": "@jupyter-widgets/controls",
            "_model_module_version": "1.5.0",
            "_model_name": "ProgressStyleModel",
            "_view_count": null,
            "_view_module": "@jupyter-widgets/base",
            "_view_module_version": "1.2.0",
            "_view_name": "StyleView",
            "bar_color": null,
            "description_width": ""
          }
        },
        "e7c2d9ddf2f44976909962a2307d7e21": {
          "model_module": "@jupyter-widgets/base",
          "model_name": "LayoutModel",
          "model_module_version": "1.2.0",
          "state": {
            "_model_module": "@jupyter-widgets/base",
            "_model_module_version": "1.2.0",
            "_model_name": "LayoutModel",
            "_view_count": null,
            "_view_module": "@jupyter-widgets/base",
            "_view_module_version": "1.2.0",
            "_view_name": "LayoutView",
            "align_content": null,
            "align_items": null,
            "align_self": null,
            "border": null,
            "bottom": null,
            "display": null,
            "flex": null,
            "flex_flow": null,
            "grid_area": null,
            "grid_auto_columns": null,
            "grid_auto_flow": null,
            "grid_auto_rows": null,
            "grid_column": null,
            "grid_gap": null,
            "grid_row": null,
            "grid_template_areas": null,
            "grid_template_columns": null,
            "grid_template_rows": null,
            "height": null,
            "justify_content": null,
            "justify_items": null,
            "left": null,
            "margin": null,
            "max_height": null,
            "max_width": null,
            "min_height": null,
            "min_width": null,
            "object_fit": null,
            "object_position": null,
            "order": null,
            "overflow": null,
            "overflow_x": null,
            "overflow_y": null,
            "padding": null,
            "right": null,
            "top": null,
            "visibility": null,
            "width": null
          }
        },
        "aa68d86d8dce45b58a447d691346e99f": {
          "model_module": "@jupyter-widgets/controls",
          "model_name": "DescriptionStyleModel",
          "model_module_version": "1.5.0",
          "state": {
            "_model_module": "@jupyter-widgets/controls",
            "_model_module_version": "1.5.0",
            "_model_name": "DescriptionStyleModel",
            "_view_count": null,
            "_view_module": "@jupyter-widgets/base",
            "_view_module_version": "1.2.0",
            "_view_name": "StyleView",
            "description_width": ""
          }
        },
        "f19898896bbd42e4971c1a3cc78a78b5": {
          "model_module": "@jupyter-widgets/controls",
          "model_name": "HBoxModel",
          "model_module_version": "1.5.0",
          "state": {
            "_dom_classes": [],
            "_model_module": "@jupyter-widgets/controls",
            "_model_module_version": "1.5.0",
            "_model_name": "HBoxModel",
            "_view_count": null,
            "_view_module": "@jupyter-widgets/controls",
            "_view_module_version": "1.5.0",
            "_view_name": "HBoxView",
            "box_style": "",
            "children": [
              "IPY_MODEL_950b86afc11443d38fb5f02d92291ab2",
              "IPY_MODEL_85ef9c8b71e549a4bf8e876bdcadf14b",
              "IPY_MODEL_87f795a114484604a3628b395cd6e474"
            ],
            "layout": "IPY_MODEL_6c7d61f1878845228a7c04d8442c6f73"
          }
        },
        "950b86afc11443d38fb5f02d92291ab2": {
          "model_module": "@jupyter-widgets/controls",
          "model_name": "HTMLModel",
          "model_module_version": "1.5.0",
          "state": {
            "_dom_classes": [],
            "_model_module": "@jupyter-widgets/controls",
            "_model_module_version": "1.5.0",
            "_model_name": "HTMLModel",
            "_view_count": null,
            "_view_module": "@jupyter-widgets/controls",
            "_view_module_version": "1.5.0",
            "_view_name": "HTMLView",
            "description": "",
            "description_tooltip": null,
            "layout": "IPY_MODEL_384fa981a6114c8f928ee67684efab57",
            "placeholder": "​",
            "style": "IPY_MODEL_4a38e0403ec449e1913955eac6876ff8",
            "value": "tokenizer.json: 100%"
          }
        },
        "85ef9c8b71e549a4bf8e876bdcadf14b": {
          "model_module": "@jupyter-widgets/controls",
          "model_name": "FloatProgressModel",
          "model_module_version": "1.5.0",
          "state": {
            "_dom_classes": [],
            "_model_module": "@jupyter-widgets/controls",
            "_model_module_version": "1.5.0",
            "_model_name": "FloatProgressModel",
            "_view_count": null,
            "_view_module": "@jupyter-widgets/controls",
            "_view_module_version": "1.5.0",
            "_view_name": "ProgressView",
            "bar_style": "success",
            "description": "",
            "description_tooltip": null,
            "layout": "IPY_MODEL_556aaf259a9f473689673d5bea2a0343",
            "max": 435797,
            "min": 0,
            "orientation": "horizontal",
            "style": "IPY_MODEL_25263163d9204047a735907c333a6586",
            "value": 435797
          }
        },
        "87f795a114484604a3628b395cd6e474": {
          "model_module": "@jupyter-widgets/controls",
          "model_name": "HTMLModel",
          "model_module_version": "1.5.0",
          "state": {
            "_dom_classes": [],
            "_model_module": "@jupyter-widgets/controls",
            "_model_module_version": "1.5.0",
            "_model_name": "HTMLModel",
            "_view_count": null,
            "_view_module": "@jupyter-widgets/controls",
            "_view_module_version": "1.5.0",
            "_view_name": "HTMLView",
            "description": "",
            "description_tooltip": null,
            "layout": "IPY_MODEL_e56f4bedc88943fa873cbabc11f88e82",
            "placeholder": "​",
            "style": "IPY_MODEL_00762855638d409b82baaaef62964850",
            "value": " 436k/436k [00:00&lt;00:00, 12.3MB/s]"
          }
        },
        "6c7d61f1878845228a7c04d8442c6f73": {
          "model_module": "@jupyter-widgets/base",
          "model_name": "LayoutModel",
          "model_module_version": "1.2.0",
          "state": {
            "_model_module": "@jupyter-widgets/base",
            "_model_module_version": "1.2.0",
            "_model_name": "LayoutModel",
            "_view_count": null,
            "_view_module": "@jupyter-widgets/base",
            "_view_module_version": "1.2.0",
            "_view_name": "LayoutView",
            "align_content": null,
            "align_items": null,
            "align_self": null,
            "border": null,
            "bottom": null,
            "display": null,
            "flex": null,
            "flex_flow": null,
            "grid_area": null,
            "grid_auto_columns": null,
            "grid_auto_flow": null,
            "grid_auto_rows": null,
            "grid_column": null,
            "grid_gap": null,
            "grid_row": null,
            "grid_template_areas": null,
            "grid_template_columns": null,
            "grid_template_rows": null,
            "height": null,
            "justify_content": null,
            "justify_items": null,
            "left": null,
            "margin": null,
            "max_height": null,
            "max_width": null,
            "min_height": null,
            "min_width": null,
            "object_fit": null,
            "object_position": null,
            "order": null,
            "overflow": null,
            "overflow_x": null,
            "overflow_y": null,
            "padding": null,
            "right": null,
            "top": null,
            "visibility": null,
            "width": null
          }
        },
        "384fa981a6114c8f928ee67684efab57": {
          "model_module": "@jupyter-widgets/base",
          "model_name": "LayoutModel",
          "model_module_version": "1.2.0",
          "state": {
            "_model_module": "@jupyter-widgets/base",
            "_model_module_version": "1.2.0",
            "_model_name": "LayoutModel",
            "_view_count": null,
            "_view_module": "@jupyter-widgets/base",
            "_view_module_version": "1.2.0",
            "_view_name": "LayoutView",
            "align_content": null,
            "align_items": null,
            "align_self": null,
            "border": null,
            "bottom": null,
            "display": null,
            "flex": null,
            "flex_flow": null,
            "grid_area": null,
            "grid_auto_columns": null,
            "grid_auto_flow": null,
            "grid_auto_rows": null,
            "grid_column": null,
            "grid_gap": null,
            "grid_row": null,
            "grid_template_areas": null,
            "grid_template_columns": null,
            "grid_template_rows": null,
            "height": null,
            "justify_content": null,
            "justify_items": null,
            "left": null,
            "margin": null,
            "max_height": null,
            "max_width": null,
            "min_height": null,
            "min_width": null,
            "object_fit": null,
            "object_position": null,
            "order": null,
            "overflow": null,
            "overflow_x": null,
            "overflow_y": null,
            "padding": null,
            "right": null,
            "top": null,
            "visibility": null,
            "width": null
          }
        },
        "4a38e0403ec449e1913955eac6876ff8": {
          "model_module": "@jupyter-widgets/controls",
          "model_name": "DescriptionStyleModel",
          "model_module_version": "1.5.0",
          "state": {
            "_model_module": "@jupyter-widgets/controls",
            "_model_module_version": "1.5.0",
            "_model_name": "DescriptionStyleModel",
            "_view_count": null,
            "_view_module": "@jupyter-widgets/base",
            "_view_module_version": "1.2.0",
            "_view_name": "StyleView",
            "description_width": ""
          }
        },
        "556aaf259a9f473689673d5bea2a0343": {
          "model_module": "@jupyter-widgets/base",
          "model_name": "LayoutModel",
          "model_module_version": "1.2.0",
          "state": {
            "_model_module": "@jupyter-widgets/base",
            "_model_module_version": "1.2.0",
            "_model_name": "LayoutModel",
            "_view_count": null,
            "_view_module": "@jupyter-widgets/base",
            "_view_module_version": "1.2.0",
            "_view_name": "LayoutView",
            "align_content": null,
            "align_items": null,
            "align_self": null,
            "border": null,
            "bottom": null,
            "display": null,
            "flex": null,
            "flex_flow": null,
            "grid_area": null,
            "grid_auto_columns": null,
            "grid_auto_flow": null,
            "grid_auto_rows": null,
            "grid_column": null,
            "grid_gap": null,
            "grid_row": null,
            "grid_template_areas": null,
            "grid_template_columns": null,
            "grid_template_rows": null,
            "height": null,
            "justify_content": null,
            "justify_items": null,
            "left": null,
            "margin": null,
            "max_height": null,
            "max_width": null,
            "min_height": null,
            "min_width": null,
            "object_fit": null,
            "object_position": null,
            "order": null,
            "overflow": null,
            "overflow_x": null,
            "overflow_y": null,
            "padding": null,
            "right": null,
            "top": null,
            "visibility": null,
            "width": null
          }
        },
        "25263163d9204047a735907c333a6586": {
          "model_module": "@jupyter-widgets/controls",
          "model_name": "ProgressStyleModel",
          "model_module_version": "1.5.0",
          "state": {
            "_model_module": "@jupyter-widgets/controls",
            "_model_module_version": "1.5.0",
            "_model_name": "ProgressStyleModel",
            "_view_count": null,
            "_view_module": "@jupyter-widgets/base",
            "_view_module_version": "1.2.0",
            "_view_name": "StyleView",
            "bar_color": null,
            "description_width": ""
          }
        },
        "e56f4bedc88943fa873cbabc11f88e82": {
          "model_module": "@jupyter-widgets/base",
          "model_name": "LayoutModel",
          "model_module_version": "1.2.0",
          "state": {
            "_model_module": "@jupyter-widgets/base",
            "_model_module_version": "1.2.0",
            "_model_name": "LayoutModel",
            "_view_count": null,
            "_view_module": "@jupyter-widgets/base",
            "_view_module_version": "1.2.0",
            "_view_name": "LayoutView",
            "align_content": null,
            "align_items": null,
            "align_self": null,
            "border": null,
            "bottom": null,
            "display": null,
            "flex": null,
            "flex_flow": null,
            "grid_area": null,
            "grid_auto_columns": null,
            "grid_auto_flow": null,
            "grid_auto_rows": null,
            "grid_column": null,
            "grid_gap": null,
            "grid_row": null,
            "grid_template_areas": null,
            "grid_template_columns": null,
            "grid_template_rows": null,
            "height": null,
            "justify_content": null,
            "justify_items": null,
            "left": null,
            "margin": null,
            "max_height": null,
            "max_width": null,
            "min_height": null,
            "min_width": null,
            "object_fit": null,
            "object_position": null,
            "order": null,
            "overflow": null,
            "overflow_x": null,
            "overflow_y": null,
            "padding": null,
            "right": null,
            "top": null,
            "visibility": null,
            "width": null
          }
        },
        "00762855638d409b82baaaef62964850": {
          "model_module": "@jupyter-widgets/controls",
          "model_name": "DescriptionStyleModel",
          "model_module_version": "1.5.0",
          "state": {
            "_model_module": "@jupyter-widgets/controls",
            "_model_module_version": "1.5.0",
            "_model_name": "DescriptionStyleModel",
            "_view_count": null,
            "_view_module": "@jupyter-widgets/base",
            "_view_module_version": "1.2.0",
            "_view_name": "StyleView",
            "description_width": ""
          }
        },
        "cba708993b6545cabed4092f673bbeb4": {
          "model_module": "@jupyter-widgets/controls",
          "model_name": "HBoxModel",
          "model_module_version": "1.5.0",
          "state": {
            "_dom_classes": [],
            "_model_module": "@jupyter-widgets/controls",
            "_model_module_version": "1.5.0",
            "_model_name": "HBoxModel",
            "_view_count": null,
            "_view_module": "@jupyter-widgets/controls",
            "_view_module_version": "1.5.0",
            "_view_name": "HBoxView",
            "box_style": "",
            "children": [
              "IPY_MODEL_257c8b31c1d9440a8ca932f634babc26",
              "IPY_MODEL_502e6d45f2a845d28fe127160afdcf7f",
              "IPY_MODEL_ea12aa9750044e7b9e7f4b47cddc870c"
            ],
            "layout": "IPY_MODEL_f25ff9cb3edb4e47b69136704aa2cbdd"
          }
        },
        "257c8b31c1d9440a8ca932f634babc26": {
          "model_module": "@jupyter-widgets/controls",
          "model_name": "HTMLModel",
          "model_module_version": "1.5.0",
          "state": {
            "_dom_classes": [],
            "_model_module": "@jupyter-widgets/controls",
            "_model_module_version": "1.5.0",
            "_model_name": "HTMLModel",
            "_view_count": null,
            "_view_module": "@jupyter-widgets/controls",
            "_view_module_version": "1.5.0",
            "_view_name": "HTMLView",
            "description": "",
            "description_tooltip": null,
            "layout": "IPY_MODEL_62ba8fad313d49f1a732347a0f6d68a3",
            "placeholder": "​",
            "style": "IPY_MODEL_b951aa6cc567464b9d35af38df7e3edb",
            "value": "config.json: 100%"
          }
        },
        "502e6d45f2a845d28fe127160afdcf7f": {
          "model_module": "@jupyter-widgets/controls",
          "model_name": "FloatProgressModel",
          "model_module_version": "1.5.0",
          "state": {
            "_dom_classes": [],
            "_model_module": "@jupyter-widgets/controls",
            "_model_module_version": "1.5.0",
            "_model_name": "FloatProgressModel",
            "_view_count": null,
            "_view_module": "@jupyter-widgets/controls",
            "_view_module_version": "1.5.0",
            "_view_name": "ProgressView",
            "bar_style": "success",
            "description": "",
            "description_tooltip": null,
            "layout": "IPY_MODEL_77a77ad18c2c4ddd9607c09f3f047e61",
            "max": 570,
            "min": 0,
            "orientation": "horizontal",
            "style": "IPY_MODEL_e481edee6609407391cc5172f352ded6",
            "value": 570
          }
        },
        "ea12aa9750044e7b9e7f4b47cddc870c": {
          "model_module": "@jupyter-widgets/controls",
          "model_name": "HTMLModel",
          "model_module_version": "1.5.0",
          "state": {
            "_dom_classes": [],
            "_model_module": "@jupyter-widgets/controls",
            "_model_module_version": "1.5.0",
            "_model_name": "HTMLModel",
            "_view_count": null,
            "_view_module": "@jupyter-widgets/controls",
            "_view_module_version": "1.5.0",
            "_view_name": "HTMLView",
            "description": "",
            "description_tooltip": null,
            "layout": "IPY_MODEL_ac3d91b5d77d484d96b3507a5771ddd5",
            "placeholder": "​",
            "style": "IPY_MODEL_865144bd9d894e588581c9a4f3b4371a",
            "value": " 570/570 [00:00&lt;00:00, 11.3kB/s]"
          }
        },
        "f25ff9cb3edb4e47b69136704aa2cbdd": {
          "model_module": "@jupyter-widgets/base",
          "model_name": "LayoutModel",
          "model_module_version": "1.2.0",
          "state": {
            "_model_module": "@jupyter-widgets/base",
            "_model_module_version": "1.2.0",
            "_model_name": "LayoutModel",
            "_view_count": null,
            "_view_module": "@jupyter-widgets/base",
            "_view_module_version": "1.2.0",
            "_view_name": "LayoutView",
            "align_content": null,
            "align_items": null,
            "align_self": null,
            "border": null,
            "bottom": null,
            "display": null,
            "flex": null,
            "flex_flow": null,
            "grid_area": null,
            "grid_auto_columns": null,
            "grid_auto_flow": null,
            "grid_auto_rows": null,
            "grid_column": null,
            "grid_gap": null,
            "grid_row": null,
            "grid_template_areas": null,
            "grid_template_columns": null,
            "grid_template_rows": null,
            "height": null,
            "justify_content": null,
            "justify_items": null,
            "left": null,
            "margin": null,
            "max_height": null,
            "max_width": null,
            "min_height": null,
            "min_width": null,
            "object_fit": null,
            "object_position": null,
            "order": null,
            "overflow": null,
            "overflow_x": null,
            "overflow_y": null,
            "padding": null,
            "right": null,
            "top": null,
            "visibility": null,
            "width": null
          }
        },
        "62ba8fad313d49f1a732347a0f6d68a3": {
          "model_module": "@jupyter-widgets/base",
          "model_name": "LayoutModel",
          "model_module_version": "1.2.0",
          "state": {
            "_model_module": "@jupyter-widgets/base",
            "_model_module_version": "1.2.0",
            "_model_name": "LayoutModel",
            "_view_count": null,
            "_view_module": "@jupyter-widgets/base",
            "_view_module_version": "1.2.0",
            "_view_name": "LayoutView",
            "align_content": null,
            "align_items": null,
            "align_self": null,
            "border": null,
            "bottom": null,
            "display": null,
            "flex": null,
            "flex_flow": null,
            "grid_area": null,
            "grid_auto_columns": null,
            "grid_auto_flow": null,
            "grid_auto_rows": null,
            "grid_column": null,
            "grid_gap": null,
            "grid_row": null,
            "grid_template_areas": null,
            "grid_template_columns": null,
            "grid_template_rows": null,
            "height": null,
            "justify_content": null,
            "justify_items": null,
            "left": null,
            "margin": null,
            "max_height": null,
            "max_width": null,
            "min_height": null,
            "min_width": null,
            "object_fit": null,
            "object_position": null,
            "order": null,
            "overflow": null,
            "overflow_x": null,
            "overflow_y": null,
            "padding": null,
            "right": null,
            "top": null,
            "visibility": null,
            "width": null
          }
        },
        "b951aa6cc567464b9d35af38df7e3edb": {
          "model_module": "@jupyter-widgets/controls",
          "model_name": "DescriptionStyleModel",
          "model_module_version": "1.5.0",
          "state": {
            "_model_module": "@jupyter-widgets/controls",
            "_model_module_version": "1.5.0",
            "_model_name": "DescriptionStyleModel",
            "_view_count": null,
            "_view_module": "@jupyter-widgets/base",
            "_view_module_version": "1.2.0",
            "_view_name": "StyleView",
            "description_width": ""
          }
        },
        "77a77ad18c2c4ddd9607c09f3f047e61": {
          "model_module": "@jupyter-widgets/base",
          "model_name": "LayoutModel",
          "model_module_version": "1.2.0",
          "state": {
            "_model_module": "@jupyter-widgets/base",
            "_model_module_version": "1.2.0",
            "_model_name": "LayoutModel",
            "_view_count": null,
            "_view_module": "@jupyter-widgets/base",
            "_view_module_version": "1.2.0",
            "_view_name": "LayoutView",
            "align_content": null,
            "align_items": null,
            "align_self": null,
            "border": null,
            "bottom": null,
            "display": null,
            "flex": null,
            "flex_flow": null,
            "grid_area": null,
            "grid_auto_columns": null,
            "grid_auto_flow": null,
            "grid_auto_rows": null,
            "grid_column": null,
            "grid_gap": null,
            "grid_row": null,
            "grid_template_areas": null,
            "grid_template_columns": null,
            "grid_template_rows": null,
            "height": null,
            "justify_content": null,
            "justify_items": null,
            "left": null,
            "margin": null,
            "max_height": null,
            "max_width": null,
            "min_height": null,
            "min_width": null,
            "object_fit": null,
            "object_position": null,
            "order": null,
            "overflow": null,
            "overflow_x": null,
            "overflow_y": null,
            "padding": null,
            "right": null,
            "top": null,
            "visibility": null,
            "width": null
          }
        },
        "e481edee6609407391cc5172f352ded6": {
          "model_module": "@jupyter-widgets/controls",
          "model_name": "ProgressStyleModel",
          "model_module_version": "1.5.0",
          "state": {
            "_model_module": "@jupyter-widgets/controls",
            "_model_module_version": "1.5.0",
            "_model_name": "ProgressStyleModel",
            "_view_count": null,
            "_view_module": "@jupyter-widgets/base",
            "_view_module_version": "1.2.0",
            "_view_name": "StyleView",
            "bar_color": null,
            "description_width": ""
          }
        },
        "ac3d91b5d77d484d96b3507a5771ddd5": {
          "model_module": "@jupyter-widgets/base",
          "model_name": "LayoutModel",
          "model_module_version": "1.2.0",
          "state": {
            "_model_module": "@jupyter-widgets/base",
            "_model_module_version": "1.2.0",
            "_model_name": "LayoutModel",
            "_view_count": null,
            "_view_module": "@jupyter-widgets/base",
            "_view_module_version": "1.2.0",
            "_view_name": "LayoutView",
            "align_content": null,
            "align_items": null,
            "align_self": null,
            "border": null,
            "bottom": null,
            "display": null,
            "flex": null,
            "flex_flow": null,
            "grid_area": null,
            "grid_auto_columns": null,
            "grid_auto_flow": null,
            "grid_auto_rows": null,
            "grid_column": null,
            "grid_gap": null,
            "grid_row": null,
            "grid_template_areas": null,
            "grid_template_columns": null,
            "grid_template_rows": null,
            "height": null,
            "justify_content": null,
            "justify_items": null,
            "left": null,
            "margin": null,
            "max_height": null,
            "max_width": null,
            "min_height": null,
            "min_width": null,
            "object_fit": null,
            "object_position": null,
            "order": null,
            "overflow": null,
            "overflow_x": null,
            "overflow_y": null,
            "padding": null,
            "right": null,
            "top": null,
            "visibility": null,
            "width": null
          }
        },
        "865144bd9d894e588581c9a4f3b4371a": {
          "model_module": "@jupyter-widgets/controls",
          "model_name": "DescriptionStyleModel",
          "model_module_version": "1.5.0",
          "state": {
            "_model_module": "@jupyter-widgets/controls",
            "_model_module_version": "1.5.0",
            "_model_name": "DescriptionStyleModel",
            "_view_count": null,
            "_view_module": "@jupyter-widgets/base",
            "_view_module_version": "1.2.0",
            "_view_name": "StyleView",
            "description_width": ""
          }
        },
        "f34459009a6d41f595da5ab2001133ab": {
          "model_module": "@jupyter-widgets/controls",
          "model_name": "HBoxModel",
          "model_module_version": "1.5.0",
          "state": {
            "_dom_classes": [],
            "_model_module": "@jupyter-widgets/controls",
            "_model_module_version": "1.5.0",
            "_model_name": "HBoxModel",
            "_view_count": null,
            "_view_module": "@jupyter-widgets/controls",
            "_view_module_version": "1.5.0",
            "_view_name": "HBoxView",
            "box_style": "",
            "children": [
              "IPY_MODEL_a25aec6c1a9e4af5a32030f7235fca32",
              "IPY_MODEL_52c8ac08f98a4a749003f9b462c428d0",
              "IPY_MODEL_a193c1837ac94061a1a3002b59d3f48a"
            ],
            "layout": "IPY_MODEL_272b1a59a2f642a7a5bcbdb0fe1e46bb"
          }
        },
        "a25aec6c1a9e4af5a32030f7235fca32": {
          "model_module": "@jupyter-widgets/controls",
          "model_name": "HTMLModel",
          "model_module_version": "1.5.0",
          "state": {
            "_dom_classes": [],
            "_model_module": "@jupyter-widgets/controls",
            "_model_module_version": "1.5.0",
            "_model_name": "HTMLModel",
            "_view_count": null,
            "_view_module": "@jupyter-widgets/controls",
            "_view_module_version": "1.5.0",
            "_view_name": "HTMLView",
            "description": "",
            "description_tooltip": null,
            "layout": "IPY_MODEL_9b75533c56684002a37ba7dfbc422376",
            "placeholder": "​",
            "style": "IPY_MODEL_b902ee2749e3429a9e0104f9a92914f2",
            "value": "model.safetensors: 100%"
          }
        },
        "52c8ac08f98a4a749003f9b462c428d0": {
          "model_module": "@jupyter-widgets/controls",
          "model_name": "FloatProgressModel",
          "model_module_version": "1.5.0",
          "state": {
            "_dom_classes": [],
            "_model_module": "@jupyter-widgets/controls",
            "_model_module_version": "1.5.0",
            "_model_name": "FloatProgressModel",
            "_view_count": null,
            "_view_module": "@jupyter-widgets/controls",
            "_view_module_version": "1.5.0",
            "_view_name": "ProgressView",
            "bar_style": "success",
            "description": "",
            "description_tooltip": null,
            "layout": "IPY_MODEL_89fb56ebb4324c9db5b2520d259f733e",
            "max": 435755784,
            "min": 0,
            "orientation": "horizontal",
            "style": "IPY_MODEL_aad580f7a99647bcbe261e40dfb888b4",
            "value": 435755784
          }
        },
        "a193c1837ac94061a1a3002b59d3f48a": {
          "model_module": "@jupyter-widgets/controls",
          "model_name": "HTMLModel",
          "model_module_version": "1.5.0",
          "state": {
            "_dom_classes": [],
            "_model_module": "@jupyter-widgets/controls",
            "_model_module_version": "1.5.0",
            "_model_name": "HTMLModel",
            "_view_count": null,
            "_view_module": "@jupyter-widgets/controls",
            "_view_module_version": "1.5.0",
            "_view_name": "HTMLView",
            "description": "",
            "description_tooltip": null,
            "layout": "IPY_MODEL_2961e34535b348089074986cba6e7dc8",
            "placeholder": "​",
            "style": "IPY_MODEL_b08d0100031141e292c6eaebeee51bb1",
            "value": " 436M/436M [00:02&lt;00:00, 175MB/s]"
          }
        },
        "272b1a59a2f642a7a5bcbdb0fe1e46bb": {
          "model_module": "@jupyter-widgets/base",
          "model_name": "LayoutModel",
          "model_module_version": "1.2.0",
          "state": {
            "_model_module": "@jupyter-widgets/base",
            "_model_module_version": "1.2.0",
            "_model_name": "LayoutModel",
            "_view_count": null,
            "_view_module": "@jupyter-widgets/base",
            "_view_module_version": "1.2.0",
            "_view_name": "LayoutView",
            "align_content": null,
            "align_items": null,
            "align_self": null,
            "border": null,
            "bottom": null,
            "display": null,
            "flex": null,
            "flex_flow": null,
            "grid_area": null,
            "grid_auto_columns": null,
            "grid_auto_flow": null,
            "grid_auto_rows": null,
            "grid_column": null,
            "grid_gap": null,
            "grid_row": null,
            "grid_template_areas": null,
            "grid_template_columns": null,
            "grid_template_rows": null,
            "height": null,
            "justify_content": null,
            "justify_items": null,
            "left": null,
            "margin": null,
            "max_height": null,
            "max_width": null,
            "min_height": null,
            "min_width": null,
            "object_fit": null,
            "object_position": null,
            "order": null,
            "overflow": null,
            "overflow_x": null,
            "overflow_y": null,
            "padding": null,
            "right": null,
            "top": null,
            "visibility": null,
            "width": null
          }
        },
        "9b75533c56684002a37ba7dfbc422376": {
          "model_module": "@jupyter-widgets/base",
          "model_name": "LayoutModel",
          "model_module_version": "1.2.0",
          "state": {
            "_model_module": "@jupyter-widgets/base",
            "_model_module_version": "1.2.0",
            "_model_name": "LayoutModel",
            "_view_count": null,
            "_view_module": "@jupyter-widgets/base",
            "_view_module_version": "1.2.0",
            "_view_name": "LayoutView",
            "align_content": null,
            "align_items": null,
            "align_self": null,
            "border": null,
            "bottom": null,
            "display": null,
            "flex": null,
            "flex_flow": null,
            "grid_area": null,
            "grid_auto_columns": null,
            "grid_auto_flow": null,
            "grid_auto_rows": null,
            "grid_column": null,
            "grid_gap": null,
            "grid_row": null,
            "grid_template_areas": null,
            "grid_template_columns": null,
            "grid_template_rows": null,
            "height": null,
            "justify_content": null,
            "justify_items": null,
            "left": null,
            "margin": null,
            "max_height": null,
            "max_width": null,
            "min_height": null,
            "min_width": null,
            "object_fit": null,
            "object_position": null,
            "order": null,
            "overflow": null,
            "overflow_x": null,
            "overflow_y": null,
            "padding": null,
            "right": null,
            "top": null,
            "visibility": null,
            "width": null
          }
        },
        "b902ee2749e3429a9e0104f9a92914f2": {
          "model_module": "@jupyter-widgets/controls",
          "model_name": "DescriptionStyleModel",
          "model_module_version": "1.5.0",
          "state": {
            "_model_module": "@jupyter-widgets/controls",
            "_model_module_version": "1.5.0",
            "_model_name": "DescriptionStyleModel",
            "_view_count": null,
            "_view_module": "@jupyter-widgets/base",
            "_view_module_version": "1.2.0",
            "_view_name": "StyleView",
            "description_width": ""
          }
        },
        "89fb56ebb4324c9db5b2520d259f733e": {
          "model_module": "@jupyter-widgets/base",
          "model_name": "LayoutModel",
          "model_module_version": "1.2.0",
          "state": {
            "_model_module": "@jupyter-widgets/base",
            "_model_module_version": "1.2.0",
            "_model_name": "LayoutModel",
            "_view_count": null,
            "_view_module": "@jupyter-widgets/base",
            "_view_module_version": "1.2.0",
            "_view_name": "LayoutView",
            "align_content": null,
            "align_items": null,
            "align_self": null,
            "border": null,
            "bottom": null,
            "display": null,
            "flex": null,
            "flex_flow": null,
            "grid_area": null,
            "grid_auto_columns": null,
            "grid_auto_flow": null,
            "grid_auto_rows": null,
            "grid_column": null,
            "grid_gap": null,
            "grid_row": null,
            "grid_template_areas": null,
            "grid_template_columns": null,
            "grid_template_rows": null,
            "height": null,
            "justify_content": null,
            "justify_items": null,
            "left": null,
            "margin": null,
            "max_height": null,
            "max_width": null,
            "min_height": null,
            "min_width": null,
            "object_fit": null,
            "object_position": null,
            "order": null,
            "overflow": null,
            "overflow_x": null,
            "overflow_y": null,
            "padding": null,
            "right": null,
            "top": null,
            "visibility": null,
            "width": null
          }
        },
        "aad580f7a99647bcbe261e40dfb888b4": {
          "model_module": "@jupyter-widgets/controls",
          "model_name": "ProgressStyleModel",
          "model_module_version": "1.5.0",
          "state": {
            "_model_module": "@jupyter-widgets/controls",
            "_model_module_version": "1.5.0",
            "_model_name": "ProgressStyleModel",
            "_view_count": null,
            "_view_module": "@jupyter-widgets/base",
            "_view_module_version": "1.2.0",
            "_view_name": "StyleView",
            "bar_color": null,
            "description_width": ""
          }
        },
        "2961e34535b348089074986cba6e7dc8": {
          "model_module": "@jupyter-widgets/base",
          "model_name": "LayoutModel",
          "model_module_version": "1.2.0",
          "state": {
            "_model_module": "@jupyter-widgets/base",
            "_model_module_version": "1.2.0",
            "_model_name": "LayoutModel",
            "_view_count": null,
            "_view_module": "@jupyter-widgets/base",
            "_view_module_version": "1.2.0",
            "_view_name": "LayoutView",
            "align_content": null,
            "align_items": null,
            "align_self": null,
            "border": null,
            "bottom": null,
            "display": null,
            "flex": null,
            "flex_flow": null,
            "grid_area": null,
            "grid_auto_columns": null,
            "grid_auto_flow": null,
            "grid_auto_rows": null,
            "grid_column": null,
            "grid_gap": null,
            "grid_row": null,
            "grid_template_areas": null,
            "grid_template_columns": null,
            "grid_template_rows": null,
            "height": null,
            "justify_content": null,
            "justify_items": null,
            "left": null,
            "margin": null,
            "max_height": null,
            "max_width": null,
            "min_height": null,
            "min_width": null,
            "object_fit": null,
            "object_position": null,
            "order": null,
            "overflow": null,
            "overflow_x": null,
            "overflow_y": null,
            "padding": null,
            "right": null,
            "top": null,
            "visibility": null,
            "width": null
          }
        },
        "b08d0100031141e292c6eaebeee51bb1": {
          "model_module": "@jupyter-widgets/controls",
          "model_name": "DescriptionStyleModel",
          "model_module_version": "1.5.0",
          "state": {
            "_model_module": "@jupyter-widgets/controls",
            "_model_module_version": "1.5.0",
            "_model_name": "DescriptionStyleModel",
            "_view_count": null,
            "_view_module": "@jupyter-widgets/base",
            "_view_module_version": "1.2.0",
            "_view_name": "StyleView",
            "description_width": ""
          }
        },
        "a8d7448ec5344648a1d68ff5d0daff0a": {
          "model_module": "@jupyter-widgets/controls",
          "model_name": "HBoxModel",
          "model_module_version": "1.5.0",
          "state": {
            "_dom_classes": [],
            "_model_module": "@jupyter-widgets/controls",
            "_model_module_version": "1.5.0",
            "_model_name": "HBoxModel",
            "_view_count": null,
            "_view_module": "@jupyter-widgets/controls",
            "_view_module_version": "1.5.0",
            "_view_name": "HBoxView",
            "box_style": "",
            "children": [
              "IPY_MODEL_314ad3f17308409388d64057987e978f",
              "IPY_MODEL_b728d43eaec84e849079a7f6cb6259b5",
              "IPY_MODEL_2bf11bb6b3344928a3d624950d90cc6e"
            ],
            "layout": "IPY_MODEL_8f4c9fb742ca4a91abfba72dac119058"
          }
        },
        "314ad3f17308409388d64057987e978f": {
          "model_module": "@jupyter-widgets/controls",
          "model_name": "HTMLModel",
          "model_module_version": "1.5.0",
          "state": {
            "_dom_classes": [],
            "_model_module": "@jupyter-widgets/controls",
            "_model_module_version": "1.5.0",
            "_model_name": "HTMLModel",
            "_view_count": null,
            "_view_module": "@jupyter-widgets/controls",
            "_view_module_version": "1.5.0",
            "_view_name": "HTMLView",
            "description": "",
            "description_tooltip": null,
            "layout": "IPY_MODEL_069fd985f98a4e3383e48a0db3d48961",
            "placeholder": "​",
            "style": "IPY_MODEL_3aa2fdd30b61444e92b2a37f5e5a3dbd",
            "value": "config.json: 100%"
          }
        },
        "b728d43eaec84e849079a7f6cb6259b5": {
          "model_module": "@jupyter-widgets/controls",
          "model_name": "FloatProgressModel",
          "model_module_version": "1.5.0",
          "state": {
            "_dom_classes": [],
            "_model_module": "@jupyter-widgets/controls",
            "_model_module_version": "1.5.0",
            "_model_name": "FloatProgressModel",
            "_view_count": null,
            "_view_module": "@jupyter-widgets/controls",
            "_view_module_version": "1.5.0",
            "_view_name": "ProgressView",
            "bar_style": "success",
            "description": "",
            "description_tooltip": null,
            "layout": "IPY_MODEL_721e55e38e8d4286b6b8522b5bb4e328",
            "max": 480,
            "min": 0,
            "orientation": "horizontal",
            "style": "IPY_MODEL_95c897d13d74444db5f2033e3a54aa2b",
            "value": 480
          }
        },
        "2bf11bb6b3344928a3d624950d90cc6e": {
          "model_module": "@jupyter-widgets/controls",
          "model_name": "HTMLModel",
          "model_module_version": "1.5.0",
          "state": {
            "_dom_classes": [],
            "_model_module": "@jupyter-widgets/controls",
            "_model_module_version": "1.5.0",
            "_model_name": "HTMLModel",
            "_view_count": null,
            "_view_module": "@jupyter-widgets/controls",
            "_view_module_version": "1.5.0",
            "_view_name": "HTMLView",
            "description": "",
            "description_tooltip": null,
            "layout": "IPY_MODEL_b29ad1005f444750b02f811bd0f8029a",
            "placeholder": "​",
            "style": "IPY_MODEL_5c35100a48444f34a59c24da6412e9e2",
            "value": " 480/480 [00:00&lt;00:00, 15.2kB/s]"
          }
        },
        "8f4c9fb742ca4a91abfba72dac119058": {
          "model_module": "@jupyter-widgets/base",
          "model_name": "LayoutModel",
          "model_module_version": "1.2.0",
          "state": {
            "_model_module": "@jupyter-widgets/base",
            "_model_module_version": "1.2.0",
            "_model_name": "LayoutModel",
            "_view_count": null,
            "_view_module": "@jupyter-widgets/base",
            "_view_module_version": "1.2.0",
            "_view_name": "LayoutView",
            "align_content": null,
            "align_items": null,
            "align_self": null,
            "border": null,
            "bottom": null,
            "display": null,
            "flex": null,
            "flex_flow": null,
            "grid_area": null,
            "grid_auto_columns": null,
            "grid_auto_flow": null,
            "grid_auto_rows": null,
            "grid_column": null,
            "grid_gap": null,
            "grid_row": null,
            "grid_template_areas": null,
            "grid_template_columns": null,
            "grid_template_rows": null,
            "height": null,
            "justify_content": null,
            "justify_items": null,
            "left": null,
            "margin": null,
            "max_height": null,
            "max_width": null,
            "min_height": null,
            "min_width": null,
            "object_fit": null,
            "object_position": null,
            "order": null,
            "overflow": null,
            "overflow_x": null,
            "overflow_y": null,
            "padding": null,
            "right": null,
            "top": null,
            "visibility": null,
            "width": null
          }
        },
        "069fd985f98a4e3383e48a0db3d48961": {
          "model_module": "@jupyter-widgets/base",
          "model_name": "LayoutModel",
          "model_module_version": "1.2.0",
          "state": {
            "_model_module": "@jupyter-widgets/base",
            "_model_module_version": "1.2.0",
            "_model_name": "LayoutModel",
            "_view_count": null,
            "_view_module": "@jupyter-widgets/base",
            "_view_module_version": "1.2.0",
            "_view_name": "LayoutView",
            "align_content": null,
            "align_items": null,
            "align_self": null,
            "border": null,
            "bottom": null,
            "display": null,
            "flex": null,
            "flex_flow": null,
            "grid_area": null,
            "grid_auto_columns": null,
            "grid_auto_flow": null,
            "grid_auto_rows": null,
            "grid_column": null,
            "grid_gap": null,
            "grid_row": null,
            "grid_template_areas": null,
            "grid_template_columns": null,
            "grid_template_rows": null,
            "height": null,
            "justify_content": null,
            "justify_items": null,
            "left": null,
            "margin": null,
            "max_height": null,
            "max_width": null,
            "min_height": null,
            "min_width": null,
            "object_fit": null,
            "object_position": null,
            "order": null,
            "overflow": null,
            "overflow_x": null,
            "overflow_y": null,
            "padding": null,
            "right": null,
            "top": null,
            "visibility": null,
            "width": null
          }
        },
        "3aa2fdd30b61444e92b2a37f5e5a3dbd": {
          "model_module": "@jupyter-widgets/controls",
          "model_name": "DescriptionStyleModel",
          "model_module_version": "1.5.0",
          "state": {
            "_model_module": "@jupyter-widgets/controls",
            "_model_module_version": "1.5.0",
            "_model_name": "DescriptionStyleModel",
            "_view_count": null,
            "_view_module": "@jupyter-widgets/base",
            "_view_module_version": "1.2.0",
            "_view_name": "StyleView",
            "description_width": ""
          }
        },
        "721e55e38e8d4286b6b8522b5bb4e328": {
          "model_module": "@jupyter-widgets/base",
          "model_name": "LayoutModel",
          "model_module_version": "1.2.0",
          "state": {
            "_model_module": "@jupyter-widgets/base",
            "_model_module_version": "1.2.0",
            "_model_name": "LayoutModel",
            "_view_count": null,
            "_view_module": "@jupyter-widgets/base",
            "_view_module_version": "1.2.0",
            "_view_name": "LayoutView",
            "align_content": null,
            "align_items": null,
            "align_self": null,
            "border": null,
            "bottom": null,
            "display": null,
            "flex": null,
            "flex_flow": null,
            "grid_area": null,
            "grid_auto_columns": null,
            "grid_auto_flow": null,
            "grid_auto_rows": null,
            "grid_column": null,
            "grid_gap": null,
            "grid_row": null,
            "grid_template_areas": null,
            "grid_template_columns": null,
            "grid_template_rows": null,
            "height": null,
            "justify_content": null,
            "justify_items": null,
            "left": null,
            "margin": null,
            "max_height": null,
            "max_width": null,
            "min_height": null,
            "min_width": null,
            "object_fit": null,
            "object_position": null,
            "order": null,
            "overflow": null,
            "overflow_x": null,
            "overflow_y": null,
            "padding": null,
            "right": null,
            "top": null,
            "visibility": null,
            "width": null
          }
        },
        "95c897d13d74444db5f2033e3a54aa2b": {
          "model_module": "@jupyter-widgets/controls",
          "model_name": "ProgressStyleModel",
          "model_module_version": "1.5.0",
          "state": {
            "_model_module": "@jupyter-widgets/controls",
            "_model_module_version": "1.5.0",
            "_model_name": "ProgressStyleModel",
            "_view_count": null,
            "_view_module": "@jupyter-widgets/base",
            "_view_module_version": "1.2.0",
            "_view_name": "StyleView",
            "bar_color": null,
            "description_width": ""
          }
        },
        "b29ad1005f444750b02f811bd0f8029a": {
          "model_module": "@jupyter-widgets/base",
          "model_name": "LayoutModel",
          "model_module_version": "1.2.0",
          "state": {
            "_model_module": "@jupyter-widgets/base",
            "_model_module_version": "1.2.0",
            "_model_name": "LayoutModel",
            "_view_count": null,
            "_view_module": "@jupyter-widgets/base",
            "_view_module_version": "1.2.0",
            "_view_name": "LayoutView",
            "align_content": null,
            "align_items": null,
            "align_self": null,
            "border": null,
            "bottom": null,
            "display": null,
            "flex": null,
            "flex_flow": null,
            "grid_area": null,
            "grid_auto_columns": null,
            "grid_auto_flow": null,
            "grid_auto_rows": null,
            "grid_column": null,
            "grid_gap": null,
            "grid_row": null,
            "grid_template_areas": null,
            "grid_template_columns": null,
            "grid_template_rows": null,
            "height": null,
            "justify_content": null,
            "justify_items": null,
            "left": null,
            "margin": null,
            "max_height": null,
            "max_width": null,
            "min_height": null,
            "min_width": null,
            "object_fit": null,
            "object_position": null,
            "order": null,
            "overflow": null,
            "overflow_x": null,
            "overflow_y": null,
            "padding": null,
            "right": null,
            "top": null,
            "visibility": null,
            "width": null
          }
        },
        "5c35100a48444f34a59c24da6412e9e2": {
          "model_module": "@jupyter-widgets/controls",
          "model_name": "DescriptionStyleModel",
          "model_module_version": "1.5.0",
          "state": {
            "_model_module": "@jupyter-widgets/controls",
            "_model_module_version": "1.5.0",
            "_model_name": "DescriptionStyleModel",
            "_view_count": null,
            "_view_module": "@jupyter-widgets/base",
            "_view_module_version": "1.2.0",
            "_view_name": "StyleView",
            "description_width": ""
          }
        },
        "7e0e6434909b49b487b9e557440fbf8c": {
          "model_module": "@jupyter-widgets/controls",
          "model_name": "HBoxModel",
          "model_module_version": "1.5.0",
          "state": {
            "_dom_classes": [],
            "_model_module": "@jupyter-widgets/controls",
            "_model_module_version": "1.5.0",
            "_model_name": "HBoxModel",
            "_view_count": null,
            "_view_module": "@jupyter-widgets/controls",
            "_view_module_version": "1.5.0",
            "_view_name": "HBoxView",
            "box_style": "",
            "children": [
              "IPY_MODEL_69522a63246a4c5180cc727a9bbb6d4f",
              "IPY_MODEL_44902ad2504041bd8459812d447a1ad7",
              "IPY_MODEL_a35ef0540ba24043bbf744c6eff3e47a"
            ],
            "layout": "IPY_MODEL_8a7c9f8a998840bd9db0b5729fc1778c"
          }
        },
        "69522a63246a4c5180cc727a9bbb6d4f": {
          "model_module": "@jupyter-widgets/controls",
          "model_name": "HTMLModel",
          "model_module_version": "1.5.0",
          "state": {
            "_dom_classes": [],
            "_model_module": "@jupyter-widgets/controls",
            "_model_module_version": "1.5.0",
            "_model_name": "HTMLModel",
            "_view_count": null,
            "_view_module": "@jupyter-widgets/controls",
            "_view_module_version": "1.5.0",
            "_view_name": "HTMLView",
            "description": "",
            "description_tooltip": null,
            "layout": "IPY_MODEL_35fc66b954c6453abd239854d7158d7e",
            "placeholder": "​",
            "style": "IPY_MODEL_287f4aed938747e48824a47f058f3e87",
            "value": "vocab.json: 100%"
          }
        },
        "44902ad2504041bd8459812d447a1ad7": {
          "model_module": "@jupyter-widgets/controls",
          "model_name": "FloatProgressModel",
          "model_module_version": "1.5.0",
          "state": {
            "_dom_classes": [],
            "_model_module": "@jupyter-widgets/controls",
            "_model_module_version": "1.5.0",
            "_model_name": "FloatProgressModel",
            "_view_count": null,
            "_view_module": "@jupyter-widgets/controls",
            "_view_module_version": "1.5.0",
            "_view_name": "ProgressView",
            "bar_style": "success",
            "description": "",
            "description_tooltip": null,
            "layout": "IPY_MODEL_0d8346054cf4472f890b251e49870a64",
            "max": 898823,
            "min": 0,
            "orientation": "horizontal",
            "style": "IPY_MODEL_af2f1918baed45f49ce95e390892e170",
            "value": 898823
          }
        },
        "a35ef0540ba24043bbf744c6eff3e47a": {
          "model_module": "@jupyter-widgets/controls",
          "model_name": "HTMLModel",
          "model_module_version": "1.5.0",
          "state": {
            "_dom_classes": [],
            "_model_module": "@jupyter-widgets/controls",
            "_model_module_version": "1.5.0",
            "_model_name": "HTMLModel",
            "_view_count": null,
            "_view_module": "@jupyter-widgets/controls",
            "_view_module_version": "1.5.0",
            "_view_name": "HTMLView",
            "description": "",
            "description_tooltip": null,
            "layout": "IPY_MODEL_cb3ba312d71246e7b7c31d3e1aa51945",
            "placeholder": "​",
            "style": "IPY_MODEL_0dd1f8845584484ba9115aeaec71c57b",
            "value": " 899k/899k [00:00&lt;00:00, 3.81MB/s]"
          }
        },
        "8a7c9f8a998840bd9db0b5729fc1778c": {
          "model_module": "@jupyter-widgets/base",
          "model_name": "LayoutModel",
          "model_module_version": "1.2.0",
          "state": {
            "_model_module": "@jupyter-widgets/base",
            "_model_module_version": "1.2.0",
            "_model_name": "LayoutModel",
            "_view_count": null,
            "_view_module": "@jupyter-widgets/base",
            "_view_module_version": "1.2.0",
            "_view_name": "LayoutView",
            "align_content": null,
            "align_items": null,
            "align_self": null,
            "border": null,
            "bottom": null,
            "display": null,
            "flex": null,
            "flex_flow": null,
            "grid_area": null,
            "grid_auto_columns": null,
            "grid_auto_flow": null,
            "grid_auto_rows": null,
            "grid_column": null,
            "grid_gap": null,
            "grid_row": null,
            "grid_template_areas": null,
            "grid_template_columns": null,
            "grid_template_rows": null,
            "height": null,
            "justify_content": null,
            "justify_items": null,
            "left": null,
            "margin": null,
            "max_height": null,
            "max_width": null,
            "min_height": null,
            "min_width": null,
            "object_fit": null,
            "object_position": null,
            "order": null,
            "overflow": null,
            "overflow_x": null,
            "overflow_y": null,
            "padding": null,
            "right": null,
            "top": null,
            "visibility": null,
            "width": null
          }
        },
        "35fc66b954c6453abd239854d7158d7e": {
          "model_module": "@jupyter-widgets/base",
          "model_name": "LayoutModel",
          "model_module_version": "1.2.0",
          "state": {
            "_model_module": "@jupyter-widgets/base",
            "_model_module_version": "1.2.0",
            "_model_name": "LayoutModel",
            "_view_count": null,
            "_view_module": "@jupyter-widgets/base",
            "_view_module_version": "1.2.0",
            "_view_name": "LayoutView",
            "align_content": null,
            "align_items": null,
            "align_self": null,
            "border": null,
            "bottom": null,
            "display": null,
            "flex": null,
            "flex_flow": null,
            "grid_area": null,
            "grid_auto_columns": null,
            "grid_auto_flow": null,
            "grid_auto_rows": null,
            "grid_column": null,
            "grid_gap": null,
            "grid_row": null,
            "grid_template_areas": null,
            "grid_template_columns": null,
            "grid_template_rows": null,
            "height": null,
            "justify_content": null,
            "justify_items": null,
            "left": null,
            "margin": null,
            "max_height": null,
            "max_width": null,
            "min_height": null,
            "min_width": null,
            "object_fit": null,
            "object_position": null,
            "order": null,
            "overflow": null,
            "overflow_x": null,
            "overflow_y": null,
            "padding": null,
            "right": null,
            "top": null,
            "visibility": null,
            "width": null
          }
        },
        "287f4aed938747e48824a47f058f3e87": {
          "model_module": "@jupyter-widgets/controls",
          "model_name": "DescriptionStyleModel",
          "model_module_version": "1.5.0",
          "state": {
            "_model_module": "@jupyter-widgets/controls",
            "_model_module_version": "1.5.0",
            "_model_name": "DescriptionStyleModel",
            "_view_count": null,
            "_view_module": "@jupyter-widgets/base",
            "_view_module_version": "1.2.0",
            "_view_name": "StyleView",
            "description_width": ""
          }
        },
        "0d8346054cf4472f890b251e49870a64": {
          "model_module": "@jupyter-widgets/base",
          "model_name": "LayoutModel",
          "model_module_version": "1.2.0",
          "state": {
            "_model_module": "@jupyter-widgets/base",
            "_model_module_version": "1.2.0",
            "_model_name": "LayoutModel",
            "_view_count": null,
            "_view_module": "@jupyter-widgets/base",
            "_view_module_version": "1.2.0",
            "_view_name": "LayoutView",
            "align_content": null,
            "align_items": null,
            "align_self": null,
            "border": null,
            "bottom": null,
            "display": null,
            "flex": null,
            "flex_flow": null,
            "grid_area": null,
            "grid_auto_columns": null,
            "grid_auto_flow": null,
            "grid_auto_rows": null,
            "grid_column": null,
            "grid_gap": null,
            "grid_row": null,
            "grid_template_areas": null,
            "grid_template_columns": null,
            "grid_template_rows": null,
            "height": null,
            "justify_content": null,
            "justify_items": null,
            "left": null,
            "margin": null,
            "max_height": null,
            "max_width": null,
            "min_height": null,
            "min_width": null,
            "object_fit": null,
            "object_position": null,
            "order": null,
            "overflow": null,
            "overflow_x": null,
            "overflow_y": null,
            "padding": null,
            "right": null,
            "top": null,
            "visibility": null,
            "width": null
          }
        },
        "af2f1918baed45f49ce95e390892e170": {
          "model_module": "@jupyter-widgets/controls",
          "model_name": "ProgressStyleModel",
          "model_module_version": "1.5.0",
          "state": {
            "_model_module": "@jupyter-widgets/controls",
            "_model_module_version": "1.5.0",
            "_model_name": "ProgressStyleModel",
            "_view_count": null,
            "_view_module": "@jupyter-widgets/base",
            "_view_module_version": "1.2.0",
            "_view_name": "StyleView",
            "bar_color": null,
            "description_width": ""
          }
        },
        "cb3ba312d71246e7b7c31d3e1aa51945": {
          "model_module": "@jupyter-widgets/base",
          "model_name": "LayoutModel",
          "model_module_version": "1.2.0",
          "state": {
            "_model_module": "@jupyter-widgets/base",
            "_model_module_version": "1.2.0",
            "_model_name": "LayoutModel",
            "_view_count": null,
            "_view_module": "@jupyter-widgets/base",
            "_view_module_version": "1.2.0",
            "_view_name": "LayoutView",
            "align_content": null,
            "align_items": null,
            "align_self": null,
            "border": null,
            "bottom": null,
            "display": null,
            "flex": null,
            "flex_flow": null,
            "grid_area": null,
            "grid_auto_columns": null,
            "grid_auto_flow": null,
            "grid_auto_rows": null,
            "grid_column": null,
            "grid_gap": null,
            "grid_row": null,
            "grid_template_areas": null,
            "grid_template_columns": null,
            "grid_template_rows": null,
            "height": null,
            "justify_content": null,
            "justify_items": null,
            "left": null,
            "margin": null,
            "max_height": null,
            "max_width": null,
            "min_height": null,
            "min_width": null,
            "object_fit": null,
            "object_position": null,
            "order": null,
            "overflow": null,
            "overflow_x": null,
            "overflow_y": null,
            "padding": null,
            "right": null,
            "top": null,
            "visibility": null,
            "width": null
          }
        },
        "0dd1f8845584484ba9115aeaec71c57b": {
          "model_module": "@jupyter-widgets/controls",
          "model_name": "DescriptionStyleModel",
          "model_module_version": "1.5.0",
          "state": {
            "_model_module": "@jupyter-widgets/controls",
            "_model_module_version": "1.5.0",
            "_model_name": "DescriptionStyleModel",
            "_view_count": null,
            "_view_module": "@jupyter-widgets/base",
            "_view_module_version": "1.2.0",
            "_view_name": "StyleView",
            "description_width": ""
          }
        },
        "05de72b2c04f4c4e8f07208da3c927ba": {
          "model_module": "@jupyter-widgets/controls",
          "model_name": "HBoxModel",
          "model_module_version": "1.5.0",
          "state": {
            "_dom_classes": [],
            "_model_module": "@jupyter-widgets/controls",
            "_model_module_version": "1.5.0",
            "_model_name": "HBoxModel",
            "_view_count": null,
            "_view_module": "@jupyter-widgets/controls",
            "_view_module_version": "1.5.0",
            "_view_name": "HBoxView",
            "box_style": "",
            "children": [
              "IPY_MODEL_32912a8e7c5c4545a6a3a82afc54ec3b",
              "IPY_MODEL_39c724296a014691823b437e217c0919",
              "IPY_MODEL_e92a5f4c9854438ea16f208c15aa93f3"
            ],
            "layout": "IPY_MODEL_1dcb1b68f2344557af3888b0766f47fb"
          }
        },
        "32912a8e7c5c4545a6a3a82afc54ec3b": {
          "model_module": "@jupyter-widgets/controls",
          "model_name": "HTMLModel",
          "model_module_version": "1.5.0",
          "state": {
            "_dom_classes": [],
            "_model_module": "@jupyter-widgets/controls",
            "_model_module_version": "1.5.0",
            "_model_name": "HTMLModel",
            "_view_count": null,
            "_view_module": "@jupyter-widgets/controls",
            "_view_module_version": "1.5.0",
            "_view_name": "HTMLView",
            "description": "",
            "description_tooltip": null,
            "layout": "IPY_MODEL_a5b59c0d4dd841b6b9c4d91925f2a6e9",
            "placeholder": "​",
            "style": "IPY_MODEL_6e76bc84dd564c55afc544fa14f2e5e1",
            "value": "merges.txt: 100%"
          }
        },
        "39c724296a014691823b437e217c0919": {
          "model_module": "@jupyter-widgets/controls",
          "model_name": "FloatProgressModel",
          "model_module_version": "1.5.0",
          "state": {
            "_dom_classes": [],
            "_model_module": "@jupyter-widgets/controls",
            "_model_module_version": "1.5.0",
            "_model_name": "FloatProgressModel",
            "_view_count": null,
            "_view_module": "@jupyter-widgets/controls",
            "_view_module_version": "1.5.0",
            "_view_name": "ProgressView",
            "bar_style": "success",
            "description": "",
            "description_tooltip": null,
            "layout": "IPY_MODEL_259dd656f8de4bc389ed57e6f208389b",
            "max": 456318,
            "min": 0,
            "orientation": "horizontal",
            "style": "IPY_MODEL_a88c0132f4d244358a3c74cafe81f762",
            "value": 456318
          }
        },
        "e92a5f4c9854438ea16f208c15aa93f3": {
          "model_module": "@jupyter-widgets/controls",
          "model_name": "HTMLModel",
          "model_module_version": "1.5.0",
          "state": {
            "_dom_classes": [],
            "_model_module": "@jupyter-widgets/controls",
            "_model_module_version": "1.5.0",
            "_model_name": "HTMLModel",
            "_view_count": null,
            "_view_module": "@jupyter-widgets/controls",
            "_view_module_version": "1.5.0",
            "_view_name": "HTMLView",
            "description": "",
            "description_tooltip": null,
            "layout": "IPY_MODEL_faa07cf192ff42689aa97a8e7e654a9d",
            "placeholder": "​",
            "style": "IPY_MODEL_9e7ba20239084d5c8dc0c8ada52ad126",
            "value": " 456k/456k [00:00&lt;00:00, 8.43MB/s]"
          }
        },
        "1dcb1b68f2344557af3888b0766f47fb": {
          "model_module": "@jupyter-widgets/base",
          "model_name": "LayoutModel",
          "model_module_version": "1.2.0",
          "state": {
            "_model_module": "@jupyter-widgets/base",
            "_model_module_version": "1.2.0",
            "_model_name": "LayoutModel",
            "_view_count": null,
            "_view_module": "@jupyter-widgets/base",
            "_view_module_version": "1.2.0",
            "_view_name": "LayoutView",
            "align_content": null,
            "align_items": null,
            "align_self": null,
            "border": null,
            "bottom": null,
            "display": null,
            "flex": null,
            "flex_flow": null,
            "grid_area": null,
            "grid_auto_columns": null,
            "grid_auto_flow": null,
            "grid_auto_rows": null,
            "grid_column": null,
            "grid_gap": null,
            "grid_row": null,
            "grid_template_areas": null,
            "grid_template_columns": null,
            "grid_template_rows": null,
            "height": null,
            "justify_content": null,
            "justify_items": null,
            "left": null,
            "margin": null,
            "max_height": null,
            "max_width": null,
            "min_height": null,
            "min_width": null,
            "object_fit": null,
            "object_position": null,
            "order": null,
            "overflow": null,
            "overflow_x": null,
            "overflow_y": null,
            "padding": null,
            "right": null,
            "top": null,
            "visibility": null,
            "width": null
          }
        },
        "a5b59c0d4dd841b6b9c4d91925f2a6e9": {
          "model_module": "@jupyter-widgets/base",
          "model_name": "LayoutModel",
          "model_module_version": "1.2.0",
          "state": {
            "_model_module": "@jupyter-widgets/base",
            "_model_module_version": "1.2.0",
            "_model_name": "LayoutModel",
            "_view_count": null,
            "_view_module": "@jupyter-widgets/base",
            "_view_module_version": "1.2.0",
            "_view_name": "LayoutView",
            "align_content": null,
            "align_items": null,
            "align_self": null,
            "border": null,
            "bottom": null,
            "display": null,
            "flex": null,
            "flex_flow": null,
            "grid_area": null,
            "grid_auto_columns": null,
            "grid_auto_flow": null,
            "grid_auto_rows": null,
            "grid_column": null,
            "grid_gap": null,
            "grid_row": null,
            "grid_template_areas": null,
            "grid_template_columns": null,
            "grid_template_rows": null,
            "height": null,
            "justify_content": null,
            "justify_items": null,
            "left": null,
            "margin": null,
            "max_height": null,
            "max_width": null,
            "min_height": null,
            "min_width": null,
            "object_fit": null,
            "object_position": null,
            "order": null,
            "overflow": null,
            "overflow_x": null,
            "overflow_y": null,
            "padding": null,
            "right": null,
            "top": null,
            "visibility": null,
            "width": null
          }
        },
        "6e76bc84dd564c55afc544fa14f2e5e1": {
          "model_module": "@jupyter-widgets/controls",
          "model_name": "DescriptionStyleModel",
          "model_module_version": "1.5.0",
          "state": {
            "_model_module": "@jupyter-widgets/controls",
            "_model_module_version": "1.5.0",
            "_model_name": "DescriptionStyleModel",
            "_view_count": null,
            "_view_module": "@jupyter-widgets/base",
            "_view_module_version": "1.2.0",
            "_view_name": "StyleView",
            "description_width": ""
          }
        },
        "259dd656f8de4bc389ed57e6f208389b": {
          "model_module": "@jupyter-widgets/base",
          "model_name": "LayoutModel",
          "model_module_version": "1.2.0",
          "state": {
            "_model_module": "@jupyter-widgets/base",
            "_model_module_version": "1.2.0",
            "_model_name": "LayoutModel",
            "_view_count": null,
            "_view_module": "@jupyter-widgets/base",
            "_view_module_version": "1.2.0",
            "_view_name": "LayoutView",
            "align_content": null,
            "align_items": null,
            "align_self": null,
            "border": null,
            "bottom": null,
            "display": null,
            "flex": null,
            "flex_flow": null,
            "grid_area": null,
            "grid_auto_columns": null,
            "grid_auto_flow": null,
            "grid_auto_rows": null,
            "grid_column": null,
            "grid_gap": null,
            "grid_row": null,
            "grid_template_areas": null,
            "grid_template_columns": null,
            "grid_template_rows": null,
            "height": null,
            "justify_content": null,
            "justify_items": null,
            "left": null,
            "margin": null,
            "max_height": null,
            "max_width": null,
            "min_height": null,
            "min_width": null,
            "object_fit": null,
            "object_position": null,
            "order": null,
            "overflow": null,
            "overflow_x": null,
            "overflow_y": null,
            "padding": null,
            "right": null,
            "top": null,
            "visibility": null,
            "width": null
          }
        },
        "a88c0132f4d244358a3c74cafe81f762": {
          "model_module": "@jupyter-widgets/controls",
          "model_name": "ProgressStyleModel",
          "model_module_version": "1.5.0",
          "state": {
            "_model_module": "@jupyter-widgets/controls",
            "_model_module_version": "1.5.0",
            "_model_name": "ProgressStyleModel",
            "_view_count": null,
            "_view_module": "@jupyter-widgets/base",
            "_view_module_version": "1.2.0",
            "_view_name": "StyleView",
            "bar_color": null,
            "description_width": ""
          }
        },
        "faa07cf192ff42689aa97a8e7e654a9d": {
          "model_module": "@jupyter-widgets/base",
          "model_name": "LayoutModel",
          "model_module_version": "1.2.0",
          "state": {
            "_model_module": "@jupyter-widgets/base",
            "_model_module_version": "1.2.0",
            "_model_name": "LayoutModel",
            "_view_count": null,
            "_view_module": "@jupyter-widgets/base",
            "_view_module_version": "1.2.0",
            "_view_name": "LayoutView",
            "align_content": null,
            "align_items": null,
            "align_self": null,
            "border": null,
            "bottom": null,
            "display": null,
            "flex": null,
            "flex_flow": null,
            "grid_area": null,
            "grid_auto_columns": null,
            "grid_auto_flow": null,
            "grid_auto_rows": null,
            "grid_column": null,
            "grid_gap": null,
            "grid_row": null,
            "grid_template_areas": null,
            "grid_template_columns": null,
            "grid_template_rows": null,
            "height": null,
            "justify_content": null,
            "justify_items": null,
            "left": null,
            "margin": null,
            "max_height": null,
            "max_width": null,
            "min_height": null,
            "min_width": null,
            "object_fit": null,
            "object_position": null,
            "order": null,
            "overflow": null,
            "overflow_x": null,
            "overflow_y": null,
            "padding": null,
            "right": null,
            "top": null,
            "visibility": null,
            "width": null
          }
        },
        "9e7ba20239084d5c8dc0c8ada52ad126": {
          "model_module": "@jupyter-widgets/controls",
          "model_name": "DescriptionStyleModel",
          "model_module_version": "1.5.0",
          "state": {
            "_model_module": "@jupyter-widgets/controls",
            "_model_module_version": "1.5.0",
            "_model_name": "DescriptionStyleModel",
            "_view_count": null,
            "_view_module": "@jupyter-widgets/base",
            "_view_module_version": "1.2.0",
            "_view_name": "StyleView",
            "description_width": ""
          }
        },
        "9711acbfbacc41c68d93d65c9cac898b": {
          "model_module": "@jupyter-widgets/controls",
          "model_name": "HBoxModel",
          "model_module_version": "1.5.0",
          "state": {
            "_dom_classes": [],
            "_model_module": "@jupyter-widgets/controls",
            "_model_module_version": "1.5.0",
            "_model_name": "HBoxModel",
            "_view_count": null,
            "_view_module": "@jupyter-widgets/controls",
            "_view_module_version": "1.5.0",
            "_view_name": "HBoxView",
            "box_style": "",
            "children": [
              "IPY_MODEL_870c32c743e74c0eafe15484e34fdc50",
              "IPY_MODEL_10642283b46448129b3c0b755fa2f4c6",
              "IPY_MODEL_cde692d4e13f40f6b915f753ea3c1f76"
            ],
            "layout": "IPY_MODEL_5c97e37025584c46845f6d836611f701"
          }
        },
        "870c32c743e74c0eafe15484e34fdc50": {
          "model_module": "@jupyter-widgets/controls",
          "model_name": "HTMLModel",
          "model_module_version": "1.5.0",
          "state": {
            "_dom_classes": [],
            "_model_module": "@jupyter-widgets/controls",
            "_model_module_version": "1.5.0",
            "_model_name": "HTMLModel",
            "_view_count": null,
            "_view_module": "@jupyter-widgets/controls",
            "_view_module_version": "1.5.0",
            "_view_name": "HTMLView",
            "description": "",
            "description_tooltip": null,
            "layout": "IPY_MODEL_5d6159d08a9248a382d347d5225a69c1",
            "placeholder": "​",
            "style": "IPY_MODEL_d1ac93a609f74706bc133186c65b0d1b",
            "value": "tokenizer.json: 100%"
          }
        },
        "10642283b46448129b3c0b755fa2f4c6": {
          "model_module": "@jupyter-widgets/controls",
          "model_name": "FloatProgressModel",
          "model_module_version": "1.5.0",
          "state": {
            "_dom_classes": [],
            "_model_module": "@jupyter-widgets/controls",
            "_model_module_version": "1.5.0",
            "_model_name": "FloatProgressModel",
            "_view_count": null,
            "_view_module": "@jupyter-widgets/controls",
            "_view_module_version": "1.5.0",
            "_view_name": "ProgressView",
            "bar_style": "success",
            "description": "",
            "description_tooltip": null,
            "layout": "IPY_MODEL_62ade7cfe2e24d1eb3e9b20b03c6c758",
            "max": 1355863,
            "min": 0,
            "orientation": "horizontal",
            "style": "IPY_MODEL_c36545be4f8f48fcae0bd33bd2292c10",
            "value": 1355863
          }
        },
        "cde692d4e13f40f6b915f753ea3c1f76": {
          "model_module": "@jupyter-widgets/controls",
          "model_name": "HTMLModel",
          "model_module_version": "1.5.0",
          "state": {
            "_dom_classes": [],
            "_model_module": "@jupyter-widgets/controls",
            "_model_module_version": "1.5.0",
            "_model_name": "HTMLModel",
            "_view_count": null,
            "_view_module": "@jupyter-widgets/controls",
            "_view_module_version": "1.5.0",
            "_view_name": "HTMLView",
            "description": "",
            "description_tooltip": null,
            "layout": "IPY_MODEL_ebb391acc3bd4ab499fcaf0ce32c6559",
            "placeholder": "​",
            "style": "IPY_MODEL_ebf3fe5b60fa48478af89060d3372f35",
            "value": " 1.36M/1.36M [00:00&lt;00:00, 2.77MB/s]"
          }
        },
        "5c97e37025584c46845f6d836611f701": {
          "model_module": "@jupyter-widgets/base",
          "model_name": "LayoutModel",
          "model_module_version": "1.2.0",
          "state": {
            "_model_module": "@jupyter-widgets/base",
            "_model_module_version": "1.2.0",
            "_model_name": "LayoutModel",
            "_view_count": null,
            "_view_module": "@jupyter-widgets/base",
            "_view_module_version": "1.2.0",
            "_view_name": "LayoutView",
            "align_content": null,
            "align_items": null,
            "align_self": null,
            "border": null,
            "bottom": null,
            "display": null,
            "flex": null,
            "flex_flow": null,
            "grid_area": null,
            "grid_auto_columns": null,
            "grid_auto_flow": null,
            "grid_auto_rows": null,
            "grid_column": null,
            "grid_gap": null,
            "grid_row": null,
            "grid_template_areas": null,
            "grid_template_columns": null,
            "grid_template_rows": null,
            "height": null,
            "justify_content": null,
            "justify_items": null,
            "left": null,
            "margin": null,
            "max_height": null,
            "max_width": null,
            "min_height": null,
            "min_width": null,
            "object_fit": null,
            "object_position": null,
            "order": null,
            "overflow": null,
            "overflow_x": null,
            "overflow_y": null,
            "padding": null,
            "right": null,
            "top": null,
            "visibility": null,
            "width": null
          }
        },
        "5d6159d08a9248a382d347d5225a69c1": {
          "model_module": "@jupyter-widgets/base",
          "model_name": "LayoutModel",
          "model_module_version": "1.2.0",
          "state": {
            "_model_module": "@jupyter-widgets/base",
            "_model_module_version": "1.2.0",
            "_model_name": "LayoutModel",
            "_view_count": null,
            "_view_module": "@jupyter-widgets/base",
            "_view_module_version": "1.2.0",
            "_view_name": "LayoutView",
            "align_content": null,
            "align_items": null,
            "align_self": null,
            "border": null,
            "bottom": null,
            "display": null,
            "flex": null,
            "flex_flow": null,
            "grid_area": null,
            "grid_auto_columns": null,
            "grid_auto_flow": null,
            "grid_auto_rows": null,
            "grid_column": null,
            "grid_gap": null,
            "grid_row": null,
            "grid_template_areas": null,
            "grid_template_columns": null,
            "grid_template_rows": null,
            "height": null,
            "justify_content": null,
            "justify_items": null,
            "left": null,
            "margin": null,
            "max_height": null,
            "max_width": null,
            "min_height": null,
            "min_width": null,
            "object_fit": null,
            "object_position": null,
            "order": null,
            "overflow": null,
            "overflow_x": null,
            "overflow_y": null,
            "padding": null,
            "right": null,
            "top": null,
            "visibility": null,
            "width": null
          }
        },
        "d1ac93a609f74706bc133186c65b0d1b": {
          "model_module": "@jupyter-widgets/controls",
          "model_name": "DescriptionStyleModel",
          "model_module_version": "1.5.0",
          "state": {
            "_model_module": "@jupyter-widgets/controls",
            "_model_module_version": "1.5.0",
            "_model_name": "DescriptionStyleModel",
            "_view_count": null,
            "_view_module": "@jupyter-widgets/base",
            "_view_module_version": "1.2.0",
            "_view_name": "StyleView",
            "description_width": ""
          }
        },
        "62ade7cfe2e24d1eb3e9b20b03c6c758": {
          "model_module": "@jupyter-widgets/base",
          "model_name": "LayoutModel",
          "model_module_version": "1.2.0",
          "state": {
            "_model_module": "@jupyter-widgets/base",
            "_model_module_version": "1.2.0",
            "_model_name": "LayoutModel",
            "_view_count": null,
            "_view_module": "@jupyter-widgets/base",
            "_view_module_version": "1.2.0",
            "_view_name": "LayoutView",
            "align_content": null,
            "align_items": null,
            "align_self": null,
            "border": null,
            "bottom": null,
            "display": null,
            "flex": null,
            "flex_flow": null,
            "grid_area": null,
            "grid_auto_columns": null,
            "grid_auto_flow": null,
            "grid_auto_rows": null,
            "grid_column": null,
            "grid_gap": null,
            "grid_row": null,
            "grid_template_areas": null,
            "grid_template_columns": null,
            "grid_template_rows": null,
            "height": null,
            "justify_content": null,
            "justify_items": null,
            "left": null,
            "margin": null,
            "max_height": null,
            "max_width": null,
            "min_height": null,
            "min_width": null,
            "object_fit": null,
            "object_position": null,
            "order": null,
            "overflow": null,
            "overflow_x": null,
            "overflow_y": null,
            "padding": null,
            "right": null,
            "top": null,
            "visibility": null,
            "width": null
          }
        },
        "c36545be4f8f48fcae0bd33bd2292c10": {
          "model_module": "@jupyter-widgets/controls",
          "model_name": "ProgressStyleModel",
          "model_module_version": "1.5.0",
          "state": {
            "_model_module": "@jupyter-widgets/controls",
            "_model_module_version": "1.5.0",
            "_model_name": "ProgressStyleModel",
            "_view_count": null,
            "_view_module": "@jupyter-widgets/base",
            "_view_module_version": "1.2.0",
            "_view_name": "StyleView",
            "bar_color": null,
            "description_width": ""
          }
        },
        "ebb391acc3bd4ab499fcaf0ce32c6559": {
          "model_module": "@jupyter-widgets/base",
          "model_name": "LayoutModel",
          "model_module_version": "1.2.0",
          "state": {
            "_model_module": "@jupyter-widgets/base",
            "_model_module_version": "1.2.0",
            "_model_name": "LayoutModel",
            "_view_count": null,
            "_view_module": "@jupyter-widgets/base",
            "_view_module_version": "1.2.0",
            "_view_name": "LayoutView",
            "align_content": null,
            "align_items": null,
            "align_self": null,
            "border": null,
            "bottom": null,
            "display": null,
            "flex": null,
            "flex_flow": null,
            "grid_area": null,
            "grid_auto_columns": null,
            "grid_auto_flow": null,
            "grid_auto_rows": null,
            "grid_column": null,
            "grid_gap": null,
            "grid_row": null,
            "grid_template_areas": null,
            "grid_template_columns": null,
            "grid_template_rows": null,
            "height": null,
            "justify_content": null,
            "justify_items": null,
            "left": null,
            "margin": null,
            "max_height": null,
            "max_width": null,
            "min_height": null,
            "min_width": null,
            "object_fit": null,
            "object_position": null,
            "order": null,
            "overflow": null,
            "overflow_x": null,
            "overflow_y": null,
            "padding": null,
            "right": null,
            "top": null,
            "visibility": null,
            "width": null
          }
        },
        "ebf3fe5b60fa48478af89060d3372f35": {
          "model_module": "@jupyter-widgets/controls",
          "model_name": "DescriptionStyleModel",
          "model_module_version": "1.5.0",
          "state": {
            "_model_module": "@jupyter-widgets/controls",
            "_model_module_version": "1.5.0",
            "_model_name": "DescriptionStyleModel",
            "_view_count": null,
            "_view_module": "@jupyter-widgets/base",
            "_view_module_version": "1.2.0",
            "_view_name": "StyleView",
            "description_width": ""
          }
        },
        "c5af184f17034840a30fd5f4b85dbfc7": {
          "model_module": "@jupyter-widgets/controls",
          "model_name": "HBoxModel",
          "model_module_version": "1.5.0",
          "state": {
            "_dom_classes": [],
            "_model_module": "@jupyter-widgets/controls",
            "_model_module_version": "1.5.0",
            "_model_name": "HBoxModel",
            "_view_count": null,
            "_view_module": "@jupyter-widgets/controls",
            "_view_module_version": "1.5.0",
            "_view_name": "HBoxView",
            "box_style": "",
            "children": [
              "IPY_MODEL_fa7120cd1f13443e972d5b30668a17e1",
              "IPY_MODEL_9f47e34b96b4425bbbd14f8fec4a4728",
              "IPY_MODEL_8ac29db31d77427790b8d7d7cf47fcb1"
            ],
            "layout": "IPY_MODEL_bd3784730a40494fb9d8e9092025fa1c"
          }
        },
        "fa7120cd1f13443e972d5b30668a17e1": {
          "model_module": "@jupyter-widgets/controls",
          "model_name": "HTMLModel",
          "model_module_version": "1.5.0",
          "state": {
            "_dom_classes": [],
            "_model_module": "@jupyter-widgets/controls",
            "_model_module_version": "1.5.0",
            "_model_name": "HTMLModel",
            "_view_count": null,
            "_view_module": "@jupyter-widgets/controls",
            "_view_module_version": "1.5.0",
            "_view_name": "HTMLView",
            "description": "",
            "description_tooltip": null,
            "layout": "IPY_MODEL_6e791f4c11e24355b289db6094e56d8c",
            "placeholder": "​",
            "style": "IPY_MODEL_9bf43f0d16214c1099786bf5241fe3be",
            "value": "model.safetensors: 100%"
          }
        },
        "9f47e34b96b4425bbbd14f8fec4a4728": {
          "model_module": "@jupyter-widgets/controls",
          "model_name": "FloatProgressModel",
          "model_module_version": "1.5.0",
          "state": {
            "_dom_classes": [],
            "_model_module": "@jupyter-widgets/controls",
            "_model_module_version": "1.5.0",
            "_model_name": "FloatProgressModel",
            "_view_count": null,
            "_view_module": "@jupyter-widgets/controls",
            "_view_module_version": "1.5.0",
            "_view_name": "ProgressView",
            "bar_style": "success",
            "description": "",
            "description_tooltip": null,
            "layout": "IPY_MODEL_0a792aea05e54182b1aac64d7c352b08",
            "max": 331055963,
            "min": 0,
            "orientation": "horizontal",
            "style": "IPY_MODEL_eea189beec414393a7b995d93c8be56c",
            "value": 331055963
          }
        },
        "8ac29db31d77427790b8d7d7cf47fcb1": {
          "model_module": "@jupyter-widgets/controls",
          "model_name": "HTMLModel",
          "model_module_version": "1.5.0",
          "state": {
            "_dom_classes": [],
            "_model_module": "@jupyter-widgets/controls",
            "_model_module_version": "1.5.0",
            "_model_name": "HTMLModel",
            "_view_count": null,
            "_view_module": "@jupyter-widgets/controls",
            "_view_module_version": "1.5.0",
            "_view_name": "HTMLView",
            "description": "",
            "description_tooltip": null,
            "layout": "IPY_MODEL_c23ddaf4abb647989d2368d222a8281b",
            "placeholder": "​",
            "style": "IPY_MODEL_6a99b452a02d4c549f7770830889b885",
            "value": " 331M/331M [00:02&lt;00:00, 156MB/s]"
          }
        },
        "bd3784730a40494fb9d8e9092025fa1c": {
          "model_module": "@jupyter-widgets/base",
          "model_name": "LayoutModel",
          "model_module_version": "1.2.0",
          "state": {
            "_model_module": "@jupyter-widgets/base",
            "_model_module_version": "1.2.0",
            "_model_name": "LayoutModel",
            "_view_count": null,
            "_view_module": "@jupyter-widgets/base",
            "_view_module_version": "1.2.0",
            "_view_name": "LayoutView",
            "align_content": null,
            "align_items": null,
            "align_self": null,
            "border": null,
            "bottom": null,
            "display": null,
            "flex": null,
            "flex_flow": null,
            "grid_area": null,
            "grid_auto_columns": null,
            "grid_auto_flow": null,
            "grid_auto_rows": null,
            "grid_column": null,
            "grid_gap": null,
            "grid_row": null,
            "grid_template_areas": null,
            "grid_template_columns": null,
            "grid_template_rows": null,
            "height": null,
            "justify_content": null,
            "justify_items": null,
            "left": null,
            "margin": null,
            "max_height": null,
            "max_width": null,
            "min_height": null,
            "min_width": null,
            "object_fit": null,
            "object_position": null,
            "order": null,
            "overflow": null,
            "overflow_x": null,
            "overflow_y": null,
            "padding": null,
            "right": null,
            "top": null,
            "visibility": null,
            "width": null
          }
        },
        "6e791f4c11e24355b289db6094e56d8c": {
          "model_module": "@jupyter-widgets/base",
          "model_name": "LayoutModel",
          "model_module_version": "1.2.0",
          "state": {
            "_model_module": "@jupyter-widgets/base",
            "_model_module_version": "1.2.0",
            "_model_name": "LayoutModel",
            "_view_count": null,
            "_view_module": "@jupyter-widgets/base",
            "_view_module_version": "1.2.0",
            "_view_name": "LayoutView",
            "align_content": null,
            "align_items": null,
            "align_self": null,
            "border": null,
            "bottom": null,
            "display": null,
            "flex": null,
            "flex_flow": null,
            "grid_area": null,
            "grid_auto_columns": null,
            "grid_auto_flow": null,
            "grid_auto_rows": null,
            "grid_column": null,
            "grid_gap": null,
            "grid_row": null,
            "grid_template_areas": null,
            "grid_template_columns": null,
            "grid_template_rows": null,
            "height": null,
            "justify_content": null,
            "justify_items": null,
            "left": null,
            "margin": null,
            "max_height": null,
            "max_width": null,
            "min_height": null,
            "min_width": null,
            "object_fit": null,
            "object_position": null,
            "order": null,
            "overflow": null,
            "overflow_x": null,
            "overflow_y": null,
            "padding": null,
            "right": null,
            "top": null,
            "visibility": null,
            "width": null
          }
        },
        "9bf43f0d16214c1099786bf5241fe3be": {
          "model_module": "@jupyter-widgets/controls",
          "model_name": "DescriptionStyleModel",
          "model_module_version": "1.5.0",
          "state": {
            "_model_module": "@jupyter-widgets/controls",
            "_model_module_version": "1.5.0",
            "_model_name": "DescriptionStyleModel",
            "_view_count": null,
            "_view_module": "@jupyter-widgets/base",
            "_view_module_version": "1.2.0",
            "_view_name": "StyleView",
            "description_width": ""
          }
        },
        "0a792aea05e54182b1aac64d7c352b08": {
          "model_module": "@jupyter-widgets/base",
          "model_name": "LayoutModel",
          "model_module_version": "1.2.0",
          "state": {
            "_model_module": "@jupyter-widgets/base",
            "_model_module_version": "1.2.0",
            "_model_name": "LayoutModel",
            "_view_count": null,
            "_view_module": "@jupyter-widgets/base",
            "_view_module_version": "1.2.0",
            "_view_name": "LayoutView",
            "align_content": null,
            "align_items": null,
            "align_self": null,
            "border": null,
            "bottom": null,
            "display": null,
            "flex": null,
            "flex_flow": null,
            "grid_area": null,
            "grid_auto_columns": null,
            "grid_auto_flow": null,
            "grid_auto_rows": null,
            "grid_column": null,
            "grid_gap": null,
            "grid_row": null,
            "grid_template_areas": null,
            "grid_template_columns": null,
            "grid_template_rows": null,
            "height": null,
            "justify_content": null,
            "justify_items": null,
            "left": null,
            "margin": null,
            "max_height": null,
            "max_width": null,
            "min_height": null,
            "min_width": null,
            "object_fit": null,
            "object_position": null,
            "order": null,
            "overflow": null,
            "overflow_x": null,
            "overflow_y": null,
            "padding": null,
            "right": null,
            "top": null,
            "visibility": null,
            "width": null
          }
        },
        "eea189beec414393a7b995d93c8be56c": {
          "model_module": "@jupyter-widgets/controls",
          "model_name": "ProgressStyleModel",
          "model_module_version": "1.5.0",
          "state": {
            "_model_module": "@jupyter-widgets/controls",
            "_model_module_version": "1.5.0",
            "_model_name": "ProgressStyleModel",
            "_view_count": null,
            "_view_module": "@jupyter-widgets/base",
            "_view_module_version": "1.2.0",
            "_view_name": "StyleView",
            "bar_color": null,
            "description_width": ""
          }
        },
        "c23ddaf4abb647989d2368d222a8281b": {
          "model_module": "@jupyter-widgets/base",
          "model_name": "LayoutModel",
          "model_module_version": "1.2.0",
          "state": {
            "_model_module": "@jupyter-widgets/base",
            "_model_module_version": "1.2.0",
            "_model_name": "LayoutModel",
            "_view_count": null,
            "_view_module": "@jupyter-widgets/base",
            "_view_module_version": "1.2.0",
            "_view_name": "LayoutView",
            "align_content": null,
            "align_items": null,
            "align_self": null,
            "border": null,
            "bottom": null,
            "display": null,
            "flex": null,
            "flex_flow": null,
            "grid_area": null,
            "grid_auto_columns": null,
            "grid_auto_flow": null,
            "grid_auto_rows": null,
            "grid_column": null,
            "grid_gap": null,
            "grid_row": null,
            "grid_template_areas": null,
            "grid_template_columns": null,
            "grid_template_rows": null,
            "height": null,
            "justify_content": null,
            "justify_items": null,
            "left": null,
            "margin": null,
            "max_height": null,
            "max_width": null,
            "min_height": null,
            "min_width": null,
            "object_fit": null,
            "object_position": null,
            "order": null,
            "overflow": null,
            "overflow_x": null,
            "overflow_y": null,
            "padding": null,
            "right": null,
            "top": null,
            "visibility": null,
            "width": null
          }
        },
        "6a99b452a02d4c549f7770830889b885": {
          "model_module": "@jupyter-widgets/controls",
          "model_name": "DescriptionStyleModel",
          "model_module_version": "1.5.0",
          "state": {
            "_model_module": "@jupyter-widgets/controls",
            "_model_module_version": "1.5.0",
            "_model_name": "DescriptionStyleModel",
            "_view_count": null,
            "_view_module": "@jupyter-widgets/base",
            "_view_module_version": "1.2.0",
            "_view_name": "StyleView",
            "description_width": ""
          }
        },
        "fab17ae47bee4008a14d988ae92f5fc1": {
          "model_module": "@jupyter-widgets/controls",
          "model_name": "HBoxModel",
          "model_module_version": "1.5.0",
          "state": {
            "_dom_classes": [],
            "_model_module": "@jupyter-widgets/controls",
            "_model_module_version": "1.5.0",
            "_model_name": "HBoxModel",
            "_view_count": null,
            "_view_module": "@jupyter-widgets/controls",
            "_view_module_version": "1.5.0",
            "_view_name": "HBoxView",
            "box_style": "",
            "children": [
              "IPY_MODEL_47b0e1f4b833418ba6f031b1b93fa839",
              "IPY_MODEL_6cbb72dcf992488bb925ed541be492c0",
              "IPY_MODEL_2bfb28befc6d4209847ea3dc7780ff07"
            ],
            "layout": "IPY_MODEL_64831da67e224e99a3c0e9776c42f829"
          }
        },
        "47b0e1f4b833418ba6f031b1b93fa839": {
          "model_module": "@jupyter-widgets/controls",
          "model_name": "HTMLModel",
          "model_module_version": "1.5.0",
          "state": {
            "_dom_classes": [],
            "_model_module": "@jupyter-widgets/controls",
            "_model_module_version": "1.5.0",
            "_model_name": "HTMLModel",
            "_view_count": null,
            "_view_module": "@jupyter-widgets/controls",
            "_view_module_version": "1.5.0",
            "_view_name": "HTMLView",
            "description": "",
            "description_tooltip": null,
            "layout": "IPY_MODEL_13ddf5b708a94e2ba658922bfd8fd4d5",
            "placeholder": "​",
            "style": "IPY_MODEL_53b850082ca74a839b34b8d2e1926fe4",
            "value": "tokenizer_config.json: 100%"
          }
        },
        "6cbb72dcf992488bb925ed541be492c0": {
          "model_module": "@jupyter-widgets/controls",
          "model_name": "FloatProgressModel",
          "model_module_version": "1.5.0",
          "state": {
            "_dom_classes": [],
            "_model_module": "@jupyter-widgets/controls",
            "_model_module_version": "1.5.0",
            "_model_name": "FloatProgressModel",
            "_view_count": null,
            "_view_module": "@jupyter-widgets/controls",
            "_view_module_version": "1.5.0",
            "_view_name": "ProgressView",
            "bar_style": "success",
            "description": "",
            "description_tooltip": null,
            "layout": "IPY_MODEL_5478d85698ea4a2483016988b7047dc4",
            "max": 28,
            "min": 0,
            "orientation": "horizontal",
            "style": "IPY_MODEL_01689cad19a04429a7c2bc4f1ce1ec6d",
            "value": 28
          }
        },
        "2bfb28befc6d4209847ea3dc7780ff07": {
          "model_module": "@jupyter-widgets/controls",
          "model_name": "HTMLModel",
          "model_module_version": "1.5.0",
          "state": {
            "_dom_classes": [],
            "_model_module": "@jupyter-widgets/controls",
            "_model_module_version": "1.5.0",
            "_model_name": "HTMLModel",
            "_view_count": null,
            "_view_module": "@jupyter-widgets/controls",
            "_view_module_version": "1.5.0",
            "_view_name": "HTMLView",
            "description": "",
            "description_tooltip": null,
            "layout": "IPY_MODEL_0bf0a66ec27a443e8944f4cf875b972d",
            "placeholder": "​",
            "style": "IPY_MODEL_9f0d947156f04d51ae44e268d0da3bcd",
            "value": " 28.0/28.0 [00:00&lt;00:00, 755B/s]"
          }
        },
        "64831da67e224e99a3c0e9776c42f829": {
          "model_module": "@jupyter-widgets/base",
          "model_name": "LayoutModel",
          "model_module_version": "1.2.0",
          "state": {
            "_model_module": "@jupyter-widgets/base",
            "_model_module_version": "1.2.0",
            "_model_name": "LayoutModel",
            "_view_count": null,
            "_view_module": "@jupyter-widgets/base",
            "_view_module_version": "1.2.0",
            "_view_name": "LayoutView",
            "align_content": null,
            "align_items": null,
            "align_self": null,
            "border": null,
            "bottom": null,
            "display": null,
            "flex": null,
            "flex_flow": null,
            "grid_area": null,
            "grid_auto_columns": null,
            "grid_auto_flow": null,
            "grid_auto_rows": null,
            "grid_column": null,
            "grid_gap": null,
            "grid_row": null,
            "grid_template_areas": null,
            "grid_template_columns": null,
            "grid_template_rows": null,
            "height": null,
            "justify_content": null,
            "justify_items": null,
            "left": null,
            "margin": null,
            "max_height": null,
            "max_width": null,
            "min_height": null,
            "min_width": null,
            "object_fit": null,
            "object_position": null,
            "order": null,
            "overflow": null,
            "overflow_x": null,
            "overflow_y": null,
            "padding": null,
            "right": null,
            "top": null,
            "visibility": null,
            "width": null
          }
        },
        "13ddf5b708a94e2ba658922bfd8fd4d5": {
          "model_module": "@jupyter-widgets/base",
          "model_name": "LayoutModel",
          "model_module_version": "1.2.0",
          "state": {
            "_model_module": "@jupyter-widgets/base",
            "_model_module_version": "1.2.0",
            "_model_name": "LayoutModel",
            "_view_count": null,
            "_view_module": "@jupyter-widgets/base",
            "_view_module_version": "1.2.0",
            "_view_name": "LayoutView",
            "align_content": null,
            "align_items": null,
            "align_self": null,
            "border": null,
            "bottom": null,
            "display": null,
            "flex": null,
            "flex_flow": null,
            "grid_area": null,
            "grid_auto_columns": null,
            "grid_auto_flow": null,
            "grid_auto_rows": null,
            "grid_column": null,
            "grid_gap": null,
            "grid_row": null,
            "grid_template_areas": null,
            "grid_template_columns": null,
            "grid_template_rows": null,
            "height": null,
            "justify_content": null,
            "justify_items": null,
            "left": null,
            "margin": null,
            "max_height": null,
            "max_width": null,
            "min_height": null,
            "min_width": null,
            "object_fit": null,
            "object_position": null,
            "order": null,
            "overflow": null,
            "overflow_x": null,
            "overflow_y": null,
            "padding": null,
            "right": null,
            "top": null,
            "visibility": null,
            "width": null
          }
        },
        "53b850082ca74a839b34b8d2e1926fe4": {
          "model_module": "@jupyter-widgets/controls",
          "model_name": "DescriptionStyleModel",
          "model_module_version": "1.5.0",
          "state": {
            "_model_module": "@jupyter-widgets/controls",
            "_model_module_version": "1.5.0",
            "_model_name": "DescriptionStyleModel",
            "_view_count": null,
            "_view_module": "@jupyter-widgets/base",
            "_view_module_version": "1.2.0",
            "_view_name": "StyleView",
            "description_width": ""
          }
        },
        "5478d85698ea4a2483016988b7047dc4": {
          "model_module": "@jupyter-widgets/base",
          "model_name": "LayoutModel",
          "model_module_version": "1.2.0",
          "state": {
            "_model_module": "@jupyter-widgets/base",
            "_model_module_version": "1.2.0",
            "_model_name": "LayoutModel",
            "_view_count": null,
            "_view_module": "@jupyter-widgets/base",
            "_view_module_version": "1.2.0",
            "_view_name": "LayoutView",
            "align_content": null,
            "align_items": null,
            "align_self": null,
            "border": null,
            "bottom": null,
            "display": null,
            "flex": null,
            "flex_flow": null,
            "grid_area": null,
            "grid_auto_columns": null,
            "grid_auto_flow": null,
            "grid_auto_rows": null,
            "grid_column": null,
            "grid_gap": null,
            "grid_row": null,
            "grid_template_areas": null,
            "grid_template_columns": null,
            "grid_template_rows": null,
            "height": null,
            "justify_content": null,
            "justify_items": null,
            "left": null,
            "margin": null,
            "max_height": null,
            "max_width": null,
            "min_height": null,
            "min_width": null,
            "object_fit": null,
            "object_position": null,
            "order": null,
            "overflow": null,
            "overflow_x": null,
            "overflow_y": null,
            "padding": null,
            "right": null,
            "top": null,
            "visibility": null,
            "width": null
          }
        },
        "01689cad19a04429a7c2bc4f1ce1ec6d": {
          "model_module": "@jupyter-widgets/controls",
          "model_name": "ProgressStyleModel",
          "model_module_version": "1.5.0",
          "state": {
            "_model_module": "@jupyter-widgets/controls",
            "_model_module_version": "1.5.0",
            "_model_name": "ProgressStyleModel",
            "_view_count": null,
            "_view_module": "@jupyter-widgets/base",
            "_view_module_version": "1.2.0",
            "_view_name": "StyleView",
            "bar_color": null,
            "description_width": ""
          }
        },
        "0bf0a66ec27a443e8944f4cf875b972d": {
          "model_module": "@jupyter-widgets/base",
          "model_name": "LayoutModel",
          "model_module_version": "1.2.0",
          "state": {
            "_model_module": "@jupyter-widgets/base",
            "_model_module_version": "1.2.0",
            "_model_name": "LayoutModel",
            "_view_count": null,
            "_view_module": "@jupyter-widgets/base",
            "_view_module_version": "1.2.0",
            "_view_name": "LayoutView",
            "align_content": null,
            "align_items": null,
            "align_self": null,
            "border": null,
            "bottom": null,
            "display": null,
            "flex": null,
            "flex_flow": null,
            "grid_area": null,
            "grid_auto_columns": null,
            "grid_auto_flow": null,
            "grid_auto_rows": null,
            "grid_column": null,
            "grid_gap": null,
            "grid_row": null,
            "grid_template_areas": null,
            "grid_template_columns": null,
            "grid_template_rows": null,
            "height": null,
            "justify_content": null,
            "justify_items": null,
            "left": null,
            "margin": null,
            "max_height": null,
            "max_width": null,
            "min_height": null,
            "min_width": null,
            "object_fit": null,
            "object_position": null,
            "order": null,
            "overflow": null,
            "overflow_x": null,
            "overflow_y": null,
            "padding": null,
            "right": null,
            "top": null,
            "visibility": null,
            "width": null
          }
        },
        "9f0d947156f04d51ae44e268d0da3bcd": {
          "model_module": "@jupyter-widgets/controls",
          "model_name": "DescriptionStyleModel",
          "model_module_version": "1.5.0",
          "state": {
            "_model_module": "@jupyter-widgets/controls",
            "_model_module_version": "1.5.0",
            "_model_name": "DescriptionStyleModel",
            "_view_count": null,
            "_view_module": "@jupyter-widgets/base",
            "_view_module_version": "1.2.0",
            "_view_name": "StyleView",
            "description_width": ""
          }
        },
        "d02a8c1706704679a5669bf52139214c": {
          "model_module": "@jupyter-widgets/controls",
          "model_name": "HBoxModel",
          "model_module_version": "1.5.0",
          "state": {
            "_dom_classes": [],
            "_model_module": "@jupyter-widgets/controls",
            "_model_module_version": "1.5.0",
            "_model_name": "HBoxModel",
            "_view_count": null,
            "_view_module": "@jupyter-widgets/controls",
            "_view_module_version": "1.5.0",
            "_view_name": "HBoxView",
            "box_style": "",
            "children": [
              "IPY_MODEL_7ff242a179374df8b5db17d3219984da",
              "IPY_MODEL_65b5b267361a4a5a8030b94fbbcbb0e0",
              "IPY_MODEL_284f0254503e44ee81bf55ecb50f1214"
            ],
            "layout": "IPY_MODEL_f53179e1b688444d86c696d952f22aed"
          }
        },
        "7ff242a179374df8b5db17d3219984da": {
          "model_module": "@jupyter-widgets/controls",
          "model_name": "HTMLModel",
          "model_module_version": "1.5.0",
          "state": {
            "_dom_classes": [],
            "_model_module": "@jupyter-widgets/controls",
            "_model_module_version": "1.5.0",
            "_model_name": "HTMLModel",
            "_view_count": null,
            "_view_module": "@jupyter-widgets/controls",
            "_view_module_version": "1.5.0",
            "_view_name": "HTMLView",
            "description": "",
            "description_tooltip": null,
            "layout": "IPY_MODEL_1f91ada67ba74968abe08ab8549e599b",
            "placeholder": "​",
            "style": "IPY_MODEL_5fa288efc8cb44188b178d8f9812dffd",
            "value": "vocab.txt: 100%"
          }
        },
        "65b5b267361a4a5a8030b94fbbcbb0e0": {
          "model_module": "@jupyter-widgets/controls",
          "model_name": "FloatProgressModel",
          "model_module_version": "1.5.0",
          "state": {
            "_dom_classes": [],
            "_model_module": "@jupyter-widgets/controls",
            "_model_module_version": "1.5.0",
            "_model_name": "FloatProgressModel",
            "_view_count": null,
            "_view_module": "@jupyter-widgets/controls",
            "_view_module_version": "1.5.0",
            "_view_name": "ProgressView",
            "bar_style": "success",
            "description": "",
            "description_tooltip": null,
            "layout": "IPY_MODEL_9baa2a5931ce4a619c4a3b7202a7887d",
            "max": 231508,
            "min": 0,
            "orientation": "horizontal",
            "style": "IPY_MODEL_28fbee25d6fb4987bdc9d1ba2b7284fb",
            "value": 231508
          }
        },
        "284f0254503e44ee81bf55ecb50f1214": {
          "model_module": "@jupyter-widgets/controls",
          "model_name": "HTMLModel",
          "model_module_version": "1.5.0",
          "state": {
            "_dom_classes": [],
            "_model_module": "@jupyter-widgets/controls",
            "_model_module_version": "1.5.0",
            "_model_name": "HTMLModel",
            "_view_count": null,
            "_view_module": "@jupyter-widgets/controls",
            "_view_module_version": "1.5.0",
            "_view_name": "HTMLView",
            "description": "",
            "description_tooltip": null,
            "layout": "IPY_MODEL_62fe3e05797e422782bed53bf666bd31",
            "placeholder": "​",
            "style": "IPY_MODEL_2ae0e40e7d3c427db7071a7692b3c739",
            "value": " 232k/232k [00:00&lt;00:00, 4.48MB/s]"
          }
        },
        "f53179e1b688444d86c696d952f22aed": {
          "model_module": "@jupyter-widgets/base",
          "model_name": "LayoutModel",
          "model_module_version": "1.2.0",
          "state": {
            "_model_module": "@jupyter-widgets/base",
            "_model_module_version": "1.2.0",
            "_model_name": "LayoutModel",
            "_view_count": null,
            "_view_module": "@jupyter-widgets/base",
            "_view_module_version": "1.2.0",
            "_view_name": "LayoutView",
            "align_content": null,
            "align_items": null,
            "align_self": null,
            "border": null,
            "bottom": null,
            "display": null,
            "flex": null,
            "flex_flow": null,
            "grid_area": null,
            "grid_auto_columns": null,
            "grid_auto_flow": null,
            "grid_auto_rows": null,
            "grid_column": null,
            "grid_gap": null,
            "grid_row": null,
            "grid_template_areas": null,
            "grid_template_columns": null,
            "grid_template_rows": null,
            "height": null,
            "justify_content": null,
            "justify_items": null,
            "left": null,
            "margin": null,
            "max_height": null,
            "max_width": null,
            "min_height": null,
            "min_width": null,
            "object_fit": null,
            "object_position": null,
            "order": null,
            "overflow": null,
            "overflow_x": null,
            "overflow_y": null,
            "padding": null,
            "right": null,
            "top": null,
            "visibility": null,
            "width": null
          }
        },
        "1f91ada67ba74968abe08ab8549e599b": {
          "model_module": "@jupyter-widgets/base",
          "model_name": "LayoutModel",
          "model_module_version": "1.2.0",
          "state": {
            "_model_module": "@jupyter-widgets/base",
            "_model_module_version": "1.2.0",
            "_model_name": "LayoutModel",
            "_view_count": null,
            "_view_module": "@jupyter-widgets/base",
            "_view_module_version": "1.2.0",
            "_view_name": "LayoutView",
            "align_content": null,
            "align_items": null,
            "align_self": null,
            "border": null,
            "bottom": null,
            "display": null,
            "flex": null,
            "flex_flow": null,
            "grid_area": null,
            "grid_auto_columns": null,
            "grid_auto_flow": null,
            "grid_auto_rows": null,
            "grid_column": null,
            "grid_gap": null,
            "grid_row": null,
            "grid_template_areas": null,
            "grid_template_columns": null,
            "grid_template_rows": null,
            "height": null,
            "justify_content": null,
            "justify_items": null,
            "left": null,
            "margin": null,
            "max_height": null,
            "max_width": null,
            "min_height": null,
            "min_width": null,
            "object_fit": null,
            "object_position": null,
            "order": null,
            "overflow": null,
            "overflow_x": null,
            "overflow_y": null,
            "padding": null,
            "right": null,
            "top": null,
            "visibility": null,
            "width": null
          }
        },
        "5fa288efc8cb44188b178d8f9812dffd": {
          "model_module": "@jupyter-widgets/controls",
          "model_name": "DescriptionStyleModel",
          "model_module_version": "1.5.0",
          "state": {
            "_model_module": "@jupyter-widgets/controls",
            "_model_module_version": "1.5.0",
            "_model_name": "DescriptionStyleModel",
            "_view_count": null,
            "_view_module": "@jupyter-widgets/base",
            "_view_module_version": "1.2.0",
            "_view_name": "StyleView",
            "description_width": ""
          }
        },
        "9baa2a5931ce4a619c4a3b7202a7887d": {
          "model_module": "@jupyter-widgets/base",
          "model_name": "LayoutModel",
          "model_module_version": "1.2.0",
          "state": {
            "_model_module": "@jupyter-widgets/base",
            "_model_module_version": "1.2.0",
            "_model_name": "LayoutModel",
            "_view_count": null,
            "_view_module": "@jupyter-widgets/base",
            "_view_module_version": "1.2.0",
            "_view_name": "LayoutView",
            "align_content": null,
            "align_items": null,
            "align_self": null,
            "border": null,
            "bottom": null,
            "display": null,
            "flex": null,
            "flex_flow": null,
            "grid_area": null,
            "grid_auto_columns": null,
            "grid_auto_flow": null,
            "grid_auto_rows": null,
            "grid_column": null,
            "grid_gap": null,
            "grid_row": null,
            "grid_template_areas": null,
            "grid_template_columns": null,
            "grid_template_rows": null,
            "height": null,
            "justify_content": null,
            "justify_items": null,
            "left": null,
            "margin": null,
            "max_height": null,
            "max_width": null,
            "min_height": null,
            "min_width": null,
            "object_fit": null,
            "object_position": null,
            "order": null,
            "overflow": null,
            "overflow_x": null,
            "overflow_y": null,
            "padding": null,
            "right": null,
            "top": null,
            "visibility": null,
            "width": null
          }
        },
        "28fbee25d6fb4987bdc9d1ba2b7284fb": {
          "model_module": "@jupyter-widgets/controls",
          "model_name": "ProgressStyleModel",
          "model_module_version": "1.5.0",
          "state": {
            "_model_module": "@jupyter-widgets/controls",
            "_model_module_version": "1.5.0",
            "_model_name": "ProgressStyleModel",
            "_view_count": null,
            "_view_module": "@jupyter-widgets/base",
            "_view_module_version": "1.2.0",
            "_view_name": "StyleView",
            "bar_color": null,
            "description_width": ""
          }
        },
        "62fe3e05797e422782bed53bf666bd31": {
          "model_module": "@jupyter-widgets/base",
          "model_name": "LayoutModel",
          "model_module_version": "1.2.0",
          "state": {
            "_model_module": "@jupyter-widgets/base",
            "_model_module_version": "1.2.0",
            "_model_name": "LayoutModel",
            "_view_count": null,
            "_view_module": "@jupyter-widgets/base",
            "_view_module_version": "1.2.0",
            "_view_name": "LayoutView",
            "align_content": null,
            "align_items": null,
            "align_self": null,
            "border": null,
            "bottom": null,
            "display": null,
            "flex": null,
            "flex_flow": null,
            "grid_area": null,
            "grid_auto_columns": null,
            "grid_auto_flow": null,
            "grid_auto_rows": null,
            "grid_column": null,
            "grid_gap": null,
            "grid_row": null,
            "grid_template_areas": null,
            "grid_template_columns": null,
            "grid_template_rows": null,
            "height": null,
            "justify_content": null,
            "justify_items": null,
            "left": null,
            "margin": null,
            "max_height": null,
            "max_width": null,
            "min_height": null,
            "min_width": null,
            "object_fit": null,
            "object_position": null,
            "order": null,
            "overflow": null,
            "overflow_x": null,
            "overflow_y": null,
            "padding": null,
            "right": null,
            "top": null,
            "visibility": null,
            "width": null
          }
        },
        "2ae0e40e7d3c427db7071a7692b3c739": {
          "model_module": "@jupyter-widgets/controls",
          "model_name": "DescriptionStyleModel",
          "model_module_version": "1.5.0",
          "state": {
            "_model_module": "@jupyter-widgets/controls",
            "_model_module_version": "1.5.0",
            "_model_name": "DescriptionStyleModel",
            "_view_count": null,
            "_view_module": "@jupyter-widgets/base",
            "_view_module_version": "1.2.0",
            "_view_name": "StyleView",
            "description_width": ""
          }
        },
        "5f398d88bbab46428c98412c4ba1ccc8": {
          "model_module": "@jupyter-widgets/controls",
          "model_name": "HBoxModel",
          "model_module_version": "1.5.0",
          "state": {
            "_dom_classes": [],
            "_model_module": "@jupyter-widgets/controls",
            "_model_module_version": "1.5.0",
            "_model_name": "HBoxModel",
            "_view_count": null,
            "_view_module": "@jupyter-widgets/controls",
            "_view_module_version": "1.5.0",
            "_view_name": "HBoxView",
            "box_style": "",
            "children": [
              "IPY_MODEL_ffd9f627542f4f6ca68503feef934d9b",
              "IPY_MODEL_0070e5b0179e41ad8fadeb6e335be5e2",
              "IPY_MODEL_cb3308a778f848408be7ebbfd1e1b507"
            ],
            "layout": "IPY_MODEL_a4a7626d09b44bfca5affae43fdd316c"
          }
        },
        "ffd9f627542f4f6ca68503feef934d9b": {
          "model_module": "@jupyter-widgets/controls",
          "model_name": "HTMLModel",
          "model_module_version": "1.5.0",
          "state": {
            "_dom_classes": [],
            "_model_module": "@jupyter-widgets/controls",
            "_model_module_version": "1.5.0",
            "_model_name": "HTMLModel",
            "_view_count": null,
            "_view_module": "@jupyter-widgets/controls",
            "_view_module_version": "1.5.0",
            "_view_name": "HTMLView",
            "description": "",
            "description_tooltip": null,
            "layout": "IPY_MODEL_e0c9b3d30da24c5a99c8684a4abb6495",
            "placeholder": "​",
            "style": "IPY_MODEL_251c099404424ed4aff42e6eaf2dce6c",
            "value": "tokenizer.json: 100%"
          }
        },
        "0070e5b0179e41ad8fadeb6e335be5e2": {
          "model_module": "@jupyter-widgets/controls",
          "model_name": "FloatProgressModel",
          "model_module_version": "1.5.0",
          "state": {
            "_dom_classes": [],
            "_model_module": "@jupyter-widgets/controls",
            "_model_module_version": "1.5.0",
            "_model_name": "FloatProgressModel",
            "_view_count": null,
            "_view_module": "@jupyter-widgets/controls",
            "_view_module_version": "1.5.0",
            "_view_name": "ProgressView",
            "bar_style": "success",
            "description": "",
            "description_tooltip": null,
            "layout": "IPY_MODEL_4934c7baf33149a4b8ce7b6fd356a43c",
            "max": 466062,
            "min": 0,
            "orientation": "horizontal",
            "style": "IPY_MODEL_ca51012c597641bf8c34730806654032",
            "value": 466062
          }
        },
        "cb3308a778f848408be7ebbfd1e1b507": {
          "model_module": "@jupyter-widgets/controls",
          "model_name": "HTMLModel",
          "model_module_version": "1.5.0",
          "state": {
            "_dom_classes": [],
            "_model_module": "@jupyter-widgets/controls",
            "_model_module_version": "1.5.0",
            "_model_name": "HTMLModel",
            "_view_count": null,
            "_view_module": "@jupyter-widgets/controls",
            "_view_module_version": "1.5.0",
            "_view_name": "HTMLView",
            "description": "",
            "description_tooltip": null,
            "layout": "IPY_MODEL_59c95ce0484544a9a2e8216e56259411",
            "placeholder": "​",
            "style": "IPY_MODEL_3b1f3d85940044e1af9514e862f7f08b",
            "value": " 466k/466k [00:00&lt;00:00, 1.90MB/s]"
          }
        },
        "a4a7626d09b44bfca5affae43fdd316c": {
          "model_module": "@jupyter-widgets/base",
          "model_name": "LayoutModel",
          "model_module_version": "1.2.0",
          "state": {
            "_model_module": "@jupyter-widgets/base",
            "_model_module_version": "1.2.0",
            "_model_name": "LayoutModel",
            "_view_count": null,
            "_view_module": "@jupyter-widgets/base",
            "_view_module_version": "1.2.0",
            "_view_name": "LayoutView",
            "align_content": null,
            "align_items": null,
            "align_self": null,
            "border": null,
            "bottom": null,
            "display": null,
            "flex": null,
            "flex_flow": null,
            "grid_area": null,
            "grid_auto_columns": null,
            "grid_auto_flow": null,
            "grid_auto_rows": null,
            "grid_column": null,
            "grid_gap": null,
            "grid_row": null,
            "grid_template_areas": null,
            "grid_template_columns": null,
            "grid_template_rows": null,
            "height": null,
            "justify_content": null,
            "justify_items": null,
            "left": null,
            "margin": null,
            "max_height": null,
            "max_width": null,
            "min_height": null,
            "min_width": null,
            "object_fit": null,
            "object_position": null,
            "order": null,
            "overflow": null,
            "overflow_x": null,
            "overflow_y": null,
            "padding": null,
            "right": null,
            "top": null,
            "visibility": null,
            "width": null
          }
        },
        "e0c9b3d30da24c5a99c8684a4abb6495": {
          "model_module": "@jupyter-widgets/base",
          "model_name": "LayoutModel",
          "model_module_version": "1.2.0",
          "state": {
            "_model_module": "@jupyter-widgets/base",
            "_model_module_version": "1.2.0",
            "_model_name": "LayoutModel",
            "_view_count": null,
            "_view_module": "@jupyter-widgets/base",
            "_view_module_version": "1.2.0",
            "_view_name": "LayoutView",
            "align_content": null,
            "align_items": null,
            "align_self": null,
            "border": null,
            "bottom": null,
            "display": null,
            "flex": null,
            "flex_flow": null,
            "grid_area": null,
            "grid_auto_columns": null,
            "grid_auto_flow": null,
            "grid_auto_rows": null,
            "grid_column": null,
            "grid_gap": null,
            "grid_row": null,
            "grid_template_areas": null,
            "grid_template_columns": null,
            "grid_template_rows": null,
            "height": null,
            "justify_content": null,
            "justify_items": null,
            "left": null,
            "margin": null,
            "max_height": null,
            "max_width": null,
            "min_height": null,
            "min_width": null,
            "object_fit": null,
            "object_position": null,
            "order": null,
            "overflow": null,
            "overflow_x": null,
            "overflow_y": null,
            "padding": null,
            "right": null,
            "top": null,
            "visibility": null,
            "width": null
          }
        },
        "251c099404424ed4aff42e6eaf2dce6c": {
          "model_module": "@jupyter-widgets/controls",
          "model_name": "DescriptionStyleModel",
          "model_module_version": "1.5.0",
          "state": {
            "_model_module": "@jupyter-widgets/controls",
            "_model_module_version": "1.5.0",
            "_model_name": "DescriptionStyleModel",
            "_view_count": null,
            "_view_module": "@jupyter-widgets/base",
            "_view_module_version": "1.2.0",
            "_view_name": "StyleView",
            "description_width": ""
          }
        },
        "4934c7baf33149a4b8ce7b6fd356a43c": {
          "model_module": "@jupyter-widgets/base",
          "model_name": "LayoutModel",
          "model_module_version": "1.2.0",
          "state": {
            "_model_module": "@jupyter-widgets/base",
            "_model_module_version": "1.2.0",
            "_model_name": "LayoutModel",
            "_view_count": null,
            "_view_module": "@jupyter-widgets/base",
            "_view_module_version": "1.2.0",
            "_view_name": "LayoutView",
            "align_content": null,
            "align_items": null,
            "align_self": null,
            "border": null,
            "bottom": null,
            "display": null,
            "flex": null,
            "flex_flow": null,
            "grid_area": null,
            "grid_auto_columns": null,
            "grid_auto_flow": null,
            "grid_auto_rows": null,
            "grid_column": null,
            "grid_gap": null,
            "grid_row": null,
            "grid_template_areas": null,
            "grid_template_columns": null,
            "grid_template_rows": null,
            "height": null,
            "justify_content": null,
            "justify_items": null,
            "left": null,
            "margin": null,
            "max_height": null,
            "max_width": null,
            "min_height": null,
            "min_width": null,
            "object_fit": null,
            "object_position": null,
            "order": null,
            "overflow": null,
            "overflow_x": null,
            "overflow_y": null,
            "padding": null,
            "right": null,
            "top": null,
            "visibility": null,
            "width": null
          }
        },
        "ca51012c597641bf8c34730806654032": {
          "model_module": "@jupyter-widgets/controls",
          "model_name": "ProgressStyleModel",
          "model_module_version": "1.5.0",
          "state": {
            "_model_module": "@jupyter-widgets/controls",
            "_model_module_version": "1.5.0",
            "_model_name": "ProgressStyleModel",
            "_view_count": null,
            "_view_module": "@jupyter-widgets/base",
            "_view_module_version": "1.2.0",
            "_view_name": "StyleView",
            "bar_color": null,
            "description_width": ""
          }
        },
        "59c95ce0484544a9a2e8216e56259411": {
          "model_module": "@jupyter-widgets/base",
          "model_name": "LayoutModel",
          "model_module_version": "1.2.0",
          "state": {
            "_model_module": "@jupyter-widgets/base",
            "_model_module_version": "1.2.0",
            "_model_name": "LayoutModel",
            "_view_count": null,
            "_view_module": "@jupyter-widgets/base",
            "_view_module_version": "1.2.0",
            "_view_name": "LayoutView",
            "align_content": null,
            "align_items": null,
            "align_self": null,
            "border": null,
            "bottom": null,
            "display": null,
            "flex": null,
            "flex_flow": null,
            "grid_area": null,
            "grid_auto_columns": null,
            "grid_auto_flow": null,
            "grid_auto_rows": null,
            "grid_column": null,
            "grid_gap": null,
            "grid_row": null,
            "grid_template_areas": null,
            "grid_template_columns": null,
            "grid_template_rows": null,
            "height": null,
            "justify_content": null,
            "justify_items": null,
            "left": null,
            "margin": null,
            "max_height": null,
            "max_width": null,
            "min_height": null,
            "min_width": null,
            "object_fit": null,
            "object_position": null,
            "order": null,
            "overflow": null,
            "overflow_x": null,
            "overflow_y": null,
            "padding": null,
            "right": null,
            "top": null,
            "visibility": null,
            "width": null
          }
        },
        "3b1f3d85940044e1af9514e862f7f08b": {
          "model_module": "@jupyter-widgets/controls",
          "model_name": "DescriptionStyleModel",
          "model_module_version": "1.5.0",
          "state": {
            "_model_module": "@jupyter-widgets/controls",
            "_model_module_version": "1.5.0",
            "_model_name": "DescriptionStyleModel",
            "_view_count": null,
            "_view_module": "@jupyter-widgets/base",
            "_view_module_version": "1.2.0",
            "_view_name": "StyleView",
            "description_width": ""
          }
        },
        "d79d3f2324b940ac9c0ed7b7086ccdda": {
          "model_module": "@jupyter-widgets/controls",
          "model_name": "HBoxModel",
          "model_module_version": "1.5.0",
          "state": {
            "_dom_classes": [],
            "_model_module": "@jupyter-widgets/controls",
            "_model_module_version": "1.5.0",
            "_model_name": "HBoxModel",
            "_view_count": null,
            "_view_module": "@jupyter-widgets/controls",
            "_view_module_version": "1.5.0",
            "_view_name": "HBoxView",
            "box_style": "",
            "children": [
              "IPY_MODEL_18811ff279ba45b6a1734cddbe28f6e8",
              "IPY_MODEL_25c6ebcb3a154b3496e8b593b3658e4e",
              "IPY_MODEL_cad1067664e64b9991509e49ce07cb8b"
            ],
            "layout": "IPY_MODEL_070c8c82383d4496af2da9229565f90e"
          }
        },
        "18811ff279ba45b6a1734cddbe28f6e8": {
          "model_module": "@jupyter-widgets/controls",
          "model_name": "HTMLModel",
          "model_module_version": "1.5.0",
          "state": {
            "_dom_classes": [],
            "_model_module": "@jupyter-widgets/controls",
            "_model_module_version": "1.5.0",
            "_model_name": "HTMLModel",
            "_view_count": null,
            "_view_module": "@jupyter-widgets/controls",
            "_view_module_version": "1.5.0",
            "_view_name": "HTMLView",
            "description": "",
            "description_tooltip": null,
            "layout": "IPY_MODEL_3aa3951cc11e4858bdf4b2405f5a0e82",
            "placeholder": "​",
            "style": "IPY_MODEL_e8b97a47095044199138dc7401fffde2",
            "value": "config.json: 100%"
          }
        },
        "25c6ebcb3a154b3496e8b593b3658e4e": {
          "model_module": "@jupyter-widgets/controls",
          "model_name": "FloatProgressModel",
          "model_module_version": "1.5.0",
          "state": {
            "_dom_classes": [],
            "_model_module": "@jupyter-widgets/controls",
            "_model_module_version": "1.5.0",
            "_model_name": "FloatProgressModel",
            "_view_count": null,
            "_view_module": "@jupyter-widgets/controls",
            "_view_module_version": "1.5.0",
            "_view_name": "ProgressView",
            "bar_style": "success",
            "description": "",
            "description_tooltip": null,
            "layout": "IPY_MODEL_eb3d270d4f4c4e7faa7d72817f65373e",
            "max": 483,
            "min": 0,
            "orientation": "horizontal",
            "style": "IPY_MODEL_57fcba955c5d49e8aa712f51b3315ab0",
            "value": 483
          }
        },
        "cad1067664e64b9991509e49ce07cb8b": {
          "model_module": "@jupyter-widgets/controls",
          "model_name": "HTMLModel",
          "model_module_version": "1.5.0",
          "state": {
            "_dom_classes": [],
            "_model_module": "@jupyter-widgets/controls",
            "_model_module_version": "1.5.0",
            "_model_name": "HTMLModel",
            "_view_count": null,
            "_view_module": "@jupyter-widgets/controls",
            "_view_module_version": "1.5.0",
            "_view_name": "HTMLView",
            "description": "",
            "description_tooltip": null,
            "layout": "IPY_MODEL_cb26940e7ed743afbabbf468025095c1",
            "placeholder": "​",
            "style": "IPY_MODEL_9fc54fdd104549ceb619c2f6bd2185b3",
            "value": " 483/483 [00:00&lt;00:00, 8.05kB/s]"
          }
        },
        "070c8c82383d4496af2da9229565f90e": {
          "model_module": "@jupyter-widgets/base",
          "model_name": "LayoutModel",
          "model_module_version": "1.2.0",
          "state": {
            "_model_module": "@jupyter-widgets/base",
            "_model_module_version": "1.2.0",
            "_model_name": "LayoutModel",
            "_view_count": null,
            "_view_module": "@jupyter-widgets/base",
            "_view_module_version": "1.2.0",
            "_view_name": "LayoutView",
            "align_content": null,
            "align_items": null,
            "align_self": null,
            "border": null,
            "bottom": null,
            "display": null,
            "flex": null,
            "flex_flow": null,
            "grid_area": null,
            "grid_auto_columns": null,
            "grid_auto_flow": null,
            "grid_auto_rows": null,
            "grid_column": null,
            "grid_gap": null,
            "grid_row": null,
            "grid_template_areas": null,
            "grid_template_columns": null,
            "grid_template_rows": null,
            "height": null,
            "justify_content": null,
            "justify_items": null,
            "left": null,
            "margin": null,
            "max_height": null,
            "max_width": null,
            "min_height": null,
            "min_width": null,
            "object_fit": null,
            "object_position": null,
            "order": null,
            "overflow": null,
            "overflow_x": null,
            "overflow_y": null,
            "padding": null,
            "right": null,
            "top": null,
            "visibility": null,
            "width": null
          }
        },
        "3aa3951cc11e4858bdf4b2405f5a0e82": {
          "model_module": "@jupyter-widgets/base",
          "model_name": "LayoutModel",
          "model_module_version": "1.2.0",
          "state": {
            "_model_module": "@jupyter-widgets/base",
            "_model_module_version": "1.2.0",
            "_model_name": "LayoutModel",
            "_view_count": null,
            "_view_module": "@jupyter-widgets/base",
            "_view_module_version": "1.2.0",
            "_view_name": "LayoutView",
            "align_content": null,
            "align_items": null,
            "align_self": null,
            "border": null,
            "bottom": null,
            "display": null,
            "flex": null,
            "flex_flow": null,
            "grid_area": null,
            "grid_auto_columns": null,
            "grid_auto_flow": null,
            "grid_auto_rows": null,
            "grid_column": null,
            "grid_gap": null,
            "grid_row": null,
            "grid_template_areas": null,
            "grid_template_columns": null,
            "grid_template_rows": null,
            "height": null,
            "justify_content": null,
            "justify_items": null,
            "left": null,
            "margin": null,
            "max_height": null,
            "max_width": null,
            "min_height": null,
            "min_width": null,
            "object_fit": null,
            "object_position": null,
            "order": null,
            "overflow": null,
            "overflow_x": null,
            "overflow_y": null,
            "padding": null,
            "right": null,
            "top": null,
            "visibility": null,
            "width": null
          }
        },
        "e8b97a47095044199138dc7401fffde2": {
          "model_module": "@jupyter-widgets/controls",
          "model_name": "DescriptionStyleModel",
          "model_module_version": "1.5.0",
          "state": {
            "_model_module": "@jupyter-widgets/controls",
            "_model_module_version": "1.5.0",
            "_model_name": "DescriptionStyleModel",
            "_view_count": null,
            "_view_module": "@jupyter-widgets/base",
            "_view_module_version": "1.2.0",
            "_view_name": "StyleView",
            "description_width": ""
          }
        },
        "eb3d270d4f4c4e7faa7d72817f65373e": {
          "model_module": "@jupyter-widgets/base",
          "model_name": "LayoutModel",
          "model_module_version": "1.2.0",
          "state": {
            "_model_module": "@jupyter-widgets/base",
            "_model_module_version": "1.2.0",
            "_model_name": "LayoutModel",
            "_view_count": null,
            "_view_module": "@jupyter-widgets/base",
            "_view_module_version": "1.2.0",
            "_view_name": "LayoutView",
            "align_content": null,
            "align_items": null,
            "align_self": null,
            "border": null,
            "bottom": null,
            "display": null,
            "flex": null,
            "flex_flow": null,
            "grid_area": null,
            "grid_auto_columns": null,
            "grid_auto_flow": null,
            "grid_auto_rows": null,
            "grid_column": null,
            "grid_gap": null,
            "grid_row": null,
            "grid_template_areas": null,
            "grid_template_columns": null,
            "grid_template_rows": null,
            "height": null,
            "justify_content": null,
            "justify_items": null,
            "left": null,
            "margin": null,
            "max_height": null,
            "max_width": null,
            "min_height": null,
            "min_width": null,
            "object_fit": null,
            "object_position": null,
            "order": null,
            "overflow": null,
            "overflow_x": null,
            "overflow_y": null,
            "padding": null,
            "right": null,
            "top": null,
            "visibility": null,
            "width": null
          }
        },
        "57fcba955c5d49e8aa712f51b3315ab0": {
          "model_module": "@jupyter-widgets/controls",
          "model_name": "ProgressStyleModel",
          "model_module_version": "1.5.0",
          "state": {
            "_model_module": "@jupyter-widgets/controls",
            "_model_module_version": "1.5.0",
            "_model_name": "ProgressStyleModel",
            "_view_count": null,
            "_view_module": "@jupyter-widgets/base",
            "_view_module_version": "1.2.0",
            "_view_name": "StyleView",
            "bar_color": null,
            "description_width": ""
          }
        },
        "cb26940e7ed743afbabbf468025095c1": {
          "model_module": "@jupyter-widgets/base",
          "model_name": "LayoutModel",
          "model_module_version": "1.2.0",
          "state": {
            "_model_module": "@jupyter-widgets/base",
            "_model_module_version": "1.2.0",
            "_model_name": "LayoutModel",
            "_view_count": null,
            "_view_module": "@jupyter-widgets/base",
            "_view_module_version": "1.2.0",
            "_view_name": "LayoutView",
            "align_content": null,
            "align_items": null,
            "align_self": null,
            "border": null,
            "bottom": null,
            "display": null,
            "flex": null,
            "flex_flow": null,
            "grid_area": null,
            "grid_auto_columns": null,
            "grid_auto_flow": null,
            "grid_auto_rows": null,
            "grid_column": null,
            "grid_gap": null,
            "grid_row": null,
            "grid_template_areas": null,
            "grid_template_columns": null,
            "grid_template_rows": null,
            "height": null,
            "justify_content": null,
            "justify_items": null,
            "left": null,
            "margin": null,
            "max_height": null,
            "max_width": null,
            "min_height": null,
            "min_width": null,
            "object_fit": null,
            "object_position": null,
            "order": null,
            "overflow": null,
            "overflow_x": null,
            "overflow_y": null,
            "padding": null,
            "right": null,
            "top": null,
            "visibility": null,
            "width": null
          }
        },
        "9fc54fdd104549ceb619c2f6bd2185b3": {
          "model_module": "@jupyter-widgets/controls",
          "model_name": "DescriptionStyleModel",
          "model_module_version": "1.5.0",
          "state": {
            "_model_module": "@jupyter-widgets/controls",
            "_model_module_version": "1.5.0",
            "_model_name": "DescriptionStyleModel",
            "_view_count": null,
            "_view_module": "@jupyter-widgets/base",
            "_view_module_version": "1.2.0",
            "_view_name": "StyleView",
            "description_width": ""
          }
        },
        "6989ab35569d461081dcbcd7e679bd84": {
          "model_module": "@jupyter-widgets/controls",
          "model_name": "HBoxModel",
          "model_module_version": "1.5.0",
          "state": {
            "_dom_classes": [],
            "_model_module": "@jupyter-widgets/controls",
            "_model_module_version": "1.5.0",
            "_model_name": "HBoxModel",
            "_view_count": null,
            "_view_module": "@jupyter-widgets/controls",
            "_view_module_version": "1.5.0",
            "_view_name": "HBoxView",
            "box_style": "",
            "children": [
              "IPY_MODEL_8de043184e8b4a6493b22de10bb36424",
              "IPY_MODEL_729ad1f521684e049682e14dee6edd1d",
              "IPY_MODEL_ed515a7c44c847f19f753918df3695c6"
            ],
            "layout": "IPY_MODEL_29663b203a424a46aa6a29167d4a57a8"
          }
        },
        "8de043184e8b4a6493b22de10bb36424": {
          "model_module": "@jupyter-widgets/controls",
          "model_name": "HTMLModel",
          "model_module_version": "1.5.0",
          "state": {
            "_dom_classes": [],
            "_model_module": "@jupyter-widgets/controls",
            "_model_module_version": "1.5.0",
            "_model_name": "HTMLModel",
            "_view_count": null,
            "_view_module": "@jupyter-widgets/controls",
            "_view_module_version": "1.5.0",
            "_view_name": "HTMLView",
            "description": "",
            "description_tooltip": null,
            "layout": "IPY_MODEL_8f109131299c4e7f8065542b2dbd8022",
            "placeholder": "​",
            "style": "IPY_MODEL_727dffb972644d14b269d307ea565bdd",
            "value": "model.safetensors: 100%"
          }
        },
        "729ad1f521684e049682e14dee6edd1d": {
          "model_module": "@jupyter-widgets/controls",
          "model_name": "FloatProgressModel",
          "model_module_version": "1.5.0",
          "state": {
            "_dom_classes": [],
            "_model_module": "@jupyter-widgets/controls",
            "_model_module_version": "1.5.0",
            "_model_name": "FloatProgressModel",
            "_view_count": null,
            "_view_module": "@jupyter-widgets/controls",
            "_view_module_version": "1.5.0",
            "_view_name": "ProgressView",
            "bar_style": "success",
            "description": "",
            "description_tooltip": null,
            "layout": "IPY_MODEL_7e828b11c81e4acda51d37b674a213a1",
            "max": 267954768,
            "min": 0,
            "orientation": "horizontal",
            "style": "IPY_MODEL_85b6c5c79f064637832044db507d30fd",
            "value": 267954768
          }
        },
        "ed515a7c44c847f19f753918df3695c6": {
          "model_module": "@jupyter-widgets/controls",
          "model_name": "HTMLModel",
          "model_module_version": "1.5.0",
          "state": {
            "_dom_classes": [],
            "_model_module": "@jupyter-widgets/controls",
            "_model_module_version": "1.5.0",
            "_model_name": "HTMLModel",
            "_view_count": null,
            "_view_module": "@jupyter-widgets/controls",
            "_view_module_version": "1.5.0",
            "_view_name": "HTMLView",
            "description": "",
            "description_tooltip": null,
            "layout": "IPY_MODEL_2f43ba4776f841cd8cfcc5cb125aa8d1",
            "placeholder": "​",
            "style": "IPY_MODEL_7323adebf0064874b951a5cfa06139b1",
            "value": " 268M/268M [00:02&lt;00:00, 80.7MB/s]"
          }
        },
        "29663b203a424a46aa6a29167d4a57a8": {
          "model_module": "@jupyter-widgets/base",
          "model_name": "LayoutModel",
          "model_module_version": "1.2.0",
          "state": {
            "_model_module": "@jupyter-widgets/base",
            "_model_module_version": "1.2.0",
            "_model_name": "LayoutModel",
            "_view_count": null,
            "_view_module": "@jupyter-widgets/base",
            "_view_module_version": "1.2.0",
            "_view_name": "LayoutView",
            "align_content": null,
            "align_items": null,
            "align_self": null,
            "border": null,
            "bottom": null,
            "display": null,
            "flex": null,
            "flex_flow": null,
            "grid_area": null,
            "grid_auto_columns": null,
            "grid_auto_flow": null,
            "grid_auto_rows": null,
            "grid_column": null,
            "grid_gap": null,
            "grid_row": null,
            "grid_template_areas": null,
            "grid_template_columns": null,
            "grid_template_rows": null,
            "height": null,
            "justify_content": null,
            "justify_items": null,
            "left": null,
            "margin": null,
            "max_height": null,
            "max_width": null,
            "min_height": null,
            "min_width": null,
            "object_fit": null,
            "object_position": null,
            "order": null,
            "overflow": null,
            "overflow_x": null,
            "overflow_y": null,
            "padding": null,
            "right": null,
            "top": null,
            "visibility": null,
            "width": null
          }
        },
        "8f109131299c4e7f8065542b2dbd8022": {
          "model_module": "@jupyter-widgets/base",
          "model_name": "LayoutModel",
          "model_module_version": "1.2.0",
          "state": {
            "_model_module": "@jupyter-widgets/base",
            "_model_module_version": "1.2.0",
            "_model_name": "LayoutModel",
            "_view_count": null,
            "_view_module": "@jupyter-widgets/base",
            "_view_module_version": "1.2.0",
            "_view_name": "LayoutView",
            "align_content": null,
            "align_items": null,
            "align_self": null,
            "border": null,
            "bottom": null,
            "display": null,
            "flex": null,
            "flex_flow": null,
            "grid_area": null,
            "grid_auto_columns": null,
            "grid_auto_flow": null,
            "grid_auto_rows": null,
            "grid_column": null,
            "grid_gap": null,
            "grid_row": null,
            "grid_template_areas": null,
            "grid_template_columns": null,
            "grid_template_rows": null,
            "height": null,
            "justify_content": null,
            "justify_items": null,
            "left": null,
            "margin": null,
            "max_height": null,
            "max_width": null,
            "min_height": null,
            "min_width": null,
            "object_fit": null,
            "object_position": null,
            "order": null,
            "overflow": null,
            "overflow_x": null,
            "overflow_y": null,
            "padding": null,
            "right": null,
            "top": null,
            "visibility": null,
            "width": null
          }
        },
        "727dffb972644d14b269d307ea565bdd": {
          "model_module": "@jupyter-widgets/controls",
          "model_name": "DescriptionStyleModel",
          "model_module_version": "1.5.0",
          "state": {
            "_model_module": "@jupyter-widgets/controls",
            "_model_module_version": "1.5.0",
            "_model_name": "DescriptionStyleModel",
            "_view_count": null,
            "_view_module": "@jupyter-widgets/base",
            "_view_module_version": "1.2.0",
            "_view_name": "StyleView",
            "description_width": ""
          }
        },
        "7e828b11c81e4acda51d37b674a213a1": {
          "model_module": "@jupyter-widgets/base",
          "model_name": "LayoutModel",
          "model_module_version": "1.2.0",
          "state": {
            "_model_module": "@jupyter-widgets/base",
            "_model_module_version": "1.2.0",
            "_model_name": "LayoutModel",
            "_view_count": null,
            "_view_module": "@jupyter-widgets/base",
            "_view_module_version": "1.2.0",
            "_view_name": "LayoutView",
            "align_content": null,
            "align_items": null,
            "align_self": null,
            "border": null,
            "bottom": null,
            "display": null,
            "flex": null,
            "flex_flow": null,
            "grid_area": null,
            "grid_auto_columns": null,
            "grid_auto_flow": null,
            "grid_auto_rows": null,
            "grid_column": null,
            "grid_gap": null,
            "grid_row": null,
            "grid_template_areas": null,
            "grid_template_columns": null,
            "grid_template_rows": null,
            "height": null,
            "justify_content": null,
            "justify_items": null,
            "left": null,
            "margin": null,
            "max_height": null,
            "max_width": null,
            "min_height": null,
            "min_width": null,
            "object_fit": null,
            "object_position": null,
            "order": null,
            "overflow": null,
            "overflow_x": null,
            "overflow_y": null,
            "padding": null,
            "right": null,
            "top": null,
            "visibility": null,
            "width": null
          }
        },
        "85b6c5c79f064637832044db507d30fd": {
          "model_module": "@jupyter-widgets/controls",
          "model_name": "ProgressStyleModel",
          "model_module_version": "1.5.0",
          "state": {
            "_model_module": "@jupyter-widgets/controls",
            "_model_module_version": "1.5.0",
            "_model_name": "ProgressStyleModel",
            "_view_count": null,
            "_view_module": "@jupyter-widgets/base",
            "_view_module_version": "1.2.0",
            "_view_name": "StyleView",
            "bar_color": null,
            "description_width": ""
          }
        },
        "2f43ba4776f841cd8cfcc5cb125aa8d1": {
          "model_module": "@jupyter-widgets/base",
          "model_name": "LayoutModel",
          "model_module_version": "1.2.0",
          "state": {
            "_model_module": "@jupyter-widgets/base",
            "_model_module_version": "1.2.0",
            "_model_name": "LayoutModel",
            "_view_count": null,
            "_view_module": "@jupyter-widgets/base",
            "_view_module_version": "1.2.0",
            "_view_name": "LayoutView",
            "align_content": null,
            "align_items": null,
            "align_self": null,
            "border": null,
            "bottom": null,
            "display": null,
            "flex": null,
            "flex_flow": null,
            "grid_area": null,
            "grid_auto_columns": null,
            "grid_auto_flow": null,
            "grid_auto_rows": null,
            "grid_column": null,
            "grid_gap": null,
            "grid_row": null,
            "grid_template_areas": null,
            "grid_template_columns": null,
            "grid_template_rows": null,
            "height": null,
            "justify_content": null,
            "justify_items": null,
            "left": null,
            "margin": null,
            "max_height": null,
            "max_width": null,
            "min_height": null,
            "min_width": null,
            "object_fit": null,
            "object_position": null,
            "order": null,
            "overflow": null,
            "overflow_x": null,
            "overflow_y": null,
            "padding": null,
            "right": null,
            "top": null,
            "visibility": null,
            "width": null
          }
        },
        "7323adebf0064874b951a5cfa06139b1": {
          "model_module": "@jupyter-widgets/controls",
          "model_name": "DescriptionStyleModel",
          "model_module_version": "1.5.0",
          "state": {
            "_model_module": "@jupyter-widgets/controls",
            "_model_module_version": "1.5.0",
            "_model_name": "DescriptionStyleModel",
            "_view_count": null,
            "_view_module": "@jupyter-widgets/base",
            "_view_module_version": "1.2.0",
            "_view_name": "StyleView",
            "description_width": ""
          }
        }
      }
    }
  },
  "nbformat": 4,
  "nbformat_minor": 0
}